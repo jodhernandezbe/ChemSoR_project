{
 "cells": [
  {
   "cell_type": "markdown",
   "id": "e946d178",
   "metadata": {},
   "source": [
    "# Data enrichment"
   ]
  },
  {
   "cell_type": "code",
   "execution_count": 85,
   "id": "0368d7c1",
   "metadata": {},
   "outputs": [],
   "source": [
    "# Importing libraries\n",
    "import os\n",
    "from rdkit import Chem\n",
    "from rdkit.Chem import Descriptors\n",
    "import pandas as pd\n",
    "import requests\n",
    "from dotenv import dotenv_values"
   ]
  },
  {
   "cell_type": "markdown",
   "id": "63202761",
   "metadata": {},
   "source": [
    "## 1. Chemical descriptors\n",
    "\n",
    "Now, let's obtain the chemicals descriptos. For this, [RDKit](https://github.com/rdkit/rdkit) collection of cheminformatics will be used."
   ]
  },
  {
   "cell_type": "code",
   "execution_count": 2,
   "id": "8fb393ff",
   "metadata": {},
   "outputs": [],
   "source": [
    "def rdkit_descriptors():\n",
    "    '''\n",
    "    This is a function for getting the list of all molecular descriptors in RDKit package\n",
    "    '''\n",
    "\n",
    "    # List of attributes to drop\n",
    "    Methods_exception = [\n",
    "                         '_FingerprintDensity',\n",
    "                         '_isCallable', '_runDoctests',\n",
    "                         '_setupDescriptors',\n",
    "                         'setupAUTOCorrDescriptors',\n",
    "                         '_ChargeDescriptors'\n",
    "                         ]\n",
    "\n",
    "    # Getting list of attributes as functions\n",
    "    methods =  {func: getattr(Descriptors, func) for func in dir(Descriptors)\n",
    "                if type(getattr(Descriptors, func)).__name__ == \"function\"\n",
    "                and func not in Methods_exception}\n",
    "    methods = {s: methods[s] for s in sorted(methods)}\n",
    "\n",
    "    return methods"
   ]
  },
  {
   "cell_type": "code",
   "execution_count": 3,
   "id": "c7575d37",
   "metadata": {},
   "outputs": [],
   "source": [
    "def descriptors_for_chemical(SMILES):\n",
    "    '''\n",
    "    This is a function for collecting all the descriptor for a molecule\n",
    "    '''\n",
    "\n",
    "    descriptors = None\n",
    "\n",
    "    # Molecule from SMILES\n",
    "    molecule = Chem.MolFromSmiles(SMILES)\n",
    "\n",
    "    if molecule is not None:\n",
    "        # Molecular descriptors\n",
    "        descriptors = {}\n",
    "        for descriptor_name, descriptor_func in rdkit_descriptors().items():\n",
    "            try:\n",
    "                descriptors.update({descriptor_name: [descriptor_func(molecule)]})\n",
    "            except ZeroDivisionError:\n",
    "                descriptors.update({descriptor_name: None})\n",
    "\n",
    "    return descriptors"
   ]
  },
  {
   "cell_type": "code",
   "execution_count": 4,
   "id": "4790e9aa",
   "metadata": {},
   "outputs": [],
   "source": [
    "def information_for_set_of_chems(\n",
    "                                 col_id,\n",
    "                                 df_chems\n",
    "                                 ):\n",
    "    '''\n",
    "    This is a function to look for the descriptors for all molecules\n",
    "    '''    \n",
    "\n",
    "    # Iterating over the dataframe rows (chemicals)\n",
    "    df_descriptors = pd.DataFrame()\n",
    "    for _, row in df_chems.iterrows():\n",
    "        descriptors = descriptors_for_chemical(row['smiles'])\n",
    "        if descriptors is None:\n",
    "            continue\n",
    "        else:\n",
    "            descriptors.update({col_id: row[col_id]})\n",
    "            df_descriptors = \\\n",
    "                pd.concat([df_descriptors,\n",
    "                        pd.DataFrame(descriptors)])\n",
    "            del descriptors\n",
    "\n",
    "    # Merging descriptors and input parameters\n",
    "    df_chems = pd.merge(df_descriptors,\n",
    "                        df_chems,\n",
    "                        how='right',\n",
    "                        on=col_id)\n",
    "    del df_descriptors\n",
    "\n",
    "    return df_chems"
   ]
  },
  {
   "cell_type": "code",
   "execution_count": 5,
   "id": "1c557d7a",
   "metadata": {},
   "outputs": [],
   "source": [
    "# Opening the dataset\n",
    "\n",
    "df = pd.read_csv(os.path.join(os.getcwd(),\n",
    "            os.pardir,\n",
    "            'data',\n",
    "            'transformed',\n",
    "            'dataset_after_eda.csv'))"
   ]
  },
  {
   "cell_type": "code",
   "execution_count": 6,
   "id": "86b2bd22",
   "metadata": {},
   "outputs": [],
   "source": [
    "# Drop records without SMILES\n",
    "\n",
    "df = df[pd.notnull(df['smiles'])]"
   ]
  },
  {
   "cell_type": "code",
   "execution_count": 7,
   "id": "a431b936",
   "metadata": {},
   "outputs": [
    {
     "data": {
      "text/html": [
       "<div>\n",
       "<style scoped>\n",
       "    .dataframe tbody tr th:only-of-type {\n",
       "        vertical-align: middle;\n",
       "    }\n",
       "\n",
       "    .dataframe tbody tr th {\n",
       "        vertical-align: top;\n",
       "    }\n",
       "\n",
       "    .dataframe thead th {\n",
       "        text-align: right;\n",
       "    }\n",
       "</style>\n",
       "<table border=\"1\" class=\"dataframe\">\n",
       "  <thead>\n",
       "    <tr style=\"text-align: right;\">\n",
       "      <th></th>\n",
       "      <th>source_reduction_general_category</th>\n",
       "      <th>description_code</th>\n",
       "      <th>2_digit_naics</th>\n",
       "      <th>smiles</th>\n",
       "      <th>cas_number</th>\n",
       "      <th>reporting_year</th>\n",
       "    </tr>\n",
       "  </thead>\n",
       "  <tbody>\n",
       "    <tr>\n",
       "      <th>0</th>\n",
       "      <td>Good Operating Practices</td>\n",
       "      <td>greater than or equal 5%, but less than to 15%</td>\n",
       "      <td>Mining, Quarrying, and Oil and Gas Extraction</td>\n",
       "      <td>C=O</td>\n",
       "      <td>50-00-0</td>\n",
       "      <td>2014</td>\n",
       "    </tr>\n",
       "    <tr>\n",
       "      <th>1</th>\n",
       "      <td>Good Operating Practices</td>\n",
       "      <td>greater than or equal 5%, but less than to 15%</td>\n",
       "      <td>Mining, Quarrying, and Oil and Gas Extraction</td>\n",
       "      <td>C(C(CO[N+](=O)[O-])O[N+](=O)[O-])O[N+](=O)[O-]</td>\n",
       "      <td>55-63-0</td>\n",
       "      <td>2014</td>\n",
       "    </tr>\n",
       "    <tr>\n",
       "      <th>2</th>\n",
       "      <td>Good Operating Practices</td>\n",
       "      <td>greater than or equal 5%, but less than to 15%</td>\n",
       "      <td>Mining, Quarrying, and Oil and Gas Extraction</td>\n",
       "      <td>C1=CC=C(C=C1)C2(C(=O)NC(=O)N2)C3=CC=CC=C3</td>\n",
       "      <td>57-41-0</td>\n",
       "      <td>2014</td>\n",
       "    </tr>\n",
       "    <tr>\n",
       "      <th>3</th>\n",
       "      <td>Good Operating Practices</td>\n",
       "      <td>greater than or equal 5%, but less than to 15%</td>\n",
       "      <td>Mining, Quarrying, and Oil and Gas Extraction</td>\n",
       "      <td>C1=CC=C(C=C1)N</td>\n",
       "      <td>62-53-3</td>\n",
       "      <td>2014</td>\n",
       "    </tr>\n",
       "    <tr>\n",
       "      <th>4</th>\n",
       "      <td>Good Operating Practices</td>\n",
       "      <td>greater than or equal 5%, but less than to 15%</td>\n",
       "      <td>Mining, Quarrying, and Oil and Gas Extraction</td>\n",
       "      <td>COP(=O)(OC)OC=C(Cl)Cl</td>\n",
       "      <td>62-73-7</td>\n",
       "      <td>2014</td>\n",
       "    </tr>\n",
       "  </tbody>\n",
       "</table>\n",
       "</div>"
      ],
      "text/plain": [
       "  source_reduction_general_category  \\\n",
       "0          Good Operating Practices   \n",
       "1          Good Operating Practices   \n",
       "2          Good Operating Practices   \n",
       "3          Good Operating Practices   \n",
       "4          Good Operating Practices   \n",
       "\n",
       "                                 description_code  \\\n",
       "0  greater than or equal 5%, but less than to 15%   \n",
       "1  greater than or equal 5%, but less than to 15%   \n",
       "2  greater than or equal 5%, but less than to 15%   \n",
       "3  greater than or equal 5%, but less than to 15%   \n",
       "4  greater than or equal 5%, but less than to 15%   \n",
       "\n",
       "                                   2_digit_naics  \\\n",
       "0  Mining, Quarrying, and Oil and Gas Extraction   \n",
       "1  Mining, Quarrying, and Oil and Gas Extraction   \n",
       "2  Mining, Quarrying, and Oil and Gas Extraction   \n",
       "3  Mining, Quarrying, and Oil and Gas Extraction   \n",
       "4  Mining, Quarrying, and Oil and Gas Extraction   \n",
       "\n",
       "                                           smiles cas_number  reporting_year  \n",
       "0                                             C=O    50-00-0            2014  \n",
       "1  C(C(CO[N+](=O)[O-])O[N+](=O)[O-])O[N+](=O)[O-]    55-63-0            2014  \n",
       "2       C1=CC=C(C=C1)C2(C(=O)NC(=O)N2)C3=CC=CC=C3    57-41-0            2014  \n",
       "3                                  C1=CC=C(C=C1)N    62-53-3            2014  \n",
       "4                           COP(=O)(OC)OC=C(Cl)Cl    62-73-7            2014  "
      ]
     },
     "execution_count": 7,
     "metadata": {},
     "output_type": "execute_result"
    }
   ],
   "source": [
    "df.head()"
   ]
  },
  {
   "cell_type": "code",
   "execution_count": 8,
   "id": "1b511086",
   "metadata": {},
   "outputs": [],
   "source": [
    "# Organizing unique chemicals\n",
    "\n",
    "df_chem = df[['smiles', 'cas_number']].drop_duplicates(keep='first').reset_index(drop=True)\n",
    "df.drop(['smiles'], axis=1, inplace=True)"
   ]
  },
  {
   "cell_type": "code",
   "execution_count": 9,
   "id": "35414601",
   "metadata": {},
   "outputs": [],
   "source": [
    "# Searching for chemical descriptors\n",
    "\n",
    "df_chem = information_for_set_of_chems('cas_number', df_chem)"
   ]
  },
  {
   "cell_type": "code",
   "execution_count": 10,
   "id": "a8613126",
   "metadata": {},
   "outputs": [],
   "source": [
    "# Merging both datasets\n",
    "\n",
    "df = pd.merge(df, df_chem, on='cas_number', how='inner')"
   ]
  },
  {
   "cell_type": "code",
   "execution_count": 11,
   "id": "e92bf398",
   "metadata": {},
   "outputs": [],
   "source": [
    "# Dropping columns that are no longer required\n",
    "\n",
    "df1 = df.drop(['smiles', 'cas_number', 'reporting_year'], axis=1)"
   ]
  },
  {
   "cell_type": "code",
   "execution_count": 12,
   "id": "4b8aa66f",
   "metadata": {},
   "outputs": [],
   "source": [
    "# Saving the result dataset\n",
    "\n",
    "df1.to_csv(os.path.join(os.getcwd(),\n",
    "                        os.pardir,\n",
    "                        'data',\n",
    "                        'transformed',\n",
    "                        'dataset_after_enrichment.csv.zip'),\n",
    "         index=False, \n",
    "         compression='zip')"
   ]
  },
  {
   "cell_type": "markdown",
   "id": "ac1fc1df",
   "metadata": {},
   "source": [
    "## 2. Chemical prices\n",
    "\n",
    "Let's use the prices from Scifinder for the chemicals."
   ]
  },
  {
   "cell_type": "code",
   "execution_count": 13,
   "id": "2f5cc6b8",
   "metadata": {},
   "outputs": [],
   "source": [
    "df.drop(['smiles'], axis=1, inplace=True)"
   ]
  },
  {
   "cell_type": "code",
   "execution_count": 70,
   "id": "01634135",
   "metadata": {},
   "outputs": [],
   "source": [
    "df_prices = pd.read_csv(os.path.join(os.getcwd(),\n",
    "                        os.pardir,\n",
    "                        'scripts',\n",
    "                        'data_acquisition',\n",
    "                        'chem_prices.csv'))"
   ]
  },
  {
   "cell_type": "code",
   "execution_count": 15,
   "id": "a45bee1e",
   "metadata": {},
   "outputs": [
    {
     "data": {
      "text/html": [
       "<div>\n",
       "<style scoped>\n",
       "    .dataframe tbody tr th:only-of-type {\n",
       "        vertical-align: middle;\n",
       "    }\n",
       "\n",
       "    .dataframe tbody tr th {\n",
       "        vertical-align: top;\n",
       "    }\n",
       "\n",
       "    .dataframe thead th {\n",
       "        text-align: right;\n",
       "    }\n",
       "</style>\n",
       "<table border=\"1\" class=\"dataframe\">\n",
       "  <thead>\n",
       "    <tr style=\"text-align: right;\">\n",
       "      <th></th>\n",
       "      <th>price_usd_g</th>\n",
       "      <th>generic_substance_id</th>\n",
       "    </tr>\n",
       "  </thead>\n",
       "  <tbody>\n",
       "    <tr>\n",
       "      <th>0</th>\n",
       "      <td>0.22</td>\n",
       "      <td>78933</td>\n",
       "    </tr>\n",
       "    <tr>\n",
       "      <th>1</th>\n",
       "      <td>0.16</td>\n",
       "      <td>64175</td>\n",
       "    </tr>\n",
       "    <tr>\n",
       "      <th>2</th>\n",
       "      <td>1.32</td>\n",
       "      <td>NA-08</td>\n",
       "    </tr>\n",
       "    <tr>\n",
       "      <th>3</th>\n",
       "      <td>0.11</td>\n",
       "      <td>71432</td>\n",
       "    </tr>\n",
       "    <tr>\n",
       "      <th>4</th>\n",
       "      <td>0.52</td>\n",
       "      <td>NA-10</td>\n",
       "    </tr>\n",
       "  </tbody>\n",
       "</table>\n",
       "</div>"
      ],
      "text/plain": [
       "   price_usd_g generic_substance_id\n",
       "0         0.22                78933\n",
       "1         0.16                64175\n",
       "2         1.32                NA-08\n",
       "3         0.11                71432\n",
       "4         0.52                NA-10"
      ]
     },
     "execution_count": 15,
     "metadata": {},
     "output_type": "execute_result"
    }
   ],
   "source": [
    "df_prices.head()"
   ]
  },
  {
   "cell_type": "code",
   "execution_count": 16,
   "id": "fb13f7dc",
   "metadata": {},
   "outputs": [
    {
     "name": "stdout",
     "output_type": "stream",
     "text": [
      "<class 'pandas.core.frame.DataFrame'>\n",
      "RangeIndex: 643 entries, 0 to 642\n",
      "Data columns (total 2 columns):\n",
      " #   Column                Non-Null Count  Dtype  \n",
      "---  ------                --------------  -----  \n",
      " 0   price_usd_g           643 non-null    float64\n",
      " 1   generic_substance_id  643 non-null    object \n",
      "dtypes: float64(1), object(1)\n",
      "memory usage: 10.2+ KB\n"
     ]
    }
   ],
   "source": [
    "df_prices.info()"
   ]
  },
  {
   "cell_type": "code",
   "execution_count": 17,
   "id": "87c40469",
   "metadata": {},
   "outputs": [],
   "source": [
    "df_prices.rename(columns={'generic_substance_id': 'cas_number'}, inplace=True)"
   ]
  },
  {
   "cell_type": "code",
   "execution_count": 18,
   "id": "7300b952",
   "metadata": {},
   "outputs": [],
   "source": [
    "df_chem['cas_number'] = df_chem['cas_number'].str.replace('-', '')\n",
    "df['cas_number'] = df['cas_number'].str.replace('-', '')"
   ]
  },
  {
   "cell_type": "code",
   "execution_count": 19,
   "id": "424b7eae",
   "metadata": {},
   "outputs": [],
   "source": [
    "df_chem = pd.merge(df_chem, df_prices, on='cas_number', how='left')"
   ]
  },
  {
   "cell_type": "code",
   "execution_count": 20,
   "id": "e56b0a8e",
   "metadata": {},
   "outputs": [
    {
     "data": {
      "text/html": [
       "<div>\n",
       "<style scoped>\n",
       "    .dataframe tbody tr th:only-of-type {\n",
       "        vertical-align: middle;\n",
       "    }\n",
       "\n",
       "    .dataframe tbody tr th {\n",
       "        vertical-align: top;\n",
       "    }\n",
       "\n",
       "    .dataframe thead th {\n",
       "        text-align: right;\n",
       "    }\n",
       "</style>\n",
       "<table border=\"1\" class=\"dataframe\">\n",
       "  <thead>\n",
       "    <tr style=\"text-align: right;\">\n",
       "      <th></th>\n",
       "      <th>cas_number</th>\n",
       "      <th>price_usd_g</th>\n",
       "    </tr>\n",
       "  </thead>\n",
       "  <tbody>\n",
       "    <tr>\n",
       "      <th>20</th>\n",
       "      <td>75025</td>\n",
       "      <td>NaN</td>\n",
       "    </tr>\n",
       "    <tr>\n",
       "      <th>138</th>\n",
       "      <td>22248799</td>\n",
       "      <td>NaN</td>\n",
       "    </tr>\n",
       "    <tr>\n",
       "      <th>182</th>\n",
       "      <td>8021394</td>\n",
       "      <td>NaN</td>\n",
       "    </tr>\n",
       "    <tr>\n",
       "      <th>185</th>\n",
       "      <td>12185103</td>\n",
       "      <td>NaN</td>\n",
       "    </tr>\n",
       "  </tbody>\n",
       "</table>\n",
       "</div>"
      ],
      "text/plain": [
       "    cas_number  price_usd_g\n",
       "20       75025          NaN\n",
       "138   22248799          NaN\n",
       "182    8021394          NaN\n",
       "185   12185103          NaN"
      ]
     },
     "execution_count": 20,
     "metadata": {},
     "output_type": "execute_result"
    }
   ],
   "source": [
    "df_chem.loc[df_chem.price_usd_g.isnull(), ['cas_number', 'price_usd_g']]"
   ]
  },
  {
   "cell_type": "code",
   "execution_count": 21,
   "id": "cb967676",
   "metadata": {},
   "outputs": [],
   "source": [
    "# Lazy and fast imputation using median\n",
    "\n",
    "df_chem.loc[df_chem.price_usd_g.isnull(), 'price_usd_g'] = df_chem.price_usd_g.median()"
   ]
  },
  {
   "cell_type": "code",
   "execution_count": 22,
   "id": "467de447",
   "metadata": {},
   "outputs": [],
   "source": [
    "df = pd.merge(df, df_chem[['cas_number', 'price_usd_g']], on='cas_number', how='left')"
   ]
  },
  {
   "cell_type": "code",
   "execution_count": 23,
   "id": "8710d948",
   "metadata": {},
   "outputs": [
    {
     "name": "stdout",
     "output_type": "stream",
     "text": [
      "<class 'pandas.core.frame.DataFrame'>\n",
      "Int64Index: 965300 entries, 0 to 965299\n",
      "Columns: 406 entries, source_reduction_general_category to price_usd_g\n",
      "dtypes: float64(297), int64(105), object(4)\n",
      "memory usage: 2.9+ GB\n"
     ]
    }
   ],
   "source": [
    "df.info()"
   ]
  },
  {
   "cell_type": "code",
   "execution_count": 101,
   "id": "4454f79b",
   "metadata": {},
   "outputs": [],
   "source": [
    "# As Public Administration (not covered in economic census) is not in census, it must be removed\n",
    "\n",
    "df = df[df['2_digit_naics'] != 'Public Administration (not covered in economic census)']"
   ]
  },
  {
   "cell_type": "markdown",
   "id": "533c83a8",
   "metadata": {},
   "source": [
    "## 3. Gross value added\n",
    "\n",
    "Let's know using information from the U.S. Bureau of Economic Analysis (BEA) to obtain the Gross Domestic Product by Industry."
   ]
  },
  {
   "cell_type": "code",
   "execution_count": 102,
   "id": "e18488fd",
   "metadata": {},
   "outputs": [],
   "source": [
    "naics_dict = {\n",
    "    'Agriculture, Forestry, Fishing and Hunting (not covered in economic census)': '11',\n",
    "    'Mining, Quarrying, and Oil and Gas Extraction': '21',\n",
    "    'Utilities': '22',\n",
    "    'Manufacturing': '31ND',\n",
    "    'Wholesale Trade': '42',\n",
    "    'Transportation and Warehousing': '48TW',\n",
    "    'Information': '51',\n",
    "    'Professional, Scientific, and Technical Services': '54',\n",
    "    'Administrative and Support and Waste Management and Remediation Services': '56',\n",
    "    'Educational Services': '61',\n",
    "    'Health Care and Social Assistance': '62',\n",
    "    'Other Services (except Public Administration)': '81',\n",
    "}"
   ]
  },
  {
   "cell_type": "code",
   "execution_count": 124,
   "id": "7341386a",
   "metadata": {},
   "outputs": [],
   "source": [
    "def getting_gpd(Year, Industry, UserID):\n",
    "    '''\n",
    "    Function to request the GPD by Industry Sector\n",
    "    '''\n",
    "    \n",
    "    url = f'https://apps.bea.gov/api/data/?&UserID={UserID}&method=GetData&DataSetName=GDPbyIndustry&Frequency=A&Industry={Industry}&TableID=1&Year={Year}'\n",
    "\n",
    "    response = requests.get(url)\n",
    "    \n",
    "    if response.status_code == 200:\n",
    "        \n",
    "        return float(response.json()['BEAAPI']['Results'][0]['Data'][0]['DataValue'])\n",
    "        \n",
    "    else:\n",
    "        \n",
    "        return None\n",
    "        raise ValueError(f'Error: {response.status_code}')\n",
    "        "
   ]
  },
  {
   "cell_type": "code",
   "execution_count": 116,
   "id": "fb746d3c",
   "metadata": {},
   "outputs": [],
   "source": [
    "# Loading the UserID for using BEA info\n",
    "\n",
    "config = dotenv_values(os.path.join(os.getcwd(),\n",
    "                        os.pardir,\n",
    "                        '.env'))\n",
    "\n",
    "USERID = config['USERID']"
   ]
  },
  {
   "cell_type": "code",
   "execution_count": 125,
   "id": "fca1c1d9",
   "metadata": {},
   "outputs": [],
   "source": [
    "df_industry = df[['2_digit_naics', 'reporting_year']].drop_duplicates(keep='first')"
   ]
  },
  {
   "cell_type": "code",
   "execution_count": 126,
   "id": "09ef5a28",
   "metadata": {},
   "outputs": [],
   "source": [
    "# Searching for GDP by Industry\n",
    "\n",
    "df_industry['gdp'] = df_industry.apply(lambda row: getting_gpd(row['reporting_year'],\n",
    "                                         naics_dict[row['2_digit_naics']],\n",
    "                                         USERID),\n",
    "                  axis=1)"
   ]
  },
  {
   "cell_type": "code",
   "execution_count": 127,
   "id": "fdde5a43",
   "metadata": {},
   "outputs": [
    {
     "name": "stdout",
     "output_type": "stream",
     "text": [
      "<class 'pandas.core.frame.DataFrame'>\n",
      "Int64Index: 46 entries, 0 to 4890\n",
      "Data columns (total 3 columns):\n",
      " #   Column          Non-Null Count  Dtype  \n",
      "---  ------          --------------  -----  \n",
      " 0   2_digit_naics   46 non-null     object \n",
      " 1   reporting_year  46 non-null     int64  \n",
      " 2   gdp             46 non-null     float64\n",
      "dtypes: float64(1), int64(1), object(1)\n",
      "memory usage: 1.4+ KB\n"
     ]
    }
   ],
   "source": [
    "df_industry.info()"
   ]
  },
  {
   "cell_type": "code",
   "execution_count": 128,
   "id": "102533e7",
   "metadata": {},
   "outputs": [],
   "source": [
    "df = pd.merge(df, df_industry, on=['2_digit_naics', 'reporting_year'], how='left')"
   ]
  },
  {
   "cell_type": "code",
   "execution_count": 129,
   "id": "efc5d79a",
   "metadata": {},
   "outputs": [],
   "source": [
    "df.drop(['reporting_year', 'cas_number'], axis=1, inplace=True)"
   ]
  },
  {
   "cell_type": "code",
   "execution_count": null,
   "id": "f68f835f",
   "metadata": {},
   "outputs": [],
   "source": [
    "# Saving the result dataset\n",
    "\n",
    "df.to_csv(os.path.join(os.getcwd(),\n",
    "                        os.pardir,\n",
    "                        'data',\n",
    "                        'transformed',\n",
    "                        'dataset_after_enrichment_economic_vals.csv.zip'),\n",
    "         index=False, \n",
    "         compression='zip')"
   ]
  }
 ],
 "metadata": {
  "kernelspec": {
   "display_name": "Python 3",
   "language": "python",
   "name": "python3"
  },
  "language_info": {
   "codemirror_mode": {
    "name": "ipython",
    "version": 3
   },
   "file_extension": ".py",
   "mimetype": "text/x-python",
   "name": "python",
   "nbconvert_exporter": "python",
   "pygments_lexer": "ipython3",
   "version": "3.6.15"
  }
 },
 "nbformat": 4,
 "nbformat_minor": 5
}
