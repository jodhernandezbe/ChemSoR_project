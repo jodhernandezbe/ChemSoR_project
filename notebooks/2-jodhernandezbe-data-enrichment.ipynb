{
 "cells": [
  {
   "cell_type": "markdown",
   "id": "e946d178",
   "metadata": {},
   "source": [
    "# Data enrichment\n",
    "\n",
    "Now, let's obtain the chemicals descriptos. For this, [RDKit](https://github.com/rdkit/rdkit) collection of cheminformatics will be used."
   ]
  },
  {
   "cell_type": "code",
   "execution_count": 1,
   "id": "0368d7c1",
   "metadata": {},
   "outputs": [],
   "source": [
    "# Importing libraries\n",
    "import os\n",
    "from rdkit import Chem\n",
    "from rdkit.Chem import Descriptors\n",
    "import pandas as pd"
   ]
  },
  {
   "cell_type": "code",
   "execution_count": 2,
   "id": "8fb393ff",
   "metadata": {},
   "outputs": [],
   "source": [
    "def rdkit_descriptors():\n",
    "    '''\n",
    "    This is a function for getting the list of all molecular descriptors in RDKit package\n",
    "    '''\n",
    "\n",
    "    # List of attributes to drop\n",
    "    Methods_exception = [\n",
    "                         '_FingerprintDensity',\n",
    "                         '_isCallable', '_runDoctests',\n",
    "                         '_setupDescriptors',\n",
    "                         'setupAUTOCorrDescriptors',\n",
    "                         '_ChargeDescriptors'\n",
    "                         ]\n",
    "\n",
    "    # Getting list of attributes as functions\n",
    "    methods =  {func: getattr(Descriptors, func) for func in dir(Descriptors)\n",
    "                if type(getattr(Descriptors, func)).__name__ == \"function\"\n",
    "                and func not in Methods_exception}\n",
    "    methods = {s: methods[s] for s in sorted(methods)}\n",
    "\n",
    "    return methods"
   ]
  },
  {
   "cell_type": "code",
   "execution_count": 3,
   "id": "c7575d37",
   "metadata": {},
   "outputs": [],
   "source": [
    "def descriptors_for_chemical(SMILES):\n",
    "    '''\n",
    "    This is a function for collecting all the descriptor for a molecule\n",
    "    '''\n",
    "\n",
    "    descriptors = None\n",
    "\n",
    "    # Molecule from SMILES\n",
    "    molecule = Chem.MolFromSmiles(SMILES)\n",
    "\n",
    "    if molecule is not None:\n",
    "        # Molecular descriptors\n",
    "        descriptors = {}\n",
    "        for descriptor_name, descriptor_func in rdkit_descriptors().items():\n",
    "            try:\n",
    "                descriptors.update({descriptor_name: [descriptor_func(molecule)]})\n",
    "            except ZeroDivisionError:\n",
    "                descriptors.update({descriptor_name: None})\n",
    "\n",
    "    return descriptors"
   ]
  },
  {
   "cell_type": "code",
   "execution_count": 4,
   "id": "4790e9aa",
   "metadata": {},
   "outputs": [],
   "source": [
    "def information_for_set_of_chems(\n",
    "                                 col_id,\n",
    "                                 df_chems\n",
    "                                 ):\n",
    "    '''\n",
    "    This is a function to look for the descriptors for all molecules\n",
    "    '''    \n",
    "\n",
    "    # Iterating over the dataframe rows (chemicals)\n",
    "    df_descriptors = pd.DataFrame()\n",
    "    for _, row in df_chems.iterrows():\n",
    "        descriptors = descriptors_for_chemical(row['smiles'])\n",
    "        if descriptors is None:\n",
    "            continue\n",
    "        else:\n",
    "            descriptors.update({col_id: row[col_id]})\n",
    "            df_descriptors = \\\n",
    "                pd.concat([df_descriptors,\n",
    "                        pd.DataFrame(descriptors)])\n",
    "            del descriptors\n",
    "\n",
    "    # Merging descriptors and input parameters\n",
    "    df_chems = pd.merge(df_descriptors,\n",
    "                        df_chems,\n",
    "                        how='right',\n",
    "                        on=col_id)\n",
    "    del df_descriptors\n",
    "\n",
    "    return df_chems"
   ]
  },
  {
   "cell_type": "code",
   "execution_count": 5,
   "id": "1c557d7a",
   "metadata": {},
   "outputs": [],
   "source": [
    "# Opening the dataset\n",
    "\n",
    "df = pd.read_csv(os.path.join(os.getcwd(),\n",
    "            os.pardir,\n",
    "            'data',\n",
    "            'transformed',\n",
    "            'dataset_after_eda.csv'))"
   ]
  },
  {
   "cell_type": "code",
   "execution_count": 6,
   "id": "86b2bd22",
   "metadata": {},
   "outputs": [],
   "source": [
    "# Drop records without SMILES\n",
    "\n",
    "df = df[pd.notnull(df['smiles'])]"
   ]
  },
  {
   "cell_type": "code",
   "execution_count": 7,
   "id": "a431b936",
   "metadata": {},
   "outputs": [
    {
     "data": {
      "text/html": [
       "<div>\n",
       "<style scoped>\n",
       "    .dataframe tbody tr th:only-of-type {\n",
       "        vertical-align: middle;\n",
       "    }\n",
       "\n",
       "    .dataframe tbody tr th {\n",
       "        vertical-align: top;\n",
       "    }\n",
       "\n",
       "    .dataframe thead th {\n",
       "        text-align: right;\n",
       "    }\n",
       "</style>\n",
       "<table border=\"1\" class=\"dataframe\">\n",
       "  <thead>\n",
       "    <tr style=\"text-align: right;\">\n",
       "      <th></th>\n",
       "      <th>source_reduction_general_category</th>\n",
       "      <th>description_code</th>\n",
       "      <th>2_digit_naics</th>\n",
       "      <th>smiles</th>\n",
       "      <th>cas_number</th>\n",
       "    </tr>\n",
       "  </thead>\n",
       "  <tbody>\n",
       "    <tr>\n",
       "      <th>0</th>\n",
       "      <td>Good Operating Practices</td>\n",
       "      <td>greater than or equal 5%, but less than to 15%</td>\n",
       "      <td>Mining, Quarrying, and Oil and Gas Extraction</td>\n",
       "      <td>C=O</td>\n",
       "      <td>50-00-0</td>\n",
       "    </tr>\n",
       "    <tr>\n",
       "      <th>1</th>\n",
       "      <td>Good Operating Practices</td>\n",
       "      <td>greater than or equal 5%, but less than to 15%</td>\n",
       "      <td>Mining, Quarrying, and Oil and Gas Extraction</td>\n",
       "      <td>C(C(CO[N+](=O)[O-])O[N+](=O)[O-])O[N+](=O)[O-]</td>\n",
       "      <td>55-63-0</td>\n",
       "    </tr>\n",
       "    <tr>\n",
       "      <th>2</th>\n",
       "      <td>Good Operating Practices</td>\n",
       "      <td>greater than or equal 5%, but less than to 15%</td>\n",
       "      <td>Mining, Quarrying, and Oil and Gas Extraction</td>\n",
       "      <td>C1=CC=C(C=C1)C2(C(=O)NC(=O)N2)C3=CC=CC=C3</td>\n",
       "      <td>57-41-0</td>\n",
       "    </tr>\n",
       "    <tr>\n",
       "      <th>3</th>\n",
       "      <td>Good Operating Practices</td>\n",
       "      <td>greater than or equal 5%, but less than to 15%</td>\n",
       "      <td>Mining, Quarrying, and Oil and Gas Extraction</td>\n",
       "      <td>C1=CC=C(C=C1)N</td>\n",
       "      <td>62-53-3</td>\n",
       "    </tr>\n",
       "    <tr>\n",
       "      <th>4</th>\n",
       "      <td>Good Operating Practices</td>\n",
       "      <td>greater than or equal 5%, but less than to 15%</td>\n",
       "      <td>Mining, Quarrying, and Oil and Gas Extraction</td>\n",
       "      <td>COP(=O)(OC)OC=C(Cl)Cl</td>\n",
       "      <td>62-73-7</td>\n",
       "    </tr>\n",
       "  </tbody>\n",
       "</table>\n",
       "</div>"
      ],
      "text/plain": [
       "  source_reduction_general_category  \\\n",
       "0          Good Operating Practices   \n",
       "1          Good Operating Practices   \n",
       "2          Good Operating Practices   \n",
       "3          Good Operating Practices   \n",
       "4          Good Operating Practices   \n",
       "\n",
       "                                 description_code  \\\n",
       "0  greater than or equal 5%, but less than to 15%   \n",
       "1  greater than or equal 5%, but less than to 15%   \n",
       "2  greater than or equal 5%, but less than to 15%   \n",
       "3  greater than or equal 5%, but less than to 15%   \n",
       "4  greater than or equal 5%, but less than to 15%   \n",
       "\n",
       "                                   2_digit_naics  \\\n",
       "0  Mining, Quarrying, and Oil and Gas Extraction   \n",
       "1  Mining, Quarrying, and Oil and Gas Extraction   \n",
       "2  Mining, Quarrying, and Oil and Gas Extraction   \n",
       "3  Mining, Quarrying, and Oil and Gas Extraction   \n",
       "4  Mining, Quarrying, and Oil and Gas Extraction   \n",
       "\n",
       "                                           smiles cas_number  \n",
       "0                                             C=O    50-00-0  \n",
       "1  C(C(CO[N+](=O)[O-])O[N+](=O)[O-])O[N+](=O)[O-]    55-63-0  \n",
       "2       C1=CC=C(C=C1)C2(C(=O)NC(=O)N2)C3=CC=CC=C3    57-41-0  \n",
       "3                                  C1=CC=C(C=C1)N    62-53-3  \n",
       "4                           COP(=O)(OC)OC=C(Cl)Cl    62-73-7  "
      ]
     },
     "execution_count": 7,
     "metadata": {},
     "output_type": "execute_result"
    }
   ],
   "source": [
    "df.head()"
   ]
  },
  {
   "cell_type": "code",
   "execution_count": 9,
   "id": "1b511086",
   "metadata": {},
   "outputs": [],
   "source": [
    "# Organizing unique chemicals\n",
    "\n",
    "df_chem = df[['smiles', 'cas_number']].drop_duplicates(keep='first').reset_index(drop=True)\n",
    "df.drop(['smiles'], axis=1, inplace=True)"
   ]
  },
  {
   "cell_type": "code",
   "execution_count": 10,
   "id": "35414601",
   "metadata": {},
   "outputs": [],
   "source": [
    "# Searching for chemical descriptors\n",
    "\n",
    "df_chem = information_for_set_of_chems('cas_number', df_chem)"
   ]
  },
  {
   "cell_type": "code",
   "execution_count": 11,
   "id": "a8613126",
   "metadata": {},
   "outputs": [],
   "source": [
    "# Merging both datasets\n",
    "\n",
    "df = pd.merge(df, df_chem, on='cas_number', how='inner')"
   ]
  },
  {
   "cell_type": "code",
   "execution_count": 13,
   "id": "e92bf398",
   "metadata": {},
   "outputs": [],
   "source": [
    "# Dropping columns that are no longer required\n",
    "\n",
    "df.drop(['smiles', 'cas_number'], axis=1, inplace=True)"
   ]
  },
  {
   "cell_type": "code",
   "execution_count": null,
   "id": "4b8aa66f",
   "metadata": {},
   "outputs": [],
   "source": [
    "# Saving the result dataset\n",
    "\n",
    "df.to_csv(os.path.join(os.getcwd(),\n",
    "                        os.pardir,\n",
    "                        'data',\n",
    "                        'transformed',\n",
    "                        'dataset_after_enrichment.csv.zip'),\n",
    "         index=False, \n",
    "         compression='zip')"
   ]
  }
 ],
 "metadata": {
  "kernelspec": {
   "display_name": "Python 3",
   "language": "python",
   "name": "python3"
  },
  "language_info": {
   "codemirror_mode": {
    "name": "ipython",
    "version": 3
   },
   "file_extension": ".py",
   "mimetype": "text/x-python",
   "name": "python",
   "nbconvert_exporter": "python",
   "pygments_lexer": "ipython3",
   "version": "3.6.15"
  }
 },
 "nbformat": 4,
 "nbformat_minor": 5
}
