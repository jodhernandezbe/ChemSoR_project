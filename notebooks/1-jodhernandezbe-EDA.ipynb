{
 "cells": [
  {
   "cell_type": "markdown",
   "id": "brief-first",
   "metadata": {},
   "source": [
    "# Exploratory Data Analysis (EDA)"
   ]
  },
  {
   "cell_type": "markdown",
   "id": "suspected-pennsylvania",
   "metadata": {},
   "source": [
    "This notebook contains the EDA performed for obtaining insights from the ChemSoR database as prior step to build ML models."
   ]
  },
  {
   "cell_type": "code",
   "execution_count": 102,
   "id": "blocked-buffalo",
   "metadata": {},
   "outputs": [],
   "source": [
    "# Importing libraries\n",
    "%matplotlib inline\n",
    "import pandas as pd\n",
    "import os\n",
    "from sqlalchemy import create_engine\n",
    "import matplotlib.pyplot as plt\n",
    "import matplotlib.colors as mcolors"
   ]
  },
  {
   "cell_type": "markdown",
   "id": "saved-authority",
   "metadata": {},
   "source": [
    "## 1. Opening the database"
   ]
  },
  {
   "cell_type": "code",
   "execution_count": 24,
   "id": "latest-tunnel",
   "metadata": {},
   "outputs": [],
   "source": [
    "def create_engine_instance():\n",
    "    '''\n",
    "    Function to create an SQL engine\n",
    "    '''\n",
    "    \n",
    "    # ChemSoR_database.db path\n",
    "    chemsor_path = os.path.join(os. getcwd(),\n",
    "                                os.pardir,\n",
    "                                'data',\n",
    "                                'transformed',\n",
    "                                'ChemSoR_database.db')\n",
    "    \n",
    "    # URL string\n",
    "    url = f'sqlite:///{chemsor_path}'\n",
    "\n",
    "    # Creating engine\n",
    "    engine = create_engine(url)\n",
    "\n",
    "    return engine"
   ]
  },
  {
   "cell_type": "code",
   "execution_count": 25,
   "id": "native-stress",
   "metadata": {},
   "outputs": [],
   "source": [
    "def opening_dataset():\n",
    "    '''\n",
    "    Function to open dataset based on sql query\n",
    "    '''\n",
    "\n",
    "    # Creating connection\n",
    "    engine = create_engine_instance()\n",
    "    \n",
    "    # Query for only selecting the desired columns\n",
    "    sql_query = '''\n",
    "                SELECT r.reporting_year,\n",
    "                       r.naics_code,\n",
    "                       sra.source_reduction_code,\n",
    "                       sra.source_reduction_description,\n",
    "                       re.reduction_code,\n",
    "                       re.description_code,\n",
    "                       c.chemical_name,\n",
    "                       c.caac_ind,\n",
    "                       c.carc_ind,\n",
    "                       c.pfas_ind,\n",
    "                       c.metal_ind\n",
    "                FROM record AS r\n",
    "                INNER JOIN source_reduction_activity AS sra\n",
    "                ON r.source_reduction_activity_id = sra.source_reduction_activity_id\n",
    "                INNER JOIN reduction AS re\n",
    "                ON r.reduction_id = re.reduction_id\n",
    "                INNER JOIN chemical AS c\n",
    "                ON r.chemical_id\n",
    "                '''\n",
    "    \n",
    "    # Fetching the information\n",
    "    df = pd.read_sql_query(sql_query, engine)\n",
    "    \n",
    "    return df"
   ]
  },
  {
   "cell_type": "code",
   "execution_count": 26,
   "id": "hourly-transmission",
   "metadata": {},
   "outputs": [],
   "source": [
    "df = opening_dataset()"
   ]
  },
  {
   "cell_type": "code",
   "execution_count": 80,
   "id": "d4d0dcfa",
   "metadata": {},
   "outputs": [],
   "source": [
    "df.drop_duplicates(keep='first', inplace=True)"
   ]
  },
  {
   "cell_type": "markdown",
   "id": "2dfab8d8",
   "metadata": {},
   "source": [
    "## 2. General dataset analysis"
   ]
  },
  {
   "cell_type": "code",
   "execution_count": 81,
   "id": "14168491",
   "metadata": {},
   "outputs": [
    {
     "data": {
      "text/html": [
       "<div>\n",
       "<style scoped>\n",
       "    .dataframe tbody tr th:only-of-type {\n",
       "        vertical-align: middle;\n",
       "    }\n",
       "\n",
       "    .dataframe tbody tr th {\n",
       "        vertical-align: top;\n",
       "    }\n",
       "\n",
       "    .dataframe thead th {\n",
       "        text-align: right;\n",
       "    }\n",
       "</style>\n",
       "<table border=\"1\" class=\"dataframe\">\n",
       "  <thead>\n",
       "    <tr style=\"text-align: right;\">\n",
       "      <th></th>\n",
       "      <th>reporting_year</th>\n",
       "      <th>naics_code</th>\n",
       "      <th>source_reduction_code</th>\n",
       "      <th>source_reduction_description</th>\n",
       "      <th>reduction_code</th>\n",
       "      <th>description_code</th>\n",
       "      <th>chemical_name</th>\n",
       "      <th>caac_ind</th>\n",
       "      <th>carc_ind</th>\n",
       "      <th>pfas_ind</th>\n",
       "      <th>metal_ind</th>\n",
       "    </tr>\n",
       "  </thead>\n",
       "  <tbody>\n",
       "    <tr>\n",
       "      <th>0</th>\n",
       "      <td>2014</td>\n",
       "      <td>212111</td>\n",
       "      <td>W19</td>\n",
       "      <td>Other changes in operating practices</td>\n",
       "      <td>R5</td>\n",
       "      <td>greater than or equal 5%, but less than to 15%</td>\n",
       "      <td>Formaldehyde</td>\n",
       "      <td>YES</td>\n",
       "      <td>YES</td>\n",
       "      <td>NO</td>\n",
       "      <td>NO</td>\n",
       "    </tr>\n",
       "    <tr>\n",
       "      <th>1</th>\n",
       "      <td>2014</td>\n",
       "      <td>212111</td>\n",
       "      <td>W19</td>\n",
       "      <td>Other changes in operating practices</td>\n",
       "      <td>R5</td>\n",
       "      <td>greater than or equal 5%, but less than to 15%</td>\n",
       "      <td>Nitroglycerin</td>\n",
       "      <td>NO</td>\n",
       "      <td>NO</td>\n",
       "      <td>NO</td>\n",
       "      <td>NO</td>\n",
       "    </tr>\n",
       "    <tr>\n",
       "      <th>2</th>\n",
       "      <td>2014</td>\n",
       "      <td>212111</td>\n",
       "      <td>W19</td>\n",
       "      <td>Other changes in operating practices</td>\n",
       "      <td>R5</td>\n",
       "      <td>greater than or equal 5%, but less than to 15%</td>\n",
       "      <td>Phenytoin</td>\n",
       "      <td>NO</td>\n",
       "      <td>YES</td>\n",
       "      <td>NO</td>\n",
       "      <td>NO</td>\n",
       "    </tr>\n",
       "    <tr>\n",
       "      <th>3</th>\n",
       "      <td>2014</td>\n",
       "      <td>212111</td>\n",
       "      <td>W19</td>\n",
       "      <td>Other changes in operating practices</td>\n",
       "      <td>R5</td>\n",
       "      <td>greater than or equal 5%, but less than to 15%</td>\n",
       "      <td>Aniline</td>\n",
       "      <td>YES</td>\n",
       "      <td>NO</td>\n",
       "      <td>NO</td>\n",
       "      <td>NO</td>\n",
       "    </tr>\n",
       "    <tr>\n",
       "      <th>4</th>\n",
       "      <td>2014</td>\n",
       "      <td>212111</td>\n",
       "      <td>W19</td>\n",
       "      <td>Other changes in operating practices</td>\n",
       "      <td>R5</td>\n",
       "      <td>greater than or equal 5%, but less than to 15%</td>\n",
       "      <td>Dichlorvos</td>\n",
       "      <td>YES</td>\n",
       "      <td>YES</td>\n",
       "      <td>NO</td>\n",
       "      <td>NO</td>\n",
       "    </tr>\n",
       "  </tbody>\n",
       "</table>\n",
       "</div>"
      ],
      "text/plain": [
       "   reporting_year  naics_code source_reduction_code  \\\n",
       "0            2014      212111                   W19   \n",
       "1            2014      212111                   W19   \n",
       "2            2014      212111                   W19   \n",
       "3            2014      212111                   W19   \n",
       "4            2014      212111                   W19   \n",
       "\n",
       "           source_reduction_description reduction_code  \\\n",
       "0  Other changes in operating practices             R5   \n",
       "1  Other changes in operating practices             R5   \n",
       "2  Other changes in operating practices             R5   \n",
       "3  Other changes in operating practices             R5   \n",
       "4  Other changes in operating practices             R5   \n",
       "\n",
       "                                 description_code  chemical_name caac_ind  \\\n",
       "0  greater than or equal 5%, but less than to 15%   Formaldehyde      YES   \n",
       "1  greater than or equal 5%, but less than to 15%  Nitroglycerin       NO   \n",
       "2  greater than or equal 5%, but less than to 15%      Phenytoin       NO   \n",
       "3  greater than or equal 5%, but less than to 15%        Aniline      YES   \n",
       "4  greater than or equal 5%, but less than to 15%     Dichlorvos      YES   \n",
       "\n",
       "  carc_ind pfas_ind metal_ind  \n",
       "0      YES       NO        NO  \n",
       "1       NO       NO        NO  \n",
       "2      YES       NO        NO  \n",
       "3       NO       NO        NO  \n",
       "4      YES       NO        NO  "
      ]
     },
     "execution_count": 81,
     "metadata": {},
     "output_type": "execute_result"
    }
   ],
   "source": [
    "df.head()"
   ]
  },
  {
   "cell_type": "code",
   "execution_count": 82,
   "id": "3d724921",
   "metadata": {},
   "outputs": [
    {
     "name": "stdout",
     "output_type": "stream",
     "text": [
      "<class 'pandas.core.frame.DataFrame'>\n",
      "Int64Index: 980000 entries, 0 to 1302199\n",
      "Data columns (total 11 columns):\n",
      " #   Column                        Non-Null Count   Dtype \n",
      "---  ------                        --------------   ----- \n",
      " 0   reporting_year                980000 non-null  int64 \n",
      " 1   naics_code                    980000 non-null  int64 \n",
      " 2   source_reduction_code         980000 non-null  object\n",
      " 3   source_reduction_description  980000 non-null  object\n",
      " 4   reduction_code                980000 non-null  object\n",
      " 5   description_code              980000 non-null  object\n",
      " 6   chemical_name                 980000 non-null  object\n",
      " 7   caac_ind                      980000 non-null  object\n",
      " 8   carc_ind                      980000 non-null  object\n",
      " 9   pfas_ind                      980000 non-null  object\n",
      " 10  metal_ind                     980000 non-null  object\n",
      "dtypes: int64(2), object(9)\n",
      "memory usage: 89.7+ MB\n"
     ]
    }
   ],
   "source": [
    "df.info()"
   ]
  },
  {
   "cell_type": "code",
   "execution_count": 29,
   "id": "1079fda1",
   "metadata": {},
   "outputs": [
    {
     "data": {
      "text/plain": [
       "array([2014, 2015, 2016, 2017, 2018, 2019, 2020], dtype=int64)"
      ]
     },
     "execution_count": 29,
     "metadata": {},
     "output_type": "execute_result"
    }
   ],
   "source": [
    "df.reporting_year.unique()"
   ]
  },
  {
   "cell_type": "markdown",
   "id": "66164d19",
   "metadata": {},
   "source": [
    "During the ETL pipeline, a record was considered if it contains the needed fields useful for building ML models. As shown the above cell, information before reporing year 2014 was dropped. According to the information for the [TRI 2a File](https://www.epa.gov/system/files/documents/2021-08/file_type_2a_0.pdf), the program stated collecting information about reduction estimation since 2014. Due to the above, the available data are from reporting year 2014 to 2020 (last publicly-available TRI report).  "
   ]
  },
  {
   "cell_type": "markdown",
   "id": "65a9f62c",
   "metadata": {},
   "source": [
    "## 3. Individual feature analysis "
   ]
  },
  {
   "cell_type": "markdown",
   "id": "e754d013",
   "metadata": {},
   "source": [
    "### 3.1. Chemicals"
   ]
  },
  {
   "cell_type": "markdown",
   "id": "bb464f0d",
   "metadata": {},
   "source": [
    "Let's start analyzing how many chemicals there are in the dataset after ETL"
   ]
  },
  {
   "cell_type": "code",
   "execution_count": 30,
   "id": "68853e3c",
   "metadata": {},
   "outputs": [],
   "source": [
    "df_chemicals = df.iloc[:, 6:].drop_duplicates(keep='first').reset_index(drop=True)"
   ]
  },
  {
   "cell_type": "code",
   "execution_count": 32,
   "id": "3ba54a7d",
   "metadata": {},
   "outputs": [
    {
     "data": {
      "text/plain": [
       "200"
      ]
     },
     "execution_count": 32,
     "metadata": {},
     "output_type": "execute_result"
    }
   ],
   "source": [
    "number_of_unique_chemicals = df_chemicals.shape[0]\n",
    "number_of_unique_chemicals"
   ]
  },
  {
   "cell_type": "markdown",
   "id": "75d4c692",
   "metadata": {},
   "source": [
    "Let's to check how many of those chemicals belongs to each of the classification provided by the TRI program, i.e., Clean Air Act (caac_ind), Carcinogen (carc_ind), metal (metal_ind), and Per- and polyfluoroalkyl substances (pfas_ind)"
   ]
  },
  {
   "cell_type": "code",
   "execution_count": 58,
   "id": "2bed329f",
   "metadata": {},
   "outputs": [
    {
     "data": {
      "image/png": "[encoded data removed]",
      "text/plain": [
       "<Figure size 432x288 with 1 Axes>"
      ]
     },
     "metadata": {
      "needs_background": "light"
     },
     "output_type": "display_data"
    }
   ],
   "source": [
    "df_chemicals.caac_ind.value_counts().plot(kind='bar', color=['#2980B9', '#DC7633'], alpha=0.8)\n",
    "plt.ylabel('Counts')\n",
    "plt.xlabel('Catergory based on carcinogenicity')\n",
    "plt.show()"
   ]
  },
  {
   "cell_type": "code",
   "execution_count": 59,
   "id": "9f0d6b25",
   "metadata": {},
   "outputs": [
    {
     "data": {
      "image/png": "[encoded data removed]",
      "text/plain": [
       "<Figure size 432x288 with 1 Axes>"
      ]
     },
     "metadata": {
      "needs_background": "light"
     },
     "output_type": "display_data"
    }
   ],
   "source": [
    "df_chemicals.carc_ind.value_counts().plot(kind='bar', color=['#2980B9', '#DC7633'], alpha=0.8)\n",
    "plt.ylabel('Counts')\n",
    "plt.xlabel('Catergory based on Clean Air Act')\n",
    "plt.show()"
   ]
  },
  {
   "cell_type": "code",
   "execution_count": 60,
   "id": "307c8f99",
   "metadata": {},
   "outputs": [
    {
     "data": {
      "image/png": "[encoded data removed]",
      "text/plain": [
       "<Figure size 432x288 with 1 Axes>"
      ]
     },
     "metadata": {
      "needs_background": "light"
     },
     "output_type": "display_data"
    }
   ],
   "source": [
    "df_chemicals.metal_ind.value_counts().plot(kind='bar', color=['#2980B9', '#DC7633'], alpha=0.8)\n",
    "plt.ylabel('Counts')\n",
    "plt.xlabel('Catergory based on metal indicator')\n",
    "plt.show()"
   ]
  },
  {
   "cell_type": "code",
   "execution_count": 61,
   "id": "2c90ac50",
   "metadata": {},
   "outputs": [
    {
     "data": {
      "image/png": "[encoded data removed]",
      "text/plain": [
       "<Figure size 432x288 with 1 Axes>"
      ]
     },
     "metadata": {
      "needs_background": "light"
     },
     "output_type": "display_data"
    }
   ],
   "source": [
    "df_chemicals.pfas_ind.value_counts().plot(kind='bar', color=['#2980B9', '#DC7633'], alpha=0.8)\n",
    "plt.ylabel('Counts')\n",
    "plt.xlabel('Catergory based on PFAS')\n",
    "plt.show()"
   ]
  },
  {
   "cell_type": "markdown",
   "id": "94525c1a",
   "metadata": {},
   "source": [
    "As depicted above, the dataset contains only 200 out of around 700 chemicals subjected to the TRI program. The following conclusions for the applicability domain of the model are obtained:\n",
    "\n",
    "1. The dataset may not be useful for predicting source reduction activities for PFAS chemicals. Nonetheless, some PFAS chemicals may be represented if their chemical descriptors are similar to that for the chemicals available in the dataset.TRI program started requering information for PFAS since 2020 (see [link](https://www.epa.gov/toxics-release-inventory-tri-program/addition-certain-pfas-tri-national-defense-authorization-act))\n",
    "2. Metallic compounds are poorly represented by the dataset.\n",
    "3. Around 60 out of the 200 chemicals are subjected by the Clean Air Act.\n",
    "4. Carcinogenic chemicals are in a similar proportion than the non carcinogenic ones."
   ]
  },
  {
   "cell_type": "markdown",
   "id": "6c9a4077",
   "metadata": {},
   "source": [
    "### 3.2. Industry sectors"
   ]
  },
  {
   "cell_type": "markdown",
   "id": "a1ce5430",
   "metadata": {},
   "source": [
    "Let's analyze the scenario for the industry sectors present in the dataset"
   ]
  },
  {
   "cell_type": "code",
   "execution_count": 63,
   "id": "12643ae5",
   "metadata": {},
   "outputs": [
    {
     "data": {
      "text/plain": [
       "320"
      ]
     },
     "execution_count": 63,
     "metadata": {},
     "output_type": "execute_result"
    }
   ],
   "source": [
    "df_sectors = df['naics_code'].drop_duplicates(keep='first').reset_index(drop=True)\n",
    "number_of_unique_sectors = df_sectors.shape[0]\n",
    "number_of_unique_sectors"
   ]
  },
  {
   "cell_type": "code",
   "execution_count": 73,
   "id": "8d303a80",
   "metadata": {},
   "outputs": [
    {
     "data": {
      "text/plain": [
       "['11',\n",
       " '21',\n",
       " '22',\n",
       " '31',\n",
       " '32',\n",
       " '33',\n",
       " '42',\n",
       " '49',\n",
       " '51',\n",
       " '54',\n",
       " '56',\n",
       " '61',\n",
       " '62',\n",
       " '81',\n",
       " '92']"
      ]
     },
     "execution_count": 73,
     "metadata": {},
     "output_type": "execute_result"
    }
   ],
   "source": [
    "naics_2_sectors = df_sectors.astype('str').str[0:2].unique().tolist()\n",
    "naics_2_sectors.sort()\n",
    "naics_2_sectors"
   ]
  },
  {
   "cell_type": "code",
   "execution_count": 74,
   "id": "76c32dd9",
   "metadata": {},
   "outputs": [
    {
     "data": {
      "text/plain": [
       "15"
      ]
     },
     "execution_count": 74,
     "metadata": {},
     "output_type": "execute_result"
    }
   ],
   "source": [
    "len(naics_2_sectors)"
   ]
  },
  {
   "cell_type": "markdown",
   "id": "6830db96",
   "metadata": {},
   "source": [
    "Using the 6-digit NAICS codes, the dataset contains 320 sector. Nonetheless, if one-hot encoding is applied on this feature, it could increase drastically the dimensionality of the dataset, which is undesirable. Now, if only the 2-digit NAICS codes are used (the less specific classification), the dataset would offer an applicability domain for only 15 sectors:\n",
    "\n",
    "11: Agriculture, Forestry, Fishing and Hunting (not covered in economic census)\n",
    "21: Mining, Quarrying, and Oil and Gas Extraction\n",
    "22: Utilities\n",
    "31-33: Manufacturing\n",
    "42: Wholesale Trade\n",
    "49: Transportation and Warehousing\n",
    "51: Information\n",
    "54: Professional, Scientific, and Technical Services\n",
    "56: Administrative and Support and Waste Management and Remediation Services\n",
    "61: Educational Services\n",
    "62: Health Care and Social Assistance\n",
    "81: Other Services (except Public Administration)\n",
    "92: Public Administration (not covered in economic census)\n",
    "\n",
    "Thus, the applicability domain of the dataset contains 15 out of the 20 sectors in the NAICS classification (2-digit codes)\n",
    "\n",
    "See [NAICS Structure](https://www.census.gov/programs-surveys/economic-census/guidance/understanding-naics.html)"
   ]
  },
  {
   "cell_type": "markdown",
   "id": "25a06bd9",
   "metadata": {},
   "source": [
    "### 3.3. Source reduction activites\n",
    "\n",
    "Now, let's check what happens with the dataset regarding the source reduction activites."
   ]
  },
  {
   "cell_type": "code",
   "execution_count": 76,
   "id": "c84ac9a2",
   "metadata": {},
   "outputs": [
    {
     "data": {
      "text/html": [
       "<div>\n",
       "<style scoped>\n",
       "    .dataframe tbody tr th:only-of-type {\n",
       "        vertical-align: middle;\n",
       "    }\n",
       "\n",
       "    .dataframe tbody tr th {\n",
       "        vertical-align: top;\n",
       "    }\n",
       "\n",
       "    .dataframe thead th {\n",
       "        text-align: right;\n",
       "    }\n",
       "</style>\n",
       "<table border=\"1\" class=\"dataframe\">\n",
       "  <thead>\n",
       "    <tr style=\"text-align: right;\">\n",
       "      <th></th>\n",
       "      <th>reduction_code</th>\n",
       "      <th>description_code</th>\n",
       "    </tr>\n",
       "  </thead>\n",
       "  <tbody>\n",
       "    <tr>\n",
       "      <th>0</th>\n",
       "      <td>R5</td>\n",
       "      <td>greater than or equal 5%, but less than to 15%</td>\n",
       "    </tr>\n",
       "    <tr>\n",
       "      <th>400</th>\n",
       "      <td>R2</td>\n",
       "      <td>greater than or equal to 50%, but less than 100%</td>\n",
       "    </tr>\n",
       "    <tr>\n",
       "      <th>1000</th>\n",
       "      <td>R6</td>\n",
       "      <td>greater than 0%, but less than 5%</td>\n",
       "    </tr>\n",
       "    <tr>\n",
       "      <th>1800</th>\n",
       "      <td>R3</td>\n",
       "      <td>greater than or equal to 25%, but less than 50%</td>\n",
       "    </tr>\n",
       "    <tr>\n",
       "      <th>6200</th>\n",
       "      <td>R1</td>\n",
       "      <td>100% (elimination of the chemical)</td>\n",
       "    </tr>\n",
       "    <tr>\n",
       "      <th>8600</th>\n",
       "      <td>R4</td>\n",
       "      <td>greater than or equal 15%, but less than to 25%</td>\n",
       "    </tr>\n",
       "  </tbody>\n",
       "</table>\n",
       "</div>"
      ],
      "text/plain": [
       "     reduction_code                                  description_code\n",
       "0                R5    greater than or equal 5%, but less than to 15%\n",
       "400              R2  greater than or equal to 50%, but less than 100%\n",
       "1000             R6                 greater than 0%, but less than 5%\n",
       "1800             R3   greater than or equal to 25%, but less than 50%\n",
       "6200             R1                100% (elimination of the chemical)\n",
       "8600             R4   greater than or equal 15%, but less than to 25%"
      ]
     },
     "execution_count": 76,
     "metadata": {},
     "output_type": "execute_result"
    }
   ],
   "source": [
    "df[['reduction_code', 'description_code']].drop_duplicates(keep='first')"
   ]
  },
  {
   "cell_type": "markdown",
   "id": "0add10df",
   "metadata": {},
   "source": [
    "As shown above, the dataset contains the 6 reduction codes. This reduction codes are ordinal. Thus, this feature could be encoded as ordinal. "
   ]
  },
  {
   "cell_type": "code",
   "execution_count": 77,
   "id": "aa32376f",
   "metadata": {},
   "outputs": [
    {
     "data": {
      "text/html": [
       "<div>\n",
       "<style scoped>\n",
       "    .dataframe tbody tr th:only-of-type {\n",
       "        vertical-align: middle;\n",
       "    }\n",
       "\n",
       "    .dataframe tbody tr th {\n",
       "        vertical-align: top;\n",
       "    }\n",
       "\n",
       "    .dataframe thead th {\n",
       "        text-align: right;\n",
       "    }\n",
       "</style>\n",
       "<table border=\"1\" class=\"dataframe\">\n",
       "  <thead>\n",
       "    <tr style=\"text-align: right;\">\n",
       "      <th></th>\n",
       "      <th>source_reduction_code</th>\n",
       "      <th>source_reduction_description</th>\n",
       "    </tr>\n",
       "  </thead>\n",
       "  <tbody>\n",
       "    <tr>\n",
       "      <th>0</th>\n",
       "      <td>W19</td>\n",
       "      <td>Other changes in operating practices</td>\n",
       "    </tr>\n",
       "    <tr>\n",
       "      <th>200</th>\n",
       "      <td>W36</td>\n",
       "      <td>Implemented inspection or monitoring program o...</td>\n",
       "    </tr>\n",
       "    <tr>\n",
       "      <th>400</th>\n",
       "      <td>W50</td>\n",
       "      <td>Optimized reaction conditions or otherwise inc...</td>\n",
       "    </tr>\n",
       "    <tr>\n",
       "      <th>600</th>\n",
       "      <td>W58</td>\n",
       "      <td>Other process modifications</td>\n",
       "    </tr>\n",
       "    <tr>\n",
       "      <th>1200</th>\n",
       "      <td>W13</td>\n",
       "      <td>Improved maintenance scheduling, recordkeeping...</td>\n",
       "    </tr>\n",
       "    <tr>\n",
       "      <th>1600</th>\n",
       "      <td>W42</td>\n",
       "      <td>Substituted raw materials</td>\n",
       "    </tr>\n",
       "    <tr>\n",
       "      <th>3000</th>\n",
       "      <td>W32</td>\n",
       "      <td>Improved procedures for loading, unloading, an...</td>\n",
       "    </tr>\n",
       "    <tr>\n",
       "      <th>3200</th>\n",
       "      <td>W33</td>\n",
       "      <td>Installed overflow alarms or automatic shutoff...</td>\n",
       "    </tr>\n",
       "    <tr>\n",
       "      <th>3600</th>\n",
       "      <td>W39</td>\n",
       "      <td>Other spill or leak prevention</td>\n",
       "    </tr>\n",
       "    <tr>\n",
       "      <th>5200</th>\n",
       "      <td>W14</td>\n",
       "      <td>Changed production schedule to minimize equipm...</td>\n",
       "    </tr>\n",
       "    <tr>\n",
       "      <th>5400</th>\n",
       "      <td>W31</td>\n",
       "      <td>Improved storage or stacking procedures</td>\n",
       "    </tr>\n",
       "    <tr>\n",
       "      <th>5600</th>\n",
       "      <td>W52</td>\n",
       "      <td>Modified equipment, layout, or piping</td>\n",
       "    </tr>\n",
       "    <tr>\n",
       "      <th>6400</th>\n",
       "      <td>W49</td>\n",
       "      <td>Other raw material modifications</td>\n",
       "    </tr>\n",
       "    <tr>\n",
       "      <th>7800</th>\n",
       "      <td>W54</td>\n",
       "      <td>Instituted better controls on operating bulk c...</td>\n",
       "    </tr>\n",
       "    <tr>\n",
       "      <th>9400</th>\n",
       "      <td>W15</td>\n",
       "      <td>Introduced an in-line product quality monitori...</td>\n",
       "    </tr>\n",
       "    <tr>\n",
       "      <th>10000</th>\n",
       "      <td>W29</td>\n",
       "      <td>Other changes in inventory control</td>\n",
       "    </tr>\n",
       "    <tr>\n",
       "      <th>10600</th>\n",
       "      <td>W51</td>\n",
       "      <td>Instituted recirculation within a process</td>\n",
       "    </tr>\n",
       "    <tr>\n",
       "      <th>11600</th>\n",
       "      <td>W71</td>\n",
       "      <td>Other cleaning and degreasing modifications</td>\n",
       "    </tr>\n",
       "    <tr>\n",
       "      <th>13400</th>\n",
       "      <td>W43</td>\n",
       "      <td>Substituted a feedstock or reagent chemical wi...</td>\n",
       "    </tr>\n",
       "    <tr>\n",
       "      <th>15000</th>\n",
       "      <td>W68</td>\n",
       "      <td>Improved rinse equipment operation</td>\n",
       "    </tr>\n",
       "    <tr>\n",
       "      <th>19800</th>\n",
       "      <td>W21</td>\n",
       "      <td>Instituted procedures to ensure that materials...</td>\n",
       "    </tr>\n",
       "    <tr>\n",
       "      <th>22000</th>\n",
       "      <td>W73</td>\n",
       "      <td>Substituted coating materials used</td>\n",
       "    </tr>\n",
       "    <tr>\n",
       "      <th>22800</th>\n",
       "      <td>W22</td>\n",
       "      <td>Began to test outdated material - continue to ...</td>\n",
       "    </tr>\n",
       "    <tr>\n",
       "      <th>23200</th>\n",
       "      <td>W82</td>\n",
       "      <td>Modified design or composition of product</td>\n",
       "    </tr>\n",
       "    <tr>\n",
       "      <th>27800</th>\n",
       "      <td>W24</td>\n",
       "      <td>Instituted better labeling procedures</td>\n",
       "    </tr>\n",
       "    <tr>\n",
       "      <th>30400</th>\n",
       "      <td>W53</td>\n",
       "      <td>Use of a differant process catalyst</td>\n",
       "    </tr>\n",
       "    <tr>\n",
       "      <th>48800</th>\n",
       "      <td>W89</td>\n",
       "      <td>Other product modifications</td>\n",
       "    </tr>\n",
       "    <tr>\n",
       "      <th>56000</th>\n",
       "      <td>W41</td>\n",
       "      <td>Increased purity or raw materials</td>\n",
       "    </tr>\n",
       "    <tr>\n",
       "      <th>57200</th>\n",
       "      <td>W61</td>\n",
       "      <td>Changed to aqueous cleaners (from solvents or ...</td>\n",
       "    </tr>\n",
       "    <tr>\n",
       "      <th>57800</th>\n",
       "      <td>W55</td>\n",
       "      <td>Changed from small volume containers to bulk c...</td>\n",
       "    </tr>\n",
       "    <tr>\n",
       "      <th>59200</th>\n",
       "      <td>W56</td>\n",
       "      <td>Reduced or eliminated use of an organic solvent</td>\n",
       "    </tr>\n",
       "    <tr>\n",
       "      <th>59600</th>\n",
       "      <td>W67</td>\n",
       "      <td>Improved rinse equipment design</td>\n",
       "    </tr>\n",
       "    <tr>\n",
       "      <th>66400</th>\n",
       "      <td>W35</td>\n",
       "      <td>Installed vapor recovery systems</td>\n",
       "    </tr>\n",
       "    <tr>\n",
       "      <th>79000</th>\n",
       "      <td>W25</td>\n",
       "      <td>Instituted clearinghouse to exchange materials...</td>\n",
       "    </tr>\n",
       "    <tr>\n",
       "      <th>79400</th>\n",
       "      <td>W74</td>\n",
       "      <td>Improved application techniques</td>\n",
       "    </tr>\n",
       "    <tr>\n",
       "      <th>104200</th>\n",
       "      <td>W66</td>\n",
       "      <td>Modified or installed rinse systems</td>\n",
       "    </tr>\n",
       "    <tr>\n",
       "      <th>107000</th>\n",
       "      <td>W81</td>\n",
       "      <td>Changed product specifications</td>\n",
       "    </tr>\n",
       "    <tr>\n",
       "      <th>129600</th>\n",
       "      <td>W72</td>\n",
       "      <td>Modified spray systems or equipment</td>\n",
       "    </tr>\n",
       "    <tr>\n",
       "      <th>133400</th>\n",
       "      <td>W23</td>\n",
       "      <td>Eliminated shelf-life requirements for stable ...</td>\n",
       "    </tr>\n",
       "    <tr>\n",
       "      <th>140000</th>\n",
       "      <td>W75</td>\n",
       "      <td>Changed from spray to other system</td>\n",
       "    </tr>\n",
       "    <tr>\n",
       "      <th>140200</th>\n",
       "      <td>W78</td>\n",
       "      <td>Other surface preparation and finishing modifi...</td>\n",
       "    </tr>\n",
       "    <tr>\n",
       "      <th>143400</th>\n",
       "      <td>W59</td>\n",
       "      <td>Modified stripping/cleaning equipment</td>\n",
       "    </tr>\n",
       "    <tr>\n",
       "      <th>172200</th>\n",
       "      <td>W65</td>\n",
       "      <td>Redesigned parts racks to reduce dragout</td>\n",
       "    </tr>\n",
       "    <tr>\n",
       "      <th>179000</th>\n",
       "      <td>W57</td>\n",
       "      <td>Used biotechnology in manufacturing process</td>\n",
       "    </tr>\n",
       "    <tr>\n",
       "      <th>190400</th>\n",
       "      <td>W60</td>\n",
       "      <td>Changed to mechanical stripping/cleaning devic...</td>\n",
       "    </tr>\n",
       "    <tr>\n",
       "      <th>241800</th>\n",
       "      <td>W84</td>\n",
       "      <td>Developed a new chemical product to replace pr...</td>\n",
       "    </tr>\n",
       "    <tr>\n",
       "      <th>257400</th>\n",
       "      <td>W64</td>\n",
       "      <td>Improved draining procedures</td>\n",
       "    </tr>\n",
       "    <tr>\n",
       "      <th>524600</th>\n",
       "      <td>W83</td>\n",
       "      <td>Modified packaging</td>\n",
       "    </tr>\n",
       "    <tr>\n",
       "      <th>632600</th>\n",
       "      <td>W63</td>\n",
       "      <td>Modified containment procedures for cleaning u...</td>\n",
       "    </tr>\n",
       "  </tbody>\n",
       "</table>\n",
       "</div>"
      ],
      "text/plain": [
       "       source_reduction_code  \\\n",
       "0                        W19   \n",
       "200                      W36   \n",
       "400                      W50   \n",
       "600                      W58   \n",
       "1200                     W13   \n",
       "1600                     W42   \n",
       "3000                     W32   \n",
       "3200                     W33   \n",
       "3600                     W39   \n",
       "5200                     W14   \n",
       "5400                     W31   \n",
       "5600                     W52   \n",
       "6400                     W49   \n",
       "7800                     W54   \n",
       "9400                     W15   \n",
       "10000                    W29   \n",
       "10600                    W51   \n",
       "11600                    W71   \n",
       "13400                    W43   \n",
       "15000                    W68   \n",
       "19800                    W21   \n",
       "22000                    W73   \n",
       "22800                    W22   \n",
       "23200                    W82   \n",
       "27800                    W24   \n",
       "30400                    W53   \n",
       "48800                    W89   \n",
       "56000                    W41   \n",
       "57200                    W61   \n",
       "57800                    W55   \n",
       "59200                    W56   \n",
       "59600                    W67   \n",
       "66400                    W35   \n",
       "79000                    W25   \n",
       "79400                    W74   \n",
       "104200                   W66   \n",
       "107000                   W81   \n",
       "129600                   W72   \n",
       "133400                   W23   \n",
       "140000                   W75   \n",
       "140200                   W78   \n",
       "143400                   W59   \n",
       "172200                   W65   \n",
       "179000                   W57   \n",
       "190400                   W60   \n",
       "241800                   W84   \n",
       "257400                   W64   \n",
       "524600                   W83   \n",
       "632600                   W63   \n",
       "\n",
       "                             source_reduction_description  \n",
       "0                    Other changes in operating practices  \n",
       "200     Implemented inspection or monitoring program o...  \n",
       "400     Optimized reaction conditions or otherwise inc...  \n",
       "600                           Other process modifications  \n",
       "1200    Improved maintenance scheduling, recordkeeping...  \n",
       "1600                            Substituted raw materials  \n",
       "3000    Improved procedures for loading, unloading, an...  \n",
       "3200    Installed overflow alarms or automatic shutoff...  \n",
       "3600                       Other spill or leak prevention  \n",
       "5200    Changed production schedule to minimize equipm...  \n",
       "5400              Improved storage or stacking procedures  \n",
       "5600                Modified equipment, layout, or piping  \n",
       "6400                     Other raw material modifications  \n",
       "7800    Instituted better controls on operating bulk c...  \n",
       "9400    Introduced an in-line product quality monitori...  \n",
       "10000                  Other changes in inventory control  \n",
       "10600           Instituted recirculation within a process  \n",
       "11600         Other cleaning and degreasing modifications  \n",
       "13400   Substituted a feedstock or reagent chemical wi...  \n",
       "15000                  Improved rinse equipment operation  \n",
       "19800   Instituted procedures to ensure that materials...  \n",
       "22000                  Substituted coating materials used  \n",
       "22800   Began to test outdated material - continue to ...  \n",
       "23200           Modified design or composition of product  \n",
       "27800               Instituted better labeling procedures  \n",
       "30400                 Use of a differant process catalyst  \n",
       "48800                         Other product modifications  \n",
       "56000                   Increased purity or raw materials  \n",
       "57200   Changed to aqueous cleaners (from solvents or ...  \n",
       "57800   Changed from small volume containers to bulk c...  \n",
       "59200     Reduced or eliminated use of an organic solvent  \n",
       "59600                     Improved rinse equipment design  \n",
       "66400                    Installed vapor recovery systems  \n",
       "79000   Instituted clearinghouse to exchange materials...  \n",
       "79400                     Improved application techniques  \n",
       "104200                Modified or installed rinse systems  \n",
       "107000                     Changed product specifications  \n",
       "129600                Modified spray systems or equipment  \n",
       "133400  Eliminated shelf-life requirements for stable ...  \n",
       "140000                 Changed from spray to other system  \n",
       "140200  Other surface preparation and finishing modifi...  \n",
       "143400              Modified stripping/cleaning equipment  \n",
       "172200           Redesigned parts racks to reduce dragout  \n",
       "179000        Used biotechnology in manufacturing process  \n",
       "190400  Changed to mechanical stripping/cleaning devic...  \n",
       "241800  Developed a new chemical product to replace pr...  \n",
       "257400                       Improved draining procedures  \n",
       "524600                                 Modified packaging  \n",
       "632600  Modified containment procedures for cleaning u...  "
      ]
     },
     "execution_count": 77,
     "metadata": {},
     "output_type": "execute_result"
    }
   ],
   "source": [
    "df[['source_reduction_code', 'source_reduction_description']].drop_duplicates(keep='first')"
   ]
  },
  {
   "cell_type": "code",
   "execution_count": 78,
   "id": "19666bf1",
   "metadata": {},
   "outputs": [
    {
     "data": {
      "text/plain": [
       "49"
      ]
     },
     "execution_count": 78,
     "metadata": {},
     "output_type": "execute_result"
    }
   ],
   "source": [
    "df[['source_reduction_code', 'source_reduction_description']].drop_duplicates(keep='first').shape[0]"
   ]
  },
  {
   "cell_type": "markdown",
   "id": "233cda6d",
   "metadata": {},
   "source": [
    "As shown above, there are 49 source reduction activities, which means that the ML model would classify among 49 potential categories. This task could be complicated for the model considering that the dataset has 980,000 different samples. As an alternative, the source reduction activity categories belong to a more general categorization provided by the TRI program that contains only 8 categories (see [link](https://ordspub.epa.gov/ords/guideme_ext/guideme_ext/guideme/file/rfi_ry18.pdf)):\n",
    "\n",
    "1. Good Operating Practices (W13, W14, W15, and W19) \n",
    "2. Inventory Control (W21, W22, W23, W24, W25, and W29)\n",
    "3. Spill and Leak Prevention (W31, W32, W33, W35, W36, and W39)\n",
    "4. Raw Material Modifications (W41, W42, W43, and W49)\n",
    "5. Process Modifications (W50, W51, W52, W53, W54, W55, W56, W57, and W58)\n",
    "6. Cleaning and Degreasing (W59, W60, W61, W63, W64, W65, W66, W67, W68, and W71)\n",
    "7. Surface Preparation and Finishing (W72, W73, W74, W75, and W78)\n",
    "8. Product Modifications (W81, W82, W83, W84, and W89)\n"
   ]
  },
  {
   "cell_type": "code",
   "execution_count": 111,
   "id": "9f4eb649",
   "metadata": {},
   "outputs": [
    {
     "data": {
      "image/png": "[encoded data removed]",
      "text/plain": [
       "<Figure size 1080x1080 with 1 Axes>"
      ]
     },
     "metadata": {
      "needs_background": "light"
     },
     "output_type": "display_data"
    }
   ],
   "source": [
    "colors = list(mcolors.CSS4_COLORS.values())\n",
    "colors.sort()\n",
    "df['source_reduction_code'].value_counts().plot(kind='bar',\n",
    "                                                alpha=0.8,\n",
    "                                                figsize=(15, 15),\n",
    "                                                color=colors[0:49])\n",
    "plt.ylabel('Counts')\n",
    "plt.xlabel('Source reduction activity code')\n",
    "plt.show()"
   ]
  },
  {
   "cell_type": "markdown",
   "id": "a216e4b0",
   "metadata": {},
   "source": [
    "The figure above shows that for the 49 categories representing source reduction activities, the data set is very unbalanced. One option is to remove categories that appear few times in the data set. Another option is to use data augmentation techniques such as random oversampling to balance the data set."
   ]
  },
  {
   "cell_type": "code",
   "execution_count": 112,
   "id": "dfa35468",
   "metadata": {},
   "outputs": [],
   "source": [
    "mapping_dict = {\n",
    "    'W13': 'Good Operating Practices',\n",
    "    'W14': 'Good Operating Practices',\n",
    "    'W15': 'Good Operating Practices',\n",
    "    'W19': 'Good Operating Practices',\n",
    "    'W21': 'Inventory Control',\n",
    "    'W22': 'Inventory Control',\n",
    "    'W23': 'Inventory Control',\n",
    "    'W24': 'Inventory Control',\n",
    "    'W25': 'Inventory Control',\n",
    "    'W29': 'Inventory Control',\n",
    "    'W31': 'Spill and Leak Prevention',\n",
    "    'W32': 'Spill and Leak Prevention',\n",
    "    'W33': 'Spill and Leak Prevention',\n",
    "    'W35': 'Spill and Leak Prevention',\n",
    "    'W36': 'Spill and Leak Prevention',\n",
    "    'W39': 'Spill and Leak Prevention',\n",
    "    'W41': 'Raw Material Modifications',\n",
    "    'W42': 'Raw Material Modifications',\n",
    "    'W43': 'Raw Material Modifications',\n",
    "    'W49': 'Raw Material Modifications',\n",
    "    'W50': 'Process Modifications',\n",
    "    'W51': 'Process Modifications',\n",
    "    'W52': 'Process Modifications',\n",
    "    'W53': 'Process Modifications',\n",
    "    'W54': 'Process Modifications',\n",
    "    'W55': 'Process Modifications',\n",
    "    'W56': 'Process Modifications',\n",
    "    'W57': 'Process Modifications',\n",
    "    'W58': 'Process Modifications',\n",
    "    'W59': 'Cleaning and Degreasing',\n",
    "    'W60': 'Cleaning and Degreasing',\n",
    "    'W61': 'Cleaning and Degreasing',\n",
    "    'W63': 'Cleaning and Degreasing',\n",
    "    'W64': 'Cleaning and Degreasing',\n",
    "    'W65': 'Cleaning and Degreasing',\n",
    "    'W66': 'Cleaning and Degreasing',\n",
    "    'W67': 'Cleaning and Degreasing',\n",
    "    'W68': 'Cleaning and Degreasing',\n",
    "    'W71': 'Cleaning and Degreasing',\n",
    "    'W72': 'Surface Preparation and Finishing',\n",
    "    'W73': 'Surface Preparation and Finishing',\n",
    "    'W74': 'Surface Preparation and Finishing',\n",
    "    'W75': 'Surface Preparation and Finishing',\n",
    "    'W78': 'Surface Preparation and Finishing',\n",
    "    'W81': 'Product Modifications',\n",
    "    'W82': 'Product Modifications',\n",
    "    'W83': 'Product Modifications',\n",
    "    'W84': 'Product Modifications',\n",
    "    'W89': 'Product Modifications'\n",
    "}"
   ]
  },
  {
   "cell_type": "code",
   "execution_count": 113,
   "id": "778c8ceb",
   "metadata": {},
   "outputs": [
    {
     "data": {
      "text/plain": [
       "49"
      ]
     },
     "execution_count": 113,
     "metadata": {},
     "output_type": "execute_result"
    }
   ],
   "source": [
    "len(mapping_dict.keys())"
   ]
  },
  {
   "cell_type": "code",
   "execution_count": 114,
   "id": "343e2269",
   "metadata": {},
   "outputs": [],
   "source": [
    "df['source_reduction_general_category'] = df['source_reduction_code'].map(mapping_dict)"
   ]
  },
  {
   "cell_type": "code",
   "execution_count": 115,
   "id": "c40d70bf",
   "metadata": {},
   "outputs": [
    {
     "data": {
      "text/html": [
       "<div>\n",
       "<style scoped>\n",
       "    .dataframe tbody tr th:only-of-type {\n",
       "        vertical-align: middle;\n",
       "    }\n",
       "\n",
       "    .dataframe tbody tr th {\n",
       "        vertical-align: top;\n",
       "    }\n",
       "\n",
       "    .dataframe thead th {\n",
       "        text-align: right;\n",
       "    }\n",
       "</style>\n",
       "<table border=\"1\" class=\"dataframe\">\n",
       "  <thead>\n",
       "    <tr style=\"text-align: right;\">\n",
       "      <th></th>\n",
       "      <th>reporting_year</th>\n",
       "      <th>naics_code</th>\n",
       "      <th>source_reduction_code</th>\n",
       "      <th>source_reduction_description</th>\n",
       "      <th>reduction_code</th>\n",
       "      <th>description_code</th>\n",
       "      <th>chemical_name</th>\n",
       "      <th>caac_ind</th>\n",
       "      <th>carc_ind</th>\n",
       "      <th>pfas_ind</th>\n",
       "      <th>metal_ind</th>\n",
       "      <th>source_reduction_general_category</th>\n",
       "    </tr>\n",
       "  </thead>\n",
       "  <tbody>\n",
       "    <tr>\n",
       "      <th>0</th>\n",
       "      <td>2014</td>\n",
       "      <td>212111</td>\n",
       "      <td>W19</td>\n",
       "      <td>Other changes in operating practices</td>\n",
       "      <td>R5</td>\n",
       "      <td>greater than or equal 5%, but less than to 15%</td>\n",
       "      <td>Formaldehyde</td>\n",
       "      <td>YES</td>\n",
       "      <td>YES</td>\n",
       "      <td>NO</td>\n",
       "      <td>NO</td>\n",
       "      <td>Good Operating Practices</td>\n",
       "    </tr>\n",
       "    <tr>\n",
       "      <th>1</th>\n",
       "      <td>2014</td>\n",
       "      <td>212111</td>\n",
       "      <td>W19</td>\n",
       "      <td>Other changes in operating practices</td>\n",
       "      <td>R5</td>\n",
       "      <td>greater than or equal 5%, but less than to 15%</td>\n",
       "      <td>Nitroglycerin</td>\n",
       "      <td>NO</td>\n",
       "      <td>NO</td>\n",
       "      <td>NO</td>\n",
       "      <td>NO</td>\n",
       "      <td>Good Operating Practices</td>\n",
       "    </tr>\n",
       "    <tr>\n",
       "      <th>2</th>\n",
       "      <td>2014</td>\n",
       "      <td>212111</td>\n",
       "      <td>W19</td>\n",
       "      <td>Other changes in operating practices</td>\n",
       "      <td>R5</td>\n",
       "      <td>greater than or equal 5%, but less than to 15%</td>\n",
       "      <td>Phenytoin</td>\n",
       "      <td>NO</td>\n",
       "      <td>YES</td>\n",
       "      <td>NO</td>\n",
       "      <td>NO</td>\n",
       "      <td>Good Operating Practices</td>\n",
       "    </tr>\n",
       "    <tr>\n",
       "      <th>3</th>\n",
       "      <td>2014</td>\n",
       "      <td>212111</td>\n",
       "      <td>W19</td>\n",
       "      <td>Other changes in operating practices</td>\n",
       "      <td>R5</td>\n",
       "      <td>greater than or equal 5%, but less than to 15%</td>\n",
       "      <td>Aniline</td>\n",
       "      <td>YES</td>\n",
       "      <td>NO</td>\n",
       "      <td>NO</td>\n",
       "      <td>NO</td>\n",
       "      <td>Good Operating Practices</td>\n",
       "    </tr>\n",
       "    <tr>\n",
       "      <th>4</th>\n",
       "      <td>2014</td>\n",
       "      <td>212111</td>\n",
       "      <td>W19</td>\n",
       "      <td>Other changes in operating practices</td>\n",
       "      <td>R5</td>\n",
       "      <td>greater than or equal 5%, but less than to 15%</td>\n",
       "      <td>Dichlorvos</td>\n",
       "      <td>YES</td>\n",
       "      <td>YES</td>\n",
       "      <td>NO</td>\n",
       "      <td>NO</td>\n",
       "      <td>Good Operating Practices</td>\n",
       "    </tr>\n",
       "  </tbody>\n",
       "</table>\n",
       "</div>"
      ],
      "text/plain": [
       "   reporting_year  naics_code source_reduction_code  \\\n",
       "0            2014      212111                   W19   \n",
       "1            2014      212111                   W19   \n",
       "2            2014      212111                   W19   \n",
       "3            2014      212111                   W19   \n",
       "4            2014      212111                   W19   \n",
       "\n",
       "           source_reduction_description reduction_code  \\\n",
       "0  Other changes in operating practices             R5   \n",
       "1  Other changes in operating practices             R5   \n",
       "2  Other changes in operating practices             R5   \n",
       "3  Other changes in operating practices             R5   \n",
       "4  Other changes in operating practices             R5   \n",
       "\n",
       "                                 description_code  chemical_name caac_ind  \\\n",
       "0  greater than or equal 5%, but less than to 15%   Formaldehyde      YES   \n",
       "1  greater than or equal 5%, but less than to 15%  Nitroglycerin       NO   \n",
       "2  greater than or equal 5%, but less than to 15%      Phenytoin       NO   \n",
       "3  greater than or equal 5%, but less than to 15%        Aniline      YES   \n",
       "4  greater than or equal 5%, but less than to 15%     Dichlorvos      YES   \n",
       "\n",
       "  carc_ind pfas_ind metal_ind source_reduction_general_category  \n",
       "0      YES       NO        NO          Good Operating Practices  \n",
       "1       NO       NO        NO          Good Operating Practices  \n",
       "2      YES       NO        NO          Good Operating Practices  \n",
       "3       NO       NO        NO          Good Operating Practices  \n",
       "4      YES       NO        NO          Good Operating Practices  "
      ]
     },
     "execution_count": 115,
     "metadata": {},
     "output_type": "execute_result"
    }
   ],
   "source": [
    "df.head()"
   ]
  },
  {
   "cell_type": "code",
   "execution_count": 116,
   "id": "884e61c3",
   "metadata": {},
   "outputs": [
    {
     "name": "stdout",
     "output_type": "stream",
     "text": [
      "<class 'pandas.core.frame.DataFrame'>\n",
      "Int64Index: 980000 entries, 0 to 1302199\n",
      "Data columns (total 12 columns):\n",
      " #   Column                             Non-Null Count   Dtype \n",
      "---  ------                             --------------   ----- \n",
      " 0   reporting_year                     980000 non-null  int64 \n",
      " 1   naics_code                         980000 non-null  int64 \n",
      " 2   source_reduction_code              980000 non-null  object\n",
      " 3   source_reduction_description       980000 non-null  object\n",
      " 4   reduction_code                     980000 non-null  object\n",
      " 5   description_code                   980000 non-null  object\n",
      " 6   chemical_name                      980000 non-null  object\n",
      " 7   caac_ind                           980000 non-null  object\n",
      " 8   carc_ind                           980000 non-null  object\n",
      " 9   pfas_ind                           980000 non-null  object\n",
      " 10  metal_ind                          980000 non-null  object\n",
      " 11  source_reduction_general_category  980000 non-null  object\n",
      "dtypes: int64(2), object(10)\n",
      "memory usage: 97.2+ MB\n"
     ]
    }
   ],
   "source": [
    "df.info()"
   ]
  },
  {
   "cell_type": "code",
   "execution_count": 117,
   "id": "1b52073d",
   "metadata": {},
   "outputs": [
    {
     "data": {
      "image/png": "[encoded data removed]",
      "text/plain": [
       "<Figure size 1080x1080 with 1 Axes>"
      ]
     },
     "metadata": {
      "needs_background": "light"
     },
     "output_type": "display_data"
    }
   ],
   "source": [
    "colors = list(mcolors.CSS4_COLORS.values())\n",
    "colors.sort()\n",
    "df['source_reduction_general_category'].value_counts().plot(kind='bar',\n",
    "                                                alpha=0.8,\n",
    "                                                figsize=(15, 15),\n",
    "                                                color=colors[0:8])\n",
    "plt.ylabel('Counts')\n",
    "plt.xlabel('Source reduction activity general category')\n",
    "plt.show()"
   ]
  },
  {
   "cell_type": "markdown",
   "id": "d93e7604",
   "metadata": {},
   "source": [
    "As the figure above shows, the use of the 8 general categories for source reduction activities not only reduces the complexity of the classification task, but can also reduce the imbalance of the dataset for those categories that previously did not even exceed 2000 samples."
   ]
  },
  {
   "cell_type": "markdown",
   "id": "8582f2f0",
   "metadata": {},
   "source": []
  }
 ],
 "metadata": {
  "kernelspec": {
   "display_name": "Python 3 (ipykernel)",
   "language": "python",
   "name": "python3"
  },
  "language_info": {
   "codemirror_mode": {
    "name": "ipython",
    "version": 3
   },
   "file_extension": ".py",
   "mimetype": "text/x-python",
   "name": "python",
   "nbconvert_exporter": "python",
   "pygments_lexer": "ipython3",
   "version": "3.10.1"
  }
 },
 "nbformat": 4,
 "nbformat_minor": 5
}
