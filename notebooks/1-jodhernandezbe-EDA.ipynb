{
 "cells": [
  {
   "cell_type": "markdown",
   "id": "brief-first",
   "metadata": {},
   "source": [
    "# Exploratory Data Analysis (EDA)"
   ]
  },
  {
   "cell_type": "markdown",
   "id": "suspected-pennsylvania",
   "metadata": {},
   "source": [
    "This notebook contains the EDA performed for obtaining insights from the ChemSoR database as prior step to build ML models."
   ]
  },
  {
   "cell_type": "code",
   "execution_count": 1,
   "id": "blocked-buffalo",
   "metadata": {},
   "outputs": [],
   "source": [
    "# Importing libraries\n",
    "%matplotlib inline\n",
    "import pandas as pd\n",
    "import os\n",
    "from sqlalchemy import create_engine\n",
    "import matplotlib.pyplot as plt\n",
    "import matplotlib.colors as mcolors"
   ]
  },
  {
   "cell_type": "markdown",
   "id": "saved-authority",
   "metadata": {},
   "source": [
    "## 1. Opening the database"
   ]
  },
  {
   "cell_type": "code",
   "execution_count": 2,
   "id": "latest-tunnel",
   "metadata": {},
   "outputs": [],
   "source": [
    "def create_engine_instance():\n",
    "    '''\n",
    "    Function to create an SQL engine\n",
    "    '''\n",
    "    \n",
    "    # ChemSoR_database.db path\n",
    "    chemsor_path = os.path.join(os. getcwd(),\n",
    "                                os.pardir,\n",
    "                                'data',\n",
    "                                'transformed',\n",
    "                                'ChemSoR_database.db')\n",
    "    \n",
    "    # URL string\n",
    "    url = f'sqlite:///{chemsor_path}'\n",
    "\n",
    "    # Creating engine\n",
    "    engine = create_engine(url)\n",
    "\n",
    "    return engine"
   ]
  },
  {
   "cell_type": "code",
   "execution_count": 3,
   "id": "native-stress",
   "metadata": {},
   "outputs": [],
   "source": [
    "def opening_dataset():\n",
    "    '''\n",
    "    Function to open dataset based on sql query\n",
    "    '''\n",
    "\n",
    "    # Creating connection\n",
    "    engine = create_engine_instance()\n",
    "    \n",
    "    # Query for only selecting the desired columns\n",
    "    sql_query = '''\n",
    "                SELECT r.reporting_year,\n",
    "                       r.naics_code,\n",
    "                       sra.source_reduction_code,\n",
    "                       sra.source_reduction_description,\n",
    "                       re.reduction_code,\n",
    "                       re.description_code,\n",
    "                       c.chemical_name,\n",
    "                       c.caac_ind,\n",
    "                       c.carc_ind,\n",
    "                       c.pfas_ind,\n",
    "                       c.metal_ind,\n",
    "                       c.smiles\n",
    "                FROM record AS r\n",
    "                INNER JOIN source_reduction_activity AS sra\n",
    "                ON r.source_reduction_activity_id = sra.source_reduction_activity_id\n",
    "                INNER JOIN reduction AS re\n",
    "                ON r.reduction_id = re.reduction_id\n",
    "                INNER JOIN chemical AS c\n",
    "                ON r.chemical_id\n",
    "                '''\n",
    "    \n",
    "    # Fetching the information\n",
    "    df = pd.read_sql_query(sql_query, engine)\n",
    "    \n",
    "    return df"
   ]
  },
  {
   "cell_type": "code",
   "execution_count": 4,
   "id": "hourly-transmission",
   "metadata": {},
   "outputs": [],
   "source": [
    "df = opening_dataset()"
   ]
  },
  {
   "cell_type": "code",
   "execution_count": 5,
   "id": "d4d0dcfa",
   "metadata": {},
   "outputs": [],
   "source": [
    "df.drop_duplicates(keep='first', inplace=True)"
   ]
  },
  {
   "cell_type": "markdown",
   "id": "2dfab8d8",
   "metadata": {},
   "source": [
    "## 2. General dataset analysis"
   ]
  },
  {
   "cell_type": "code",
   "execution_count": 6,
   "id": "14168491",
   "metadata": {},
   "outputs": [
    {
     "data": {
      "text/html": [
       "<div>\n",
       "<style scoped>\n",
       "    .dataframe tbody tr th:only-of-type {\n",
       "        vertical-align: middle;\n",
       "    }\n",
       "\n",
       "    .dataframe tbody tr th {\n",
       "        vertical-align: top;\n",
       "    }\n",
       "\n",
       "    .dataframe thead th {\n",
       "        text-align: right;\n",
       "    }\n",
       "</style>\n",
       "<table border=\"1\" class=\"dataframe\">\n",
       "  <thead>\n",
       "    <tr style=\"text-align: right;\">\n",
       "      <th></th>\n",
       "      <th>reporting_year</th>\n",
       "      <th>naics_code</th>\n",
       "      <th>source_reduction_code</th>\n",
       "      <th>source_reduction_description</th>\n",
       "      <th>reduction_code</th>\n",
       "      <th>description_code</th>\n",
       "      <th>chemical_name</th>\n",
       "      <th>caac_ind</th>\n",
       "      <th>carc_ind</th>\n",
       "      <th>pfas_ind</th>\n",
       "      <th>metal_ind</th>\n",
       "      <th>smiles</th>\n",
       "    </tr>\n",
       "  </thead>\n",
       "  <tbody>\n",
       "    <tr>\n",
       "      <th>0</th>\n",
       "      <td>2014</td>\n",
       "      <td>212111</td>\n",
       "      <td>W19</td>\n",
       "      <td>Other changes in operating practices</td>\n",
       "      <td>R5</td>\n",
       "      <td>greater than or equal 5%, but less than to 15%</td>\n",
       "      <td>Formaldehyde</td>\n",
       "      <td>YES</td>\n",
       "      <td>YES</td>\n",
       "      <td>NO</td>\n",
       "      <td>NO</td>\n",
       "      <td>C=O</td>\n",
       "    </tr>\n",
       "    <tr>\n",
       "      <th>1</th>\n",
       "      <td>2014</td>\n",
       "      <td>212111</td>\n",
       "      <td>W19</td>\n",
       "      <td>Other changes in operating practices</td>\n",
       "      <td>R5</td>\n",
       "      <td>greater than or equal 5%, but less than to 15%</td>\n",
       "      <td>Nitroglycerin</td>\n",
       "      <td>NO</td>\n",
       "      <td>NO</td>\n",
       "      <td>NO</td>\n",
       "      <td>NO</td>\n",
       "      <td>C(C(CO[N+](=O)[O-])O[N+](=O)[O-])O[N+](=O)[O-]</td>\n",
       "    </tr>\n",
       "    <tr>\n",
       "      <th>2</th>\n",
       "      <td>2014</td>\n",
       "      <td>212111</td>\n",
       "      <td>W19</td>\n",
       "      <td>Other changes in operating practices</td>\n",
       "      <td>R5</td>\n",
       "      <td>greater than or equal 5%, but less than to 15%</td>\n",
       "      <td>Phenytoin</td>\n",
       "      <td>NO</td>\n",
       "      <td>YES</td>\n",
       "      <td>NO</td>\n",
       "      <td>NO</td>\n",
       "      <td>C1=CC=C(C=C1)C2(C(=O)NC(=O)N2)C3=CC=CC=C3</td>\n",
       "    </tr>\n",
       "    <tr>\n",
       "      <th>3</th>\n",
       "      <td>2014</td>\n",
       "      <td>212111</td>\n",
       "      <td>W19</td>\n",
       "      <td>Other changes in operating practices</td>\n",
       "      <td>R5</td>\n",
       "      <td>greater than or equal 5%, but less than to 15%</td>\n",
       "      <td>Aniline</td>\n",
       "      <td>YES</td>\n",
       "      <td>NO</td>\n",
       "      <td>NO</td>\n",
       "      <td>NO</td>\n",
       "      <td>C1=CC=C(C=C1)N</td>\n",
       "    </tr>\n",
       "    <tr>\n",
       "      <th>4</th>\n",
       "      <td>2014</td>\n",
       "      <td>212111</td>\n",
       "      <td>W19</td>\n",
       "      <td>Other changes in operating practices</td>\n",
       "      <td>R5</td>\n",
       "      <td>greater than or equal 5%, but less than to 15%</td>\n",
       "      <td>Dichlorvos</td>\n",
       "      <td>YES</td>\n",
       "      <td>YES</td>\n",
       "      <td>NO</td>\n",
       "      <td>NO</td>\n",
       "      <td>COP(=O)(OC)OC=C(Cl)Cl</td>\n",
       "    </tr>\n",
       "  </tbody>\n",
       "</table>\n",
       "</div>"
      ],
      "text/plain": [
       "   reporting_year  naics_code source_reduction_code  \\\n",
       "0            2014      212111                   W19   \n",
       "1            2014      212111                   W19   \n",
       "2            2014      212111                   W19   \n",
       "3            2014      212111                   W19   \n",
       "4            2014      212111                   W19   \n",
       "\n",
       "           source_reduction_description reduction_code  \\\n",
       "0  Other changes in operating practices             R5   \n",
       "1  Other changes in operating practices             R5   \n",
       "2  Other changes in operating practices             R5   \n",
       "3  Other changes in operating practices             R5   \n",
       "4  Other changes in operating practices             R5   \n",
       "\n",
       "                                 description_code  chemical_name caac_ind  \\\n",
       "0  greater than or equal 5%, but less than to 15%   Formaldehyde      YES   \n",
       "1  greater than or equal 5%, but less than to 15%  Nitroglycerin       NO   \n",
       "2  greater than or equal 5%, but less than to 15%      Phenytoin       NO   \n",
       "3  greater than or equal 5%, but less than to 15%        Aniline      YES   \n",
       "4  greater than or equal 5%, but less than to 15%     Dichlorvos      YES   \n",
       "\n",
       "  carc_ind pfas_ind metal_ind                                          smiles  \n",
       "0      YES       NO        NO                                             C=O  \n",
       "1       NO       NO        NO  C(C(CO[N+](=O)[O-])O[N+](=O)[O-])O[N+](=O)[O-]  \n",
       "2      YES       NO        NO       C1=CC=C(C=C1)C2(C(=O)NC(=O)N2)C3=CC=CC=C3  \n",
       "3       NO       NO        NO                                  C1=CC=C(C=C1)N  \n",
       "4      YES       NO        NO                           COP(=O)(OC)OC=C(Cl)Cl  "
      ]
     },
     "execution_count": 6,
     "metadata": {},
     "output_type": "execute_result"
    }
   ],
   "source": [
    "df.head()"
   ]
  },
  {
   "cell_type": "code",
   "execution_count": 7,
   "id": "3d724921",
   "metadata": {},
   "outputs": [
    {
     "name": "stdout",
     "output_type": "stream",
     "text": [
      "<class 'pandas.core.frame.DataFrame'>\n",
      "Int64Index: 980000 entries, 0 to 1302199\n",
      "Data columns (total 12 columns):\n",
      " #   Column                        Non-Null Count   Dtype \n",
      "---  ------                        --------------   ----- \n",
      " 0   reporting_year                980000 non-null  int64 \n",
      " 1   naics_code                    980000 non-null  int64 \n",
      " 2   source_reduction_code         980000 non-null  object\n",
      " 3   source_reduction_description  980000 non-null  object\n",
      " 4   reduction_code                980000 non-null  object\n",
      " 5   description_code              980000 non-null  object\n",
      " 6   chemical_name                 980000 non-null  object\n",
      " 7   caac_ind                      980000 non-null  object\n",
      " 8   carc_ind                      980000 non-null  object\n",
      " 9   pfas_ind                      980000 non-null  object\n",
      " 10  metal_ind                     980000 non-null  object\n",
      " 11  smiles                        965300 non-null  object\n",
      "dtypes: int64(2), object(10)\n",
      "memory usage: 97.2+ MB\n"
     ]
    }
   ],
   "source": [
    "df.info()"
   ]
  },
  {
   "cell_type": "code",
   "execution_count": 9,
   "id": "f198f055",
   "metadata": {},
   "outputs": [],
   "source": [
    "df = df[pd.notnull(df.smiles)]"
   ]
  },
  {
   "cell_type": "code",
   "execution_count": 26,
   "id": "82b7ab55",
   "metadata": {},
   "outputs": [],
   "source": [
    "df.reset_index(drop=True, inplace=True)"
   ]
  },
  {
   "cell_type": "code",
   "execution_count": 10,
   "id": "1079fda1",
   "metadata": {},
   "outputs": [
    {
     "data": {
      "text/plain": [
       "array([2014, 2015, 2016, 2017, 2018, 2019, 2020], dtype=int64)"
      ]
     },
     "execution_count": 10,
     "metadata": {},
     "output_type": "execute_result"
    }
   ],
   "source": [
    "df.reporting_year.unique()"
   ]
  },
  {
   "cell_type": "markdown",
   "id": "66164d19",
   "metadata": {},
   "source": [
    "During the ETL pipeline, a record was considered if it contains the needed fields useful for building ML models. As shown the above cell, information before reporing year 2014 was dropped. According to the information for the [TRI 2a File](https://www.epa.gov/system/files/documents/2021-08/file_type_2a_0.pdf), the program stated collecting information about reduction estimation since 2014. Due to the above, the available data are from reporting year 2014 to 2020 (last publicly-available TRI report).  "
   ]
  },
  {
   "cell_type": "markdown",
   "id": "65a9f62c",
   "metadata": {},
   "source": [
    "## 3. Individual feature analysis "
   ]
  },
  {
   "cell_type": "markdown",
   "id": "e754d013",
   "metadata": {},
   "source": [
    "### 3.1. Chemicals"
   ]
  },
  {
   "cell_type": "markdown",
   "id": "bb464f0d",
   "metadata": {},
   "source": [
    "Let's start analyzing how many chemicals there are in the dataset after ETL"
   ]
  },
  {
   "cell_type": "code",
   "execution_count": 11,
   "id": "68853e3c",
   "metadata": {},
   "outputs": [],
   "source": [
    "df_chemicals = df.iloc[:, 6:].drop_duplicates(keep='first').reset_index(drop=True)"
   ]
  },
  {
   "cell_type": "code",
   "execution_count": 12,
   "id": "3ba54a7d",
   "metadata": {},
   "outputs": [
    {
     "data": {
      "text/plain": [
       "197"
      ]
     },
     "execution_count": 12,
     "metadata": {},
     "output_type": "execute_result"
    }
   ],
   "source": [
    "number_of_unique_chemicals = df_chemicals.shape[0]\n",
    "number_of_unique_chemicals"
   ]
  },
  {
   "cell_type": "markdown",
   "id": "75d4c692",
   "metadata": {},
   "source": [
    "Let's check how many of those chemicals belongs to each of the classification provided by the TRI program, i.e., Clean Air Act (caac_ind), Carcinogen (carc_ind), metal (metal_ind), and Per- and polyfluoroalkyl substances (pfas_ind)"
   ]
  },
  {
   "cell_type": "code",
   "execution_count": 13,
   "id": "2bed329f",
   "metadata": {},
   "outputs": [
    {
     "data": {
      "image/png": "[encoded data removed]",
      "text/plain": [
       "<Figure size 432x288 with 1 Axes>"
      ]
     },
     "metadata": {
      "needs_background": "light"
     },
     "output_type": "display_data"
    }
   ],
   "source": [
    "df_chemicals.caac_ind.value_counts().plot(kind='bar', color=['#2980B9', '#DC7633'], alpha=0.8)\n",
    "plt.ylabel('Counts')\n",
    "plt.xlabel('Catergory based on carcinogenicity')\n",
    "plt.show()"
   ]
  },
  {
   "cell_type": "code",
   "execution_count": 14,
   "id": "9f0d6b25",
   "metadata": {},
   "outputs": [
    {
     "data": {
      "image/png": "[encoded data removed]",
      "text/plain": [
       "<Figure size 432x288 with 1 Axes>"
      ]
     },
     "metadata": {
      "needs_background": "light"
     },
     "output_type": "display_data"
    }
   ],
   "source": [
    "df_chemicals.carc_ind.value_counts().plot(kind='bar', color=['#2980B9', '#DC7633'], alpha=0.8)\n",
    "plt.ylabel('Counts')\n",
    "plt.xlabel('Catergory based on Clean Air Act')\n",
    "plt.show()"
   ]
  },
  {
   "cell_type": "code",
   "execution_count": 15,
   "id": "307c8f99",
   "metadata": {},
   "outputs": [
    {
     "data": {
      "image/png": "[encoded data removed]",
      "text/plain": [
       "<Figure size 432x288 with 1 Axes>"
      ]
     },
     "metadata": {
      "needs_background": "light"
     },
     "output_type": "display_data"
    }
   ],
   "source": [
    "df_chemicals.metal_ind.value_counts().plot(kind='bar', color=['#2980B9', '#DC7633'], alpha=0.8)\n",
    "plt.ylabel('Counts')\n",
    "plt.xlabel('Catergory based on metal indicator')\n",
    "plt.show()"
   ]
  },
  {
   "cell_type": "code",
   "execution_count": 16,
   "id": "2c90ac50",
   "metadata": {},
   "outputs": [
    {
     "data": {
      "image/png": "[encoded data removed]",
      "text/plain": [
       "<Figure size 432x288 with 1 Axes>"
      ]
     },
     "metadata": {
      "needs_background": "light"
     },
     "output_type": "display_data"
    }
   ],
   "source": [
    "df_chemicals.pfas_ind.value_counts().plot(kind='bar', color=['#2980B9', '#DC7633'], alpha=0.8)\n",
    "plt.ylabel('Counts')\n",
    "plt.xlabel('Catergory based on PFAS')\n",
    "plt.show()"
   ]
  },
  {
   "cell_type": "markdown",
   "id": "94525c1a",
   "metadata": {},
   "source": [
    "As depicted above, the dataset contains only 197 out of around 700 chemicals subjected to the TRI program. The following conclusions for the applicability domain of the model are obtained:\n",
    "\n",
    "1. The dataset may not be useful for predicting source reduction activities for PFAS chemicals (TRI program started requering information for PFAS since 2020, see [link](https://www.epa.gov/toxics-release-inventory-tri-program/addition-certain-pfas-tri-national-defense-authorization-act)). Nonetheless, some PFAS chemicals may be represented if their chemical descriptors are similar to that for the chemicals available in the dataset.\n",
    "2. Metallic compounds are poorly represented by the dataset.\n",
    "3. Around 60 out of the 200 chemicals are subjected by the Clean Air Act.\n",
    "4. Carcinogenic chemicals are in a similar proportion than the non carcinogenic ones."
   ]
  },
  {
   "cell_type": "markdown",
   "id": "6c9a4077",
   "metadata": {},
   "source": [
    "### 3.2. Industry sectors"
   ]
  },
  {
   "cell_type": "markdown",
   "id": "a1ce5430",
   "metadata": {},
   "source": [
    "Let's analyze the scenario for the industry sectors present in the dataset"
   ]
  },
  {
   "cell_type": "code",
   "execution_count": 17,
   "id": "12643ae5",
   "metadata": {},
   "outputs": [
    {
     "data": {
      "text/plain": [
       "320"
      ]
     },
     "execution_count": 17,
     "metadata": {},
     "output_type": "execute_result"
    }
   ],
   "source": [
    "df_sectors = df['naics_code'].drop_duplicates(keep='first').reset_index(drop=True)\n",
    "number_of_unique_sectors = df_sectors.shape[0]\n",
    "number_of_unique_sectors"
   ]
  },
  {
   "cell_type": "code",
   "execution_count": 18,
   "id": "8d303a80",
   "metadata": {},
   "outputs": [
    {
     "data": {
      "text/plain": [
       "['11',\n",
       " '21',\n",
       " '22',\n",
       " '31',\n",
       " '32',\n",
       " '33',\n",
       " '42',\n",
       " '49',\n",
       " '51',\n",
       " '54',\n",
       " '56',\n",
       " '61',\n",
       " '62',\n",
       " '81',\n",
       " '92']"
      ]
     },
     "execution_count": 18,
     "metadata": {},
     "output_type": "execute_result"
    }
   ],
   "source": [
    "naics_2_sectors = df_sectors.astype('str').str[0:2].unique().tolist()\n",
    "naics_2_sectors.sort()\n",
    "naics_2_sectors"
   ]
  },
  {
   "cell_type": "code",
   "execution_count": 19,
   "id": "76c32dd9",
   "metadata": {},
   "outputs": [
    {
     "data": {
      "text/plain": [
       "15"
      ]
     },
     "execution_count": 19,
     "metadata": {},
     "output_type": "execute_result"
    }
   ],
   "source": [
    "len(naics_2_sectors)"
   ]
  },
  {
   "cell_type": "markdown",
   "id": "6830db96",
   "metadata": {},
   "source": [
    "Using the 6-digit NAICS codes, the dataset contains 320 sector. Nonetheless, if one-hot encoding is applied on this feature, it could increase drastically the dimensionality of the dataset, which is undesirable. Now, if only the 2-digit NAICS codes are used (the less specific classification), the dataset would offer an applicability domain for only 15 sectors:\n",
    "\n",
    "- 11: Agriculture, Forestry, Fishing and Hunting (not covered in economic census)\n",
    "- 21: Mining, Quarrying, and Oil and Gas Extraction\n",
    "- 22: Utilities\n",
    "- 31-33: Manufacturing\n",
    "- 42: Wholesale Trade\n",
    "- 49: Transportation and Warehousing\n",
    "- 51: Information\n",
    "- 54: Professional, Scientific, and Technical Services\n",
    "- 56: Administrative and Support and Waste Management and Remediation Services\n",
    "- 61: Educational Services\n",
    "- 62: Health Care and Social Assistance\n",
    "- 81: Other Services (except Public Administration)\n",
    "- 92: Public Administration (not covered in economic census)\n",
    "\n",
    "Thus, the applicability domain of the dataset contains 15 out of the 20 sectors in the NAICS classification (2-digit codes)\n",
    "\n",
    "See [NAICS Structure](https://www.census.gov/programs-surveys/economic-census/guidance/understanding-naics.html)"
   ]
  },
  {
   "cell_type": "markdown",
   "id": "5c02b4e1",
   "metadata": {},
   "source": [
    "Let's include the 2-digit NAICS code sector in the dataset for a further modeling"
   ]
  },
  {
   "cell_type": "code",
   "execution_count": 21,
   "id": "94aec81c",
   "metadata": {},
   "outputs": [],
   "source": [
    "naics_dict = {\n",
    "    '11': 'Agriculture, Forestry, Fishing and Hunting (not covered in economic census)',\n",
    "    '21': 'Mining, Quarrying, and Oil and Gas Extraction',\n",
    "    '22': 'Utilities',\n",
    "    '31': 'Manufacturing',\n",
    "    '32': 'Manufacturing',\n",
    "    '33': 'Manufacturing',\n",
    "    '42': 'Wholesale Trade',\n",
    "    '49': 'Transportation and Warehousing',\n",
    "    '51': 'Information',\n",
    "    '54': 'Professional, Scientific, and Technical Services',\n",
    "    '56': 'Administrative and Support and Waste Management and Remediation Services',\n",
    "    '61': 'Educational Services',\n",
    "    '62': 'Health Care and Social Assistance',\n",
    "    '81': 'Other Services (except Public Administration)',\n",
    "    '92': 'Public Administration (not covered in economic census)',\n",
    "}"
   ]
  },
  {
   "cell_type": "code",
   "execution_count": 27,
   "id": "b55ea970",
   "metadata": {},
   "outputs": [
    {
     "name": "stderr",
     "output_type": "stream",
     "text": [
      "C:\\Users\\JODHER~1\\AppData\\Local\\Temp/ipykernel_5948/2238531111.py:1: SettingWithCopyWarning: \n",
      "A value is trying to be set on a copy of a slice from a DataFrame.\n",
      "Try using .loc[row_indexer,col_indexer] = value instead\n",
      "\n",
      "See the caveats in the documentation: https://pandas.pydata.org/pandas-docs/stable/user_guide/indexing.html#returning-a-view-versus-a-copy\n",
      "  df['2_digit_naics'] = df.naics_code.astype('str').str[0:2].apply(lambda x: naics_dict[x])\n"
     ]
    }
   ],
   "source": [
    "df['2_digit_naics'] = df.naics_code.astype('str').str[0:2].apply(lambda x: naics_dict[x])"
   ]
  },
  {
   "cell_type": "code",
   "execution_count": 28,
   "id": "3867f6f3",
   "metadata": {},
   "outputs": [
    {
     "name": "stdout",
     "output_type": "stream",
     "text": [
      "<class 'pandas.core.frame.DataFrame'>\n",
      "RangeIndex: 965300 entries, 0 to 965299\n",
      "Data columns (total 13 columns):\n",
      " #   Column                        Non-Null Count   Dtype \n",
      "---  ------                        --------------   ----- \n",
      " 0   reporting_year                965300 non-null  int64 \n",
      " 1   naics_code                    965300 non-null  int64 \n",
      " 2   source_reduction_code         965300 non-null  object\n",
      " 3   source_reduction_description  965300 non-null  object\n",
      " 4   reduction_code                965300 non-null  object\n",
      " 5   description_code              965300 non-null  object\n",
      " 6   chemical_name                 965300 non-null  object\n",
      " 7   caac_ind                      965300 non-null  object\n",
      " 8   carc_ind                      965300 non-null  object\n",
      " 9   pfas_ind                      965300 non-null  object\n",
      " 10  metal_ind                     965300 non-null  object\n",
      " 11  smiles                        965300 non-null  object\n",
      " 12  2_digit_naics                 965300 non-null  object\n",
      "dtypes: int64(2), object(11)\n",
      "memory usage: 95.7+ MB\n"
     ]
    }
   ],
   "source": [
    "df.info()"
   ]
  },
  {
   "cell_type": "markdown",
   "id": "25a06bd9",
   "metadata": {},
   "source": [
    "### 3.3. Source reduction activites\n",
    "\n",
    "Now, let's check what happens with the dataset regarding the source reduction activites."
   ]
  },
  {
   "cell_type": "code",
   "execution_count": 29,
   "id": "c84ac9a2",
   "metadata": {},
   "outputs": [
    {
     "data": {
      "text/html": [
       "<div>\n",
       "<style scoped>\n",
       "    .dataframe tbody tr th:only-of-type {\n",
       "        vertical-align: middle;\n",
       "    }\n",
       "\n",
       "    .dataframe tbody tr th {\n",
       "        vertical-align: top;\n",
       "    }\n",
       "\n",
       "    .dataframe thead th {\n",
       "        text-align: right;\n",
       "    }\n",
       "</style>\n",
       "<table border=\"1\" class=\"dataframe\">\n",
       "  <thead>\n",
       "    <tr style=\"text-align: right;\">\n",
       "      <th></th>\n",
       "      <th>reduction_code</th>\n",
       "      <th>description_code</th>\n",
       "    </tr>\n",
       "  </thead>\n",
       "  <tbody>\n",
       "    <tr>\n",
       "      <th>0</th>\n",
       "      <td>R5</td>\n",
       "      <td>greater than or equal 5%, but less than to 15%</td>\n",
       "    </tr>\n",
       "    <tr>\n",
       "      <th>394</th>\n",
       "      <td>R2</td>\n",
       "      <td>greater than or equal to 50%, but less than 100%</td>\n",
       "    </tr>\n",
       "    <tr>\n",
       "      <th>788</th>\n",
       "      <td>R6</td>\n",
       "      <td>greater than 0%, but less than 5%</td>\n",
       "    </tr>\n",
       "    <tr>\n",
       "      <th>1576</th>\n",
       "      <td>R3</td>\n",
       "      <td>greater than or equal to 25%, but less than 50%</td>\n",
       "    </tr>\n",
       "    <tr>\n",
       "      <th>4925</th>\n",
       "      <td>R1</td>\n",
       "      <td>100% (elimination of the chemical)</td>\n",
       "    </tr>\n",
       "    <tr>\n",
       "      <th>7289</th>\n",
       "      <td>R4</td>\n",
       "      <td>greater than or equal 15%, but less than to 25%</td>\n",
       "    </tr>\n",
       "  </tbody>\n",
       "</table>\n",
       "</div>"
      ],
      "text/plain": [
       "     reduction_code                                  description_code\n",
       "0                R5    greater than or equal 5%, but less than to 15%\n",
       "394              R2  greater than or equal to 50%, but less than 100%\n",
       "788              R6                 greater than 0%, but less than 5%\n",
       "1576             R3   greater than or equal to 25%, but less than 50%\n",
       "4925             R1                100% (elimination of the chemical)\n",
       "7289             R4   greater than or equal 15%, but less than to 25%"
      ]
     },
     "execution_count": 29,
     "metadata": {},
     "output_type": "execute_result"
    }
   ],
   "source": [
    "df[['reduction_code', 'description_code']].drop_duplicates(keep='first')"
   ]
  },
  {
   "cell_type": "markdown",
   "id": "0add10df",
   "metadata": {},
   "source": [
    "As shown above, the dataset contains the 6 reduction codes. This reduction codes are ordinal. Thus, this feature could be encoded as ordinal. "
   ]
  },
  {
   "cell_type": "code",
   "execution_count": 30,
   "id": "aa32376f",
   "metadata": {},
   "outputs": [
    {
     "data": {
      "text/html": [
       "<div>\n",
       "<style scoped>\n",
       "    .dataframe tbody tr th:only-of-type {\n",
       "        vertical-align: middle;\n",
       "    }\n",
       "\n",
       "    .dataframe tbody tr th {\n",
       "        vertical-align: top;\n",
       "    }\n",
       "\n",
       "    .dataframe thead th {\n",
       "        text-align: right;\n",
       "    }\n",
       "</style>\n",
       "<table border=\"1\" class=\"dataframe\">\n",
       "  <thead>\n",
       "    <tr style=\"text-align: right;\">\n",
       "      <th></th>\n",
       "      <th>source_reduction_code</th>\n",
       "      <th>source_reduction_description</th>\n",
       "    </tr>\n",
       "  </thead>\n",
       "  <tbody>\n",
       "    <tr>\n",
       "      <th>0</th>\n",
       "      <td>W19</td>\n",
       "      <td>Other changes in operating practices</td>\n",
       "    </tr>\n",
       "    <tr>\n",
       "      <th>197</th>\n",
       "      <td>W36</td>\n",
       "      <td>Implemented inspection or monitoring program o...</td>\n",
       "    </tr>\n",
       "    <tr>\n",
       "      <th>394</th>\n",
       "      <td>W50</td>\n",
       "      <td>Optimized reaction conditions or otherwise inc...</td>\n",
       "    </tr>\n",
       "    <tr>\n",
       "      <th>591</th>\n",
       "      <td>W58</td>\n",
       "      <td>Other process modifications</td>\n",
       "    </tr>\n",
       "    <tr>\n",
       "      <th>985</th>\n",
       "      <td>W13</td>\n",
       "      <td>Improved maintenance scheduling, recordkeeping...</td>\n",
       "    </tr>\n",
       "    <tr>\n",
       "      <th>1379</th>\n",
       "      <td>W42</td>\n",
       "      <td>Substituted raw materials</td>\n",
       "    </tr>\n",
       "    <tr>\n",
       "      <th>2561</th>\n",
       "      <td>W32</td>\n",
       "      <td>Improved procedures for loading, unloading, an...</td>\n",
       "    </tr>\n",
       "    <tr>\n",
       "      <th>2758</th>\n",
       "      <td>W33</td>\n",
       "      <td>Installed overflow alarms or automatic shutoff...</td>\n",
       "    </tr>\n",
       "    <tr>\n",
       "      <th>2955</th>\n",
       "      <td>W39</td>\n",
       "      <td>Other spill or leak prevention</td>\n",
       "    </tr>\n",
       "    <tr>\n",
       "      <th>4334</th>\n",
       "      <td>W14</td>\n",
       "      <td>Changed production schedule to minimize equipm...</td>\n",
       "    </tr>\n",
       "    <tr>\n",
       "      <th>4531</th>\n",
       "      <td>W31</td>\n",
       "      <td>Improved storage or stacking procedures</td>\n",
       "    </tr>\n",
       "    <tr>\n",
       "      <th>4728</th>\n",
       "      <td>W52</td>\n",
       "      <td>Modified equipment, layout, or piping</td>\n",
       "    </tr>\n",
       "    <tr>\n",
       "      <th>5122</th>\n",
       "      <td>W49</td>\n",
       "      <td>Other raw material modifications</td>\n",
       "    </tr>\n",
       "    <tr>\n",
       "      <th>6501</th>\n",
       "      <td>W54</td>\n",
       "      <td>Instituted better controls on operating bulk c...</td>\n",
       "    </tr>\n",
       "    <tr>\n",
       "      <th>7880</th>\n",
       "      <td>W15</td>\n",
       "      <td>Introduced an in-line product quality monitori...</td>\n",
       "    </tr>\n",
       "    <tr>\n",
       "      <th>8471</th>\n",
       "      <td>W29</td>\n",
       "      <td>Other changes in inventory control</td>\n",
       "    </tr>\n",
       "    <tr>\n",
       "      <th>9062</th>\n",
       "      <td>W51</td>\n",
       "      <td>Instituted recirculation within a process</td>\n",
       "    </tr>\n",
       "    <tr>\n",
       "      <th>10047</th>\n",
       "      <td>W71</td>\n",
       "      <td>Other cleaning and degreasing modifications</td>\n",
       "    </tr>\n",
       "    <tr>\n",
       "      <th>11623</th>\n",
       "      <td>W43</td>\n",
       "      <td>Substituted a feedstock or reagent chemical wi...</td>\n",
       "    </tr>\n",
       "    <tr>\n",
       "      <th>13199</th>\n",
       "      <td>W68</td>\n",
       "      <td>Improved rinse equipment operation</td>\n",
       "    </tr>\n",
       "    <tr>\n",
       "      <th>17730</th>\n",
       "      <td>W21</td>\n",
       "      <td>Instituted procedures to ensure that materials...</td>\n",
       "    </tr>\n",
       "    <tr>\n",
       "      <th>19897</th>\n",
       "      <td>W73</td>\n",
       "      <td>Substituted coating materials used</td>\n",
       "    </tr>\n",
       "    <tr>\n",
       "      <th>20488</th>\n",
       "      <td>W22</td>\n",
       "      <td>Began to test outdated material - continue to ...</td>\n",
       "    </tr>\n",
       "    <tr>\n",
       "      <th>20882</th>\n",
       "      <td>W82</td>\n",
       "      <td>Modified design or composition of product</td>\n",
       "    </tr>\n",
       "    <tr>\n",
       "      <th>24822</th>\n",
       "      <td>W24</td>\n",
       "      <td>Instituted better labeling procedures</td>\n",
       "    </tr>\n",
       "    <tr>\n",
       "      <th>27186</th>\n",
       "      <td>W53</td>\n",
       "      <td>Use of a differant process catalyst</td>\n",
       "    </tr>\n",
       "    <tr>\n",
       "      <th>38218</th>\n",
       "      <td>W89</td>\n",
       "      <td>Other product modifications</td>\n",
       "    </tr>\n",
       "    <tr>\n",
       "      <th>43931</th>\n",
       "      <td>W41</td>\n",
       "      <td>Increased purity or raw materials</td>\n",
       "    </tr>\n",
       "    <tr>\n",
       "      <th>44916</th>\n",
       "      <td>W61</td>\n",
       "      <td>Changed to aqueous cleaners (from solvents or ...</td>\n",
       "    </tr>\n",
       "    <tr>\n",
       "      <th>45310</th>\n",
       "      <td>W55</td>\n",
       "      <td>Changed from small volume containers to bulk c...</td>\n",
       "    </tr>\n",
       "    <tr>\n",
       "      <th>46295</th>\n",
       "      <td>W56</td>\n",
       "      <td>Reduced or eliminated use of an organic solvent</td>\n",
       "    </tr>\n",
       "    <tr>\n",
       "      <th>46492</th>\n",
       "      <td>W67</td>\n",
       "      <td>Improved rinse equipment design</td>\n",
       "    </tr>\n",
       "    <tr>\n",
       "      <th>49250</th>\n",
       "      <td>W35</td>\n",
       "      <td>Installed vapor recovery systems</td>\n",
       "    </tr>\n",
       "    <tr>\n",
       "      <th>56539</th>\n",
       "      <td>W25</td>\n",
       "      <td>Instituted clearinghouse to exchange materials...</td>\n",
       "    </tr>\n",
       "    <tr>\n",
       "      <th>56933</th>\n",
       "      <td>W74</td>\n",
       "      <td>Improved application techniques</td>\n",
       "    </tr>\n",
       "    <tr>\n",
       "      <th>68753</th>\n",
       "      <td>W66</td>\n",
       "      <td>Modified or installed rinse systems</td>\n",
       "    </tr>\n",
       "    <tr>\n",
       "      <th>70723</th>\n",
       "      <td>W81</td>\n",
       "      <td>Changed product specifications</td>\n",
       "    </tr>\n",
       "    <tr>\n",
       "      <th>85695</th>\n",
       "      <td>W72</td>\n",
       "      <td>Modified spray systems or equipment</td>\n",
       "    </tr>\n",
       "    <tr>\n",
       "      <th>89241</th>\n",
       "      <td>W23</td>\n",
       "      <td>Eliminated shelf-life requirements for stable ...</td>\n",
       "    </tr>\n",
       "    <tr>\n",
       "      <th>94757</th>\n",
       "      <td>W75</td>\n",
       "      <td>Changed from spray to other system</td>\n",
       "    </tr>\n",
       "    <tr>\n",
       "      <th>94954</th>\n",
       "      <td>W78</td>\n",
       "      <td>Other surface preparation and finishing modifi...</td>\n",
       "    </tr>\n",
       "    <tr>\n",
       "      <th>96727</th>\n",
       "      <td>W59</td>\n",
       "      <td>Modified stripping/cleaning equipment</td>\n",
       "    </tr>\n",
       "    <tr>\n",
       "      <th>118397</th>\n",
       "      <td>W65</td>\n",
       "      <td>Redesigned parts racks to reduce dragout</td>\n",
       "    </tr>\n",
       "    <tr>\n",
       "      <th>123913</th>\n",
       "      <td>W57</td>\n",
       "      <td>Used biotechnology in manufacturing process</td>\n",
       "    </tr>\n",
       "    <tr>\n",
       "      <th>131990</th>\n",
       "      <td>W60</td>\n",
       "      <td>Changed to mechanical stripping/cleaning devic...</td>\n",
       "    </tr>\n",
       "    <tr>\n",
       "      <th>173951</th>\n",
       "      <td>W84</td>\n",
       "      <td>Developed a new chemical product to replace pr...</td>\n",
       "    </tr>\n",
       "    <tr>\n",
       "      <th>186362</th>\n",
       "      <td>W64</td>\n",
       "      <td>Improved draining procedures</td>\n",
       "    </tr>\n",
       "    <tr>\n",
       "      <th>374891</th>\n",
       "      <td>W83</td>\n",
       "      <td>Modified packaging</td>\n",
       "    </tr>\n",
       "    <tr>\n",
       "      <th>456055</th>\n",
       "      <td>W63</td>\n",
       "      <td>Modified containment procedures for cleaning u...</td>\n",
       "    </tr>\n",
       "  </tbody>\n",
       "</table>\n",
       "</div>"
      ],
      "text/plain": [
       "       source_reduction_code  \\\n",
       "0                        W19   \n",
       "197                      W36   \n",
       "394                      W50   \n",
       "591                      W58   \n",
       "985                      W13   \n",
       "1379                     W42   \n",
       "2561                     W32   \n",
       "2758                     W33   \n",
       "2955                     W39   \n",
       "4334                     W14   \n",
       "4531                     W31   \n",
       "4728                     W52   \n",
       "5122                     W49   \n",
       "6501                     W54   \n",
       "7880                     W15   \n",
       "8471                     W29   \n",
       "9062                     W51   \n",
       "10047                    W71   \n",
       "11623                    W43   \n",
       "13199                    W68   \n",
       "17730                    W21   \n",
       "19897                    W73   \n",
       "20488                    W22   \n",
       "20882                    W82   \n",
       "24822                    W24   \n",
       "27186                    W53   \n",
       "38218                    W89   \n",
       "43931                    W41   \n",
       "44916                    W61   \n",
       "45310                    W55   \n",
       "46295                    W56   \n",
       "46492                    W67   \n",
       "49250                    W35   \n",
       "56539                    W25   \n",
       "56933                    W74   \n",
       "68753                    W66   \n",
       "70723                    W81   \n",
       "85695                    W72   \n",
       "89241                    W23   \n",
       "94757                    W75   \n",
       "94954                    W78   \n",
       "96727                    W59   \n",
       "118397                   W65   \n",
       "123913                   W57   \n",
       "131990                   W60   \n",
       "173951                   W84   \n",
       "186362                   W64   \n",
       "374891                   W83   \n",
       "456055                   W63   \n",
       "\n",
       "                             source_reduction_description  \n",
       "0                    Other changes in operating practices  \n",
       "197     Implemented inspection or monitoring program o...  \n",
       "394     Optimized reaction conditions or otherwise inc...  \n",
       "591                           Other process modifications  \n",
       "985     Improved maintenance scheduling, recordkeeping...  \n",
       "1379                            Substituted raw materials  \n",
       "2561    Improved procedures for loading, unloading, an...  \n",
       "2758    Installed overflow alarms or automatic shutoff...  \n",
       "2955                       Other spill or leak prevention  \n",
       "4334    Changed production schedule to minimize equipm...  \n",
       "4531              Improved storage or stacking procedures  \n",
       "4728                Modified equipment, layout, or piping  \n",
       "5122                     Other raw material modifications  \n",
       "6501    Instituted better controls on operating bulk c...  \n",
       "7880    Introduced an in-line product quality monitori...  \n",
       "8471                   Other changes in inventory control  \n",
       "9062            Instituted recirculation within a process  \n",
       "10047         Other cleaning and degreasing modifications  \n",
       "11623   Substituted a feedstock or reagent chemical wi...  \n",
       "13199                  Improved rinse equipment operation  \n",
       "17730   Instituted procedures to ensure that materials...  \n",
       "19897                  Substituted coating materials used  \n",
       "20488   Began to test outdated material - continue to ...  \n",
       "20882           Modified design or composition of product  \n",
       "24822               Instituted better labeling procedures  \n",
       "27186                 Use of a differant process catalyst  \n",
       "38218                         Other product modifications  \n",
       "43931                   Increased purity or raw materials  \n",
       "44916   Changed to aqueous cleaners (from solvents or ...  \n",
       "45310   Changed from small volume containers to bulk c...  \n",
       "46295     Reduced or eliminated use of an organic solvent  \n",
       "46492                     Improved rinse equipment design  \n",
       "49250                    Installed vapor recovery systems  \n",
       "56539   Instituted clearinghouse to exchange materials...  \n",
       "56933                     Improved application techniques  \n",
       "68753                 Modified or installed rinse systems  \n",
       "70723                      Changed product specifications  \n",
       "85695                 Modified spray systems or equipment  \n",
       "89241   Eliminated shelf-life requirements for stable ...  \n",
       "94757                  Changed from spray to other system  \n",
       "94954   Other surface preparation and finishing modifi...  \n",
       "96727               Modified stripping/cleaning equipment  \n",
       "118397           Redesigned parts racks to reduce dragout  \n",
       "123913        Used biotechnology in manufacturing process  \n",
       "131990  Changed to mechanical stripping/cleaning devic...  \n",
       "173951  Developed a new chemical product to replace pr...  \n",
       "186362                       Improved draining procedures  \n",
       "374891                                 Modified packaging  \n",
       "456055  Modified containment procedures for cleaning u...  "
      ]
     },
     "execution_count": 30,
     "metadata": {},
     "output_type": "execute_result"
    }
   ],
   "source": [
    "df[['source_reduction_code', 'source_reduction_description']].drop_duplicates(keep='first')"
   ]
  },
  {
   "cell_type": "code",
   "execution_count": 31,
   "id": "19666bf1",
   "metadata": {},
   "outputs": [
    {
     "data": {
      "text/plain": [
       "49"
      ]
     },
     "execution_count": 31,
     "metadata": {},
     "output_type": "execute_result"
    }
   ],
   "source": [
    "df[['source_reduction_code', 'source_reduction_description']].drop_duplicates(keep='first').shape[0]"
   ]
  },
  {
   "cell_type": "markdown",
   "id": "233cda6d",
   "metadata": {},
   "source": [
    "As shown above, there are 49 source reduction activities, which means that the ML model would classify among 49 potential categories. This task could be complicated for the model considering that the dataset has 980,000 different samples. As an alternative, the source reduction activity categories belong to a more general categorization provided by the TRI program that contains only 8 categories (see [link](https://ordspub.epa.gov/ords/guideme_ext/guideme_ext/guideme/file/rfi_ry18.pdf)):\n",
    "\n",
    "1. Good Operating Practices (W13, W14, W15, and W19) \n",
    "2. Inventory Control (W21, W22, W23, W24, W25, and W29)\n",
    "3. Spill and Leak Prevention (W31, W32, W33, W35, W36, and W39)\n",
    "4. Raw Material Modifications (W41, W42, W43, and W49)\n",
    "5. Process Modifications (W50, W51, W52, W53, W54, W55, W56, W57, and W58)\n",
    "6. Cleaning and Degreasing (W59, W60, W61, W63, W64, W65, W66, W67, W68, and W71)\n",
    "7. Surface Preparation and Finishing (W72, W73, W74, W75, and W78)\n",
    "8. Product Modifications (W81, W82, W83, W84, and W89)\n"
   ]
  },
  {
   "cell_type": "code",
   "execution_count": 32,
   "id": "9f4eb649",
   "metadata": {},
   "outputs": [
    {
     "data": {
      "image/png": "[encoded data removed]",
      "text/plain": [
       "<Figure size 1080x1080 with 1 Axes>"
      ]
     },
     "metadata": {
      "needs_background": "light"
     },
     "output_type": "display_data"
    }
   ],
   "source": [
    "colors = list(mcolors.CSS4_COLORS.values())\n",
    "colors.sort()\n",
    "df['source_reduction_code'].value_counts().plot(kind='bar',\n",
    "                                                alpha=0.8,\n",
    "                                                figsize=(15, 15),\n",
    "                                                color=colors[0:49])\n",
    "plt.ylabel('Counts')\n",
    "plt.xlabel('Source reduction activity code')\n",
    "plt.show()"
   ]
  },
  {
   "cell_type": "markdown",
   "id": "a216e4b0",
   "metadata": {},
   "source": [
    "The figure above shows that for the 49 categories representing source reduction activities, the data set is very unbalanced. One option is to remove categories that appear few times in the data set. Another option is to use data augmentation techniques such as random oversampling to balance the data set."
   ]
  },
  {
   "cell_type": "code",
   "execution_count": 33,
   "id": "dfa35468",
   "metadata": {},
   "outputs": [],
   "source": [
    "mapping_dict = {\n",
    "    'W13': 'Good Operating Practices',\n",
    "    'W14': 'Good Operating Practices',\n",
    "    'W15': 'Good Operating Practices',\n",
    "    'W19': 'Good Operating Practices',\n",
    "    'W21': 'Inventory Control',\n",
    "    'W22': 'Inventory Control',\n",
    "    'W23': 'Inventory Control',\n",
    "    'W24': 'Inventory Control',\n",
    "    'W25': 'Inventory Control',\n",
    "    'W29': 'Inventory Control',\n",
    "    'W31': 'Spill and Leak Prevention',\n",
    "    'W32': 'Spill and Leak Prevention',\n",
    "    'W33': 'Spill and Leak Prevention',\n",
    "    'W35': 'Spill and Leak Prevention',\n",
    "    'W36': 'Spill and Leak Prevention',\n",
    "    'W39': 'Spill and Leak Prevention',\n",
    "    'W41': 'Raw Material Modifications',\n",
    "    'W42': 'Raw Material Modifications',\n",
    "    'W43': 'Raw Material Modifications',\n",
    "    'W49': 'Raw Material Modifications',\n",
    "    'W50': 'Process Modifications',\n",
    "    'W51': 'Process Modifications',\n",
    "    'W52': 'Process Modifications',\n",
    "    'W53': 'Process Modifications',\n",
    "    'W54': 'Process Modifications',\n",
    "    'W55': 'Process Modifications',\n",
    "    'W56': 'Process Modifications',\n",
    "    'W57': 'Process Modifications',\n",
    "    'W58': 'Process Modifications',\n",
    "    'W59': 'Cleaning and Degreasing',\n",
    "    'W60': 'Cleaning and Degreasing',\n",
    "    'W61': 'Cleaning and Degreasing',\n",
    "    'W63': 'Cleaning and Degreasing',\n",
    "    'W64': 'Cleaning and Degreasing',\n",
    "    'W65': 'Cleaning and Degreasing',\n",
    "    'W66': 'Cleaning and Degreasing',\n",
    "    'W67': 'Cleaning and Degreasing',\n",
    "    'W68': 'Cleaning and Degreasing',\n",
    "    'W71': 'Cleaning and Degreasing',\n",
    "    'W72': 'Surface Preparation and Finishing',\n",
    "    'W73': 'Surface Preparation and Finishing',\n",
    "    'W74': 'Surface Preparation and Finishing',\n",
    "    'W75': 'Surface Preparation and Finishing',\n",
    "    'W78': 'Surface Preparation and Finishing',\n",
    "    'W81': 'Product Modifications',\n",
    "    'W82': 'Product Modifications',\n",
    "    'W83': 'Product Modifications',\n",
    "    'W84': 'Product Modifications',\n",
    "    'W89': 'Product Modifications'\n",
    "}"
   ]
  },
  {
   "cell_type": "code",
   "execution_count": 34,
   "id": "778c8ceb",
   "metadata": {},
   "outputs": [
    {
     "data": {
      "text/plain": [
       "49"
      ]
     },
     "execution_count": 34,
     "metadata": {},
     "output_type": "execute_result"
    }
   ],
   "source": [
    "len(mapping_dict.keys())"
   ]
  },
  {
   "cell_type": "code",
   "execution_count": 35,
   "id": "343e2269",
   "metadata": {},
   "outputs": [
    {
     "name": "stderr",
     "output_type": "stream",
     "text": [
      "C:\\Users\\JODHER~1\\AppData\\Local\\Temp/ipykernel_5948/3269311452.py:1: SettingWithCopyWarning: \n",
      "A value is trying to be set on a copy of a slice from a DataFrame.\n",
      "Try using .loc[row_indexer,col_indexer] = value instead\n",
      "\n",
      "See the caveats in the documentation: https://pandas.pydata.org/pandas-docs/stable/user_guide/indexing.html#returning-a-view-versus-a-copy\n",
      "  df['source_reduction_general_category'] = df['source_reduction_code'].map(mapping_dict)\n"
     ]
    }
   ],
   "source": [
    "df['source_reduction_general_category'] = df['source_reduction_code'].map(mapping_dict)"
   ]
  },
  {
   "cell_type": "code",
   "execution_count": 36,
   "id": "c40d70bf",
   "metadata": {},
   "outputs": [
    {
     "data": {
      "text/html": [
       "<div>\n",
       "<style scoped>\n",
       "    .dataframe tbody tr th:only-of-type {\n",
       "        vertical-align: middle;\n",
       "    }\n",
       "\n",
       "    .dataframe tbody tr th {\n",
       "        vertical-align: top;\n",
       "    }\n",
       "\n",
       "    .dataframe thead th {\n",
       "        text-align: right;\n",
       "    }\n",
       "</style>\n",
       "<table border=\"1\" class=\"dataframe\">\n",
       "  <thead>\n",
       "    <tr style=\"text-align: right;\">\n",
       "      <th></th>\n",
       "      <th>reporting_year</th>\n",
       "      <th>naics_code</th>\n",
       "      <th>source_reduction_code</th>\n",
       "      <th>source_reduction_description</th>\n",
       "      <th>reduction_code</th>\n",
       "      <th>description_code</th>\n",
       "      <th>chemical_name</th>\n",
       "      <th>caac_ind</th>\n",
       "      <th>carc_ind</th>\n",
       "      <th>pfas_ind</th>\n",
       "      <th>metal_ind</th>\n",
       "      <th>smiles</th>\n",
       "      <th>2_digit_naics</th>\n",
       "      <th>source_reduction_general_category</th>\n",
       "    </tr>\n",
       "  </thead>\n",
       "  <tbody>\n",
       "    <tr>\n",
       "      <th>0</th>\n",
       "      <td>2014</td>\n",
       "      <td>212111</td>\n",
       "      <td>W19</td>\n",
       "      <td>Other changes in operating practices</td>\n",
       "      <td>R5</td>\n",
       "      <td>greater than or equal 5%, but less than to 15%</td>\n",
       "      <td>Formaldehyde</td>\n",
       "      <td>YES</td>\n",
       "      <td>YES</td>\n",
       "      <td>NO</td>\n",
       "      <td>NO</td>\n",
       "      <td>C=O</td>\n",
       "      <td>Mining, Quarrying, and Oil and Gas Extraction</td>\n",
       "      <td>Good Operating Practices</td>\n",
       "    </tr>\n",
       "    <tr>\n",
       "      <th>1</th>\n",
       "      <td>2014</td>\n",
       "      <td>212111</td>\n",
       "      <td>W19</td>\n",
       "      <td>Other changes in operating practices</td>\n",
       "      <td>R5</td>\n",
       "      <td>greater than or equal 5%, but less than to 15%</td>\n",
       "      <td>Nitroglycerin</td>\n",
       "      <td>NO</td>\n",
       "      <td>NO</td>\n",
       "      <td>NO</td>\n",
       "      <td>NO</td>\n",
       "      <td>C(C(CO[N+](=O)[O-])O[N+](=O)[O-])O[N+](=O)[O-]</td>\n",
       "      <td>Mining, Quarrying, and Oil and Gas Extraction</td>\n",
       "      <td>Good Operating Practices</td>\n",
       "    </tr>\n",
       "    <tr>\n",
       "      <th>2</th>\n",
       "      <td>2014</td>\n",
       "      <td>212111</td>\n",
       "      <td>W19</td>\n",
       "      <td>Other changes in operating practices</td>\n",
       "      <td>R5</td>\n",
       "      <td>greater than or equal 5%, but less than to 15%</td>\n",
       "      <td>Phenytoin</td>\n",
       "      <td>NO</td>\n",
       "      <td>YES</td>\n",
       "      <td>NO</td>\n",
       "      <td>NO</td>\n",
       "      <td>C1=CC=C(C=C1)C2(C(=O)NC(=O)N2)C3=CC=CC=C3</td>\n",
       "      <td>Mining, Quarrying, and Oil and Gas Extraction</td>\n",
       "      <td>Good Operating Practices</td>\n",
       "    </tr>\n",
       "    <tr>\n",
       "      <th>3</th>\n",
       "      <td>2014</td>\n",
       "      <td>212111</td>\n",
       "      <td>W19</td>\n",
       "      <td>Other changes in operating practices</td>\n",
       "      <td>R5</td>\n",
       "      <td>greater than or equal 5%, but less than to 15%</td>\n",
       "      <td>Aniline</td>\n",
       "      <td>YES</td>\n",
       "      <td>NO</td>\n",
       "      <td>NO</td>\n",
       "      <td>NO</td>\n",
       "      <td>C1=CC=C(C=C1)N</td>\n",
       "      <td>Mining, Quarrying, and Oil and Gas Extraction</td>\n",
       "      <td>Good Operating Practices</td>\n",
       "    </tr>\n",
       "    <tr>\n",
       "      <th>4</th>\n",
       "      <td>2014</td>\n",
       "      <td>212111</td>\n",
       "      <td>W19</td>\n",
       "      <td>Other changes in operating practices</td>\n",
       "      <td>R5</td>\n",
       "      <td>greater than or equal 5%, but less than to 15%</td>\n",
       "      <td>Dichlorvos</td>\n",
       "      <td>YES</td>\n",
       "      <td>YES</td>\n",
       "      <td>NO</td>\n",
       "      <td>NO</td>\n",
       "      <td>COP(=O)(OC)OC=C(Cl)Cl</td>\n",
       "      <td>Mining, Quarrying, and Oil and Gas Extraction</td>\n",
       "      <td>Good Operating Practices</td>\n",
       "    </tr>\n",
       "  </tbody>\n",
       "</table>\n",
       "</div>"
      ],
      "text/plain": [
       "   reporting_year  naics_code source_reduction_code  \\\n",
       "0            2014      212111                   W19   \n",
       "1            2014      212111                   W19   \n",
       "2            2014      212111                   W19   \n",
       "3            2014      212111                   W19   \n",
       "4            2014      212111                   W19   \n",
       "\n",
       "           source_reduction_description reduction_code  \\\n",
       "0  Other changes in operating practices             R5   \n",
       "1  Other changes in operating practices             R5   \n",
       "2  Other changes in operating practices             R5   \n",
       "3  Other changes in operating practices             R5   \n",
       "4  Other changes in operating practices             R5   \n",
       "\n",
       "                                 description_code  chemical_name caac_ind  \\\n",
       "0  greater than or equal 5%, but less than to 15%   Formaldehyde      YES   \n",
       "1  greater than or equal 5%, but less than to 15%  Nitroglycerin       NO   \n",
       "2  greater than or equal 5%, but less than to 15%      Phenytoin       NO   \n",
       "3  greater than or equal 5%, but less than to 15%        Aniline      YES   \n",
       "4  greater than or equal 5%, but less than to 15%     Dichlorvos      YES   \n",
       "\n",
       "  carc_ind pfas_ind metal_ind                                          smiles  \\\n",
       "0      YES       NO        NO                                             C=O   \n",
       "1       NO       NO        NO  C(C(CO[N+](=O)[O-])O[N+](=O)[O-])O[N+](=O)[O-]   \n",
       "2      YES       NO        NO       C1=CC=C(C=C1)C2(C(=O)NC(=O)N2)C3=CC=CC=C3   \n",
       "3       NO       NO        NO                                  C1=CC=C(C=C1)N   \n",
       "4      YES       NO        NO                           COP(=O)(OC)OC=C(Cl)Cl   \n",
       "\n",
       "                                   2_digit_naics  \\\n",
       "0  Mining, Quarrying, and Oil and Gas Extraction   \n",
       "1  Mining, Quarrying, and Oil and Gas Extraction   \n",
       "2  Mining, Quarrying, and Oil and Gas Extraction   \n",
       "3  Mining, Quarrying, and Oil and Gas Extraction   \n",
       "4  Mining, Quarrying, and Oil and Gas Extraction   \n",
       "\n",
       "  source_reduction_general_category  \n",
       "0          Good Operating Practices  \n",
       "1          Good Operating Practices  \n",
       "2          Good Operating Practices  \n",
       "3          Good Operating Practices  \n",
       "4          Good Operating Practices  "
      ]
     },
     "execution_count": 36,
     "metadata": {},
     "output_type": "execute_result"
    }
   ],
   "source": [
    "df.head()"
   ]
  },
  {
   "cell_type": "code",
   "execution_count": 37,
   "id": "884e61c3",
   "metadata": {},
   "outputs": [
    {
     "name": "stdout",
     "output_type": "stream",
     "text": [
      "<class 'pandas.core.frame.DataFrame'>\n",
      "RangeIndex: 965300 entries, 0 to 965299\n",
      "Data columns (total 14 columns):\n",
      " #   Column                             Non-Null Count   Dtype \n",
      "---  ------                             --------------   ----- \n",
      " 0   reporting_year                     965300 non-null  int64 \n",
      " 1   naics_code                         965300 non-null  int64 \n",
      " 2   source_reduction_code              965300 non-null  object\n",
      " 3   source_reduction_description       965300 non-null  object\n",
      " 4   reduction_code                     965300 non-null  object\n",
      " 5   description_code                   965300 non-null  object\n",
      " 6   chemical_name                      965300 non-null  object\n",
      " 7   caac_ind                           965300 non-null  object\n",
      " 8   carc_ind                           965300 non-null  object\n",
      " 9   pfas_ind                           965300 non-null  object\n",
      " 10  metal_ind                          965300 non-null  object\n",
      " 11  smiles                             965300 non-null  object\n",
      " 12  2_digit_naics                      965300 non-null  object\n",
      " 13  source_reduction_general_category  965300 non-null  object\n",
      "dtypes: int64(2), object(12)\n",
      "memory usage: 103.1+ MB\n"
     ]
    }
   ],
   "source": [
    "df.info()"
   ]
  },
  {
   "cell_type": "code",
   "execution_count": 38,
   "id": "1b52073d",
   "metadata": {},
   "outputs": [
    {
     "data": {
      "image/png": "[encoded data removed]",
      "text/plain": [
       "<Figure size 1080x1080 with 1 Axes>"
      ]
     },
     "metadata": {
      "needs_background": "light"
     },
     "output_type": "display_data"
    }
   ],
   "source": [
    "colors = list(mcolors.CSS4_COLORS.values())\n",
    "colors.sort()\n",
    "df['source_reduction_general_category'].value_counts().plot(kind='bar',\n",
    "                                                alpha=0.8,\n",
    "                                                figsize=(15, 15),\n",
    "                                                color=colors[0:8])\n",
    "plt.ylabel('Counts')\n",
    "plt.xlabel('Source reduction activity general category')\n",
    "plt.show()"
   ]
  },
  {
   "cell_type": "markdown",
   "id": "d93e7604",
   "metadata": {},
   "source": [
    "As the figure above shows, the use of the 8 general categories for source reduction activities not only reduces the complexity of the classification task, but can also reduce the imbalance of the dataset for those categories that previously did not even exceed 2000 samples."
   ]
  }
 ],
 "metadata": {
  "kernelspec": {
   "display_name": "Python 3 (ipykernel)",
   "language": "python",
   "name": "python3"
  },
  "language_info": {
   "codemirror_mode": {
    "name": "ipython",
    "version": 3
   },
   "file_extension": ".py",
   "mimetype": "text/x-python",
   "name": "python",
   "nbconvert_exporter": "python",
   "pygments_lexer": "ipython3",
   "version": "3.10.1"
  }
 },
 "nbformat": 4,
 "nbformat_minor": 5
}
