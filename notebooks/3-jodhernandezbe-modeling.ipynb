{
 "cells": [
  {
   "cell_type": "markdown",
   "id": "9e891c47",
   "metadata": {},
   "source": [
    "# ML modeling"
   ]
  },
  {
   "cell_type": "code",
   "execution_count": 1,
   "id": "3d16f0d5",
   "metadata": {},
   "outputs": [],
   "source": [
    "try:\n",
    "    import google.colab\n",
    "    IN_COLAB = True\n",
    "except:\n",
    "    IN_COLAB = False"
   ]
  },
  {
   "cell_type": "code",
   "execution_count": 2,
   "id": "3b933137",
   "metadata": {},
   "outputs": [],
   "source": [
    "if IN_COLAB:\n",
    "    !pip install git+https://github.com/MaxHalford/Prince\n",
    "    !pip install -U imbalanced-learn"
   ]
  },
  {
   "cell_type": "code",
   "execution_count": 3,
   "id": "fc76c2b6",
   "metadata": {},
   "outputs": [],
   "source": [
    "# Importing libraries\n",
    "%matplotlib inline\n",
    "from imblearn.over_sampling import SMOTE\n",
    "from sklearn.preprocessing import MinMaxScaler\n",
    "from sklearn.ensemble import IsolationForest\n",
    "from sklearn.model_selection import train_test_split\n",
    "from sklearn.model_selection import StratifiedKFold\n",
    "from prince import FAMD\n",
    "import tensorflow as tf\n",
    "import pandas as pd\n",
    "import numpy as np\n",
    "from scipy.stats import mode, mannwhitneyu\n",
    "from prince import FAMD\n",
    "import os\n",
    "import pickle\n",
    "import matplotlib.pyplot as plt\n",
    "import seaborn as sns"
   ]
  },
  {
   "cell_type": "markdown",
   "id": "8194a819",
   "metadata": {},
   "source": [
    "## 1. Data loading"
   ]
  },
  {
   "cell_type": "code",
   "execution_count": 4,
   "id": "d8b3e51f",
   "metadata": {},
   "outputs": [],
   "source": [
    "if IN_COLAB:\n",
    "\n",
    "    # For using this you must upload the file to the temporary file system\n",
    "    df = pd.read_csv('/content/dataset_after_enrichment.csv.zip',\n",
    "                  compression='zip')\n",
    "  \n",
    "else:\n",
    "\n",
    "    df = pd.read_csv(os.path.join(os.getcwd(),\n",
    "                          os.pardir,\n",
    "                          'data',\n",
    "                          'transformed',\n",
    "                          'dataset_after_enrichment.csv.zip'),\n",
    "          compression='zip')"
   ]
  },
  {
   "cell_type": "code",
   "execution_count": 5,
   "id": "61031374",
   "metadata": {},
   "outputs": [
    {
     "data": {
      "text/html": [
       "<div>\n",
       "<style scoped>\n",
       "    .dataframe tbody tr th:only-of-type {\n",
       "        vertical-align: middle;\n",
       "    }\n",
       "\n",
       "    .dataframe tbody tr th {\n",
       "        vertical-align: top;\n",
       "    }\n",
       "\n",
       "    .dataframe thead th {\n",
       "        text-align: right;\n",
       "    }\n",
       "</style>\n",
       "<table border=\"1\" class=\"dataframe\">\n",
       "  <thead>\n",
       "    <tr style=\"text-align: right;\">\n",
       "      <th></th>\n",
       "      <th>source_reduction_general_category</th>\n",
       "      <th>description_code</th>\n",
       "      <th>2_digit_naics</th>\n",
       "      <th>AUTOCORR2D_1</th>\n",
       "      <th>AUTOCORR2D_10</th>\n",
       "      <th>AUTOCORR2D_100</th>\n",
       "      <th>AUTOCORR2D_101</th>\n",
       "      <th>AUTOCORR2D_102</th>\n",
       "      <th>AUTOCORR2D_103</th>\n",
       "      <th>AUTOCORR2D_104</th>\n",
       "      <th>...</th>\n",
       "      <th>fr_sulfonamd</th>\n",
       "      <th>fr_sulfone</th>\n",
       "      <th>fr_term_acetylene</th>\n",
       "      <th>fr_tetrazole</th>\n",
       "      <th>fr_thiazole</th>\n",
       "      <th>fr_thiocyan</th>\n",
       "      <th>fr_thiophene</th>\n",
       "      <th>fr_unbrch_alkane</th>\n",
       "      <th>fr_urea</th>\n",
       "      <th>qed</th>\n",
       "    </tr>\n",
       "  </thead>\n",
       "  <tbody>\n",
       "    <tr>\n",
       "      <th>0</th>\n",
       "      <td>Good Operating Practices</td>\n",
       "      <td>greater than or equal 5%, but less than to 15%</td>\n",
       "      <td>Mining, Quarrying, and Oil and Gas Extraction</td>\n",
       "      <td>0.847</td>\n",
       "      <td>0.0</td>\n",
       "      <td>0.0</td>\n",
       "      <td>0.0</td>\n",
       "      <td>0.0</td>\n",
       "      <td>0.0</td>\n",
       "      <td>0.0</td>\n",
       "      <td>...</td>\n",
       "      <td>0</td>\n",
       "      <td>0</td>\n",
       "      <td>0</td>\n",
       "      <td>0</td>\n",
       "      <td>0</td>\n",
       "      <td>0</td>\n",
       "      <td>0</td>\n",
       "      <td>0</td>\n",
       "      <td>0</td>\n",
       "      <td>0.360624</td>\n",
       "    </tr>\n",
       "    <tr>\n",
       "      <th>1</th>\n",
       "      <td>Spill and Leak Prevention</td>\n",
       "      <td>greater than or equal 5%, but less than to 15%</td>\n",
       "      <td>Mining, Quarrying, and Oil and Gas Extraction</td>\n",
       "      <td>0.847</td>\n",
       "      <td>0.0</td>\n",
       "      <td>0.0</td>\n",
       "      <td>0.0</td>\n",
       "      <td>0.0</td>\n",
       "      <td>0.0</td>\n",
       "      <td>0.0</td>\n",
       "      <td>...</td>\n",
       "      <td>0</td>\n",
       "      <td>0</td>\n",
       "      <td>0</td>\n",
       "      <td>0</td>\n",
       "      <td>0</td>\n",
       "      <td>0</td>\n",
       "      <td>0</td>\n",
       "      <td>0</td>\n",
       "      <td>0</td>\n",
       "      <td>0.360624</td>\n",
       "    </tr>\n",
       "    <tr>\n",
       "      <th>2</th>\n",
       "      <td>Process Modifications</td>\n",
       "      <td>greater than or equal to 50%, but less than 100%</td>\n",
       "      <td>Mining, Quarrying, and Oil and Gas Extraction</td>\n",
       "      <td>0.847</td>\n",
       "      <td>0.0</td>\n",
       "      <td>0.0</td>\n",
       "      <td>0.0</td>\n",
       "      <td>0.0</td>\n",
       "      <td>0.0</td>\n",
       "      <td>0.0</td>\n",
       "      <td>...</td>\n",
       "      <td>0</td>\n",
       "      <td>0</td>\n",
       "      <td>0</td>\n",
       "      <td>0</td>\n",
       "      <td>0</td>\n",
       "      <td>0</td>\n",
       "      <td>0</td>\n",
       "      <td>0</td>\n",
       "      <td>0</td>\n",
       "      <td>0.360624</td>\n",
       "    </tr>\n",
       "    <tr>\n",
       "      <th>3</th>\n",
       "      <td>Process Modifications</td>\n",
       "      <td>greater than or equal to 50%, but less than 100%</td>\n",
       "      <td>Mining, Quarrying, and Oil and Gas Extraction</td>\n",
       "      <td>0.847</td>\n",
       "      <td>0.0</td>\n",
       "      <td>0.0</td>\n",
       "      <td>0.0</td>\n",
       "      <td>0.0</td>\n",
       "      <td>0.0</td>\n",
       "      <td>0.0</td>\n",
       "      <td>...</td>\n",
       "      <td>0</td>\n",
       "      <td>0</td>\n",
       "      <td>0</td>\n",
       "      <td>0</td>\n",
       "      <td>0</td>\n",
       "      <td>0</td>\n",
       "      <td>0</td>\n",
       "      <td>0</td>\n",
       "      <td>0</td>\n",
       "      <td>0.360624</td>\n",
       "    </tr>\n",
       "    <tr>\n",
       "      <th>4</th>\n",
       "      <td>Process Modifications</td>\n",
       "      <td>greater than 0%, but less than 5%</td>\n",
       "      <td>Utilities</td>\n",
       "      <td>0.847</td>\n",
       "      <td>0.0</td>\n",
       "      <td>0.0</td>\n",
       "      <td>0.0</td>\n",
       "      <td>0.0</td>\n",
       "      <td>0.0</td>\n",
       "      <td>0.0</td>\n",
       "      <td>...</td>\n",
       "      <td>0</td>\n",
       "      <td>0</td>\n",
       "      <td>0</td>\n",
       "      <td>0</td>\n",
       "      <td>0</td>\n",
       "      <td>0</td>\n",
       "      <td>0</td>\n",
       "      <td>0</td>\n",
       "      <td>0</td>\n",
       "      <td>0.360624</td>\n",
       "    </tr>\n",
       "  </tbody>\n",
       "</table>\n",
       "<p>5 rows × 403 columns</p>\n",
       "</div>"
      ],
      "text/plain": [
       "  source_reduction_general_category  \\\n",
       "0          Good Operating Practices   \n",
       "1         Spill and Leak Prevention   \n",
       "2             Process Modifications   \n",
       "3             Process Modifications   \n",
       "4             Process Modifications   \n",
       "\n",
       "                                   description_code  \\\n",
       "0    greater than or equal 5%, but less than to 15%   \n",
       "1    greater than or equal 5%, but less than to 15%   \n",
       "2  greater than or equal to 50%, but less than 100%   \n",
       "3  greater than or equal to 50%, but less than 100%   \n",
       "4                 greater than 0%, but less than 5%   \n",
       "\n",
       "                                   2_digit_naics  AUTOCORR2D_1  AUTOCORR2D_10  \\\n",
       "0  Mining, Quarrying, and Oil and Gas Extraction         0.847            0.0   \n",
       "1  Mining, Quarrying, and Oil and Gas Extraction         0.847            0.0   \n",
       "2  Mining, Quarrying, and Oil and Gas Extraction         0.847            0.0   \n",
       "3  Mining, Quarrying, and Oil and Gas Extraction         0.847            0.0   \n",
       "4                                      Utilities         0.847            0.0   \n",
       "\n",
       "   AUTOCORR2D_100  AUTOCORR2D_101  AUTOCORR2D_102  AUTOCORR2D_103  \\\n",
       "0             0.0             0.0             0.0             0.0   \n",
       "1             0.0             0.0             0.0             0.0   \n",
       "2             0.0             0.0             0.0             0.0   \n",
       "3             0.0             0.0             0.0             0.0   \n",
       "4             0.0             0.0             0.0             0.0   \n",
       "\n",
       "   AUTOCORR2D_104  ...  fr_sulfonamd  fr_sulfone  fr_term_acetylene  \\\n",
       "0             0.0  ...             0           0                  0   \n",
       "1             0.0  ...             0           0                  0   \n",
       "2             0.0  ...             0           0                  0   \n",
       "3             0.0  ...             0           0                  0   \n",
       "4             0.0  ...             0           0                  0   \n",
       "\n",
       "   fr_tetrazole  fr_thiazole  fr_thiocyan  fr_thiophene  fr_unbrch_alkane  \\\n",
       "0             0            0            0             0                 0   \n",
       "1             0            0            0             0                 0   \n",
       "2             0            0            0             0                 0   \n",
       "3             0            0            0             0                 0   \n",
       "4             0            0            0             0                 0   \n",
       "\n",
       "   fr_urea       qed  \n",
       "0        0  0.360624  \n",
       "1        0  0.360624  \n",
       "2        0  0.360624  \n",
       "3        0  0.360624  \n",
       "4        0  0.360624  \n",
       "\n",
       "[5 rows x 403 columns]"
      ]
     },
     "execution_count": 5,
     "metadata": {},
     "output_type": "execute_result"
    }
   ],
   "source": [
    "df.head()"
   ]
  },
  {
   "cell_type": "code",
   "execution_count": 6,
   "id": "78dd3c1b",
   "metadata": {},
   "outputs": [
    {
     "data": {
      "text/plain": [
       "{'Good Operating Practices': 0,\n",
       " 'Spill and Leak Prevention': 1,\n",
       " 'Process Modifications': 2,\n",
       " 'Raw Material Modifications': 3,\n",
       " 'Inventory Control': 4,\n",
       " 'Cleaning and Degreasing': 5,\n",
       " 'Surface Preparation and Finishing': 6,\n",
       " 'Product Modifications': 7}"
      ]
     },
     "execution_count": 6,
     "metadata": {},
     "output_type": "execute_result"
    }
   ],
   "source": [
    "srgc_to_number = {val: i for i, val in enumerate(df['source_reduction_general_category'].unique())}\n",
    "srgc_to_number"
   ]
  },
  {
   "cell_type": "code",
   "execution_count": 7,
   "id": "6a12e41d",
   "metadata": {},
   "outputs": [],
   "source": [
    " df['source_reduction_general_category'] = df['source_reduction_general_category'].map(srgc_to_number)"
   ]
  },
  {
   "cell_type": "code",
   "execution_count": 8,
   "id": "28943cdc",
   "metadata": {},
   "outputs": [],
   "source": [
    "rc_to_number = {\n",
    "    'greater than 0%, but less than 5%': '1',\n",
    "    'greater than or equal 5%, but less than to 15%': '2',\n",
    "    'greater than or equal 15%, but less than to 25%': '3',\n",
    "    'greater than or equal to 25%, but less than 50%': '4',\n",
    "    'greater than or equal to 50%, but less than 100%': '5',\n",
    "    '100% (elimination of the chemical)': '6'\n",
    "}\n",
    "df['description_code'] = df['description_code'].map(rc_to_number)"
   ]
  },
  {
   "cell_type": "code",
   "execution_count": 9,
   "id": "47924bd8",
   "metadata": {},
   "outputs": [
    {
     "data": {
      "text/plain": [
       "{'Mining, Quarrying, and Oil and Gas Extraction': '0',\n",
       " 'Utilities': '1',\n",
       " 'Manufacturing': '2',\n",
       " 'Wholesale Trade': '3',\n",
       " 'Professional, Scientific, and Technical Services': '4',\n",
       " 'Administrative and Support and Waste Management and Remediation Services': '5',\n",
       " 'Other Services (except Public Administration)': '6',\n",
       " 'Public Administration (not covered in economic census)': '7',\n",
       " 'Agriculture, Forestry, Fishing and Hunting (not covered in economic census)': '8',\n",
       " 'Transportation and Warehousing': '9',\n",
       " 'Educational Services': '10',\n",
       " 'Health Care and Social Assistance': '11',\n",
       " 'Information': '12'}"
      ]
     },
     "execution_count": 9,
     "metadata": {},
     "output_type": "execute_result"
    }
   ],
   "source": [
    "sector_to_number = {val: str(i) for i, val in enumerate(df['2_digit_naics'].unique())}\n",
    "sector_to_number"
   ]
  },
  {
   "cell_type": "code",
   "execution_count": 10,
   "id": "348a1efa",
   "metadata": {},
   "outputs": [],
   "source": [
    " df['2_digit_naics'] = df['2_digit_naics'].map(sector_to_number)"
   ]
  },
  {
   "cell_type": "code",
   "execution_count": 11,
   "id": "4a24b22e",
   "metadata": {},
   "outputs": [],
   "source": [
    "fcols = df.select_dtypes('float').columns\n",
    "icols = df.select_dtypes('integer').columns"
   ]
  },
  {
   "cell_type": "code",
   "execution_count": 12,
   "id": "ec593dcd",
   "metadata": {},
   "outputs": [],
   "source": [
    "df[fcols] = df[fcols].apply(pd.to_numeric, downcast='float')\n",
    "df[icols] = df[icols].apply(pd.to_numeric, downcast='integer')"
   ]
  },
  {
   "cell_type": "code",
   "execution_count": 13,
   "id": "7550f599",
   "metadata": {},
   "outputs": [
    {
     "name": "stdout",
     "output_type": "stream",
     "text": [
      "<class 'pandas.core.frame.DataFrame'>\n",
      "RangeIndex: 965300 entries, 0 to 965299\n",
      "Columns: 403 entries, source_reduction_general_category to qed\n",
      "dtypes: float32(296), int16(1), int8(104), object(2)\n",
      "memory usage: 1.2+ GB\n"
     ]
    }
   ],
   "source": [
    "df.info()"
   ]
  },
  {
   "cell_type": "markdown",
   "id": "40624306",
   "metadata": {},
   "source": [
    "## 2. Checking for missing data"
   ]
  },
  {
   "cell_type": "code",
   "execution_count": 14,
   "id": "e8cb464b",
   "metadata": {},
   "outputs": [],
   "source": [
    "to_impute  = df.columns[df.isna().sum(axis=0) != 0].tolist()"
   ]
  },
  {
   "cell_type": "code",
   "execution_count": 15,
   "id": "8658d7bc",
   "metadata": {},
   "outputs": [
    {
     "data": {
      "text/plain": [
       "['BCUT2D_CHGHI',\n",
       " 'BCUT2D_CHGLO',\n",
       " 'BCUT2D_LOGPHI',\n",
       " 'BCUT2D_LOGPLOW',\n",
       " 'BCUT2D_MRHI',\n",
       " 'BCUT2D_MRLOW',\n",
       " 'BCUT2D_MWHI',\n",
       " 'BCUT2D_MWLOW',\n",
       " 'MaxAbsPartialCharge',\n",
       " 'MaxPartialCharge',\n",
       " 'MinAbsPartialCharge',\n",
       " 'MinPartialCharge']"
      ]
     },
     "execution_count": 15,
     "metadata": {},
     "output_type": "execute_result"
    }
   ],
   "source": [
    "to_impute "
   ]
  },
  {
   "cell_type": "code",
   "execution_count": 16,
   "id": "cc42fc8a",
   "metadata": {},
   "outputs": [
    {
     "data": {
      "text/plain": [
       "12"
      ]
     },
     "execution_count": 16,
     "metadata": {},
     "output_type": "execute_result"
    }
   ],
   "source": [
    "len(to_impute )"
   ]
  },
  {
   "cell_type": "code",
   "execution_count": 17,
   "id": "339725e7",
   "metadata": {},
   "outputs": [
    {
     "data": {
      "text/plain": [
       "BCUT2D_CHGHI           10.152284\n",
       "BCUT2D_CHGLO           10.152284\n",
       "BCUT2D_LOGPHI          10.152284\n",
       "BCUT2D_LOGPLOW         10.152284\n",
       "BCUT2D_MRHI            10.152284\n",
       "BCUT2D_MRLOW           10.152284\n",
       "BCUT2D_MWHI            10.152284\n",
       "BCUT2D_MWLOW           10.152284\n",
       "MaxAbsPartialCharge     3.553299\n",
       "MaxPartialCharge        3.553299\n",
       "MinAbsPartialCharge     3.553299\n",
       "MinPartialCharge        3.553299\n",
       "dtype: float64"
      ]
     },
     "execution_count": 17,
     "metadata": {},
     "output_type": "execute_result"
    }
   ],
   "source": [
    "df[to_impute ].isna().sum()*100/df.shape[0]"
   ]
  },
  {
   "cell_type": "code",
   "execution_count": 18,
   "id": "6b1a6b58",
   "metadata": {},
   "outputs": [
    {
     "name": "stdout",
     "output_type": "stream",
     "text": [
      "<class 'pandas.core.frame.DataFrame'>\n",
      "RangeIndex: 965300 entries, 0 to 965299\n",
      "Data columns (total 12 columns):\n",
      " #   Column               Non-Null Count   Dtype  \n",
      "---  ------               --------------   -----  \n",
      " 0   BCUT2D_CHGHI         867300 non-null  float32\n",
      " 1   BCUT2D_CHGLO         867300 non-null  float32\n",
      " 2   BCUT2D_LOGPHI        867300 non-null  float32\n",
      " 3   BCUT2D_LOGPLOW       867300 non-null  float32\n",
      " 4   BCUT2D_MRHI          867300 non-null  float32\n",
      " 5   BCUT2D_MRLOW         867300 non-null  float32\n",
      " 6   BCUT2D_MWHI          867300 non-null  float32\n",
      " 7   BCUT2D_MWLOW         867300 non-null  float32\n",
      " 8   MaxAbsPartialCharge  931000 non-null  float32\n",
      " 9   MaxPartialCharge     931000 non-null  float32\n",
      " 10  MinAbsPartialCharge  931000 non-null  float32\n",
      " 11  MinPartialCharge     931000 non-null  float32\n",
      "dtypes: float32(12)\n",
      "memory usage: 44.2 MB\n"
     ]
    }
   ],
   "source": [
    "df[to_impute ].info()"
   ]
  },
  {
   "cell_type": "markdown",
   "id": "e7f96289",
   "metadata": {},
   "source": [
    "As you can see, there are 12 columns with missing values. The missing values do not exceed 10.16% of the samples. Thus, let's apply lazy imputation using the median (less susceptible to outliers) for floats."
   ]
  },
  {
   "cell_type": "code",
   "execution_count": 19,
   "id": "7eec08d2",
   "metadata": {},
   "outputs": [],
   "source": [
    "df[to_impute] = df[to_impute].fillna({to_impute[idx]: val for idx, val in enumerate(np.nanmedian(df[to_impute].values, axis=0))})"
   ]
  },
  {
   "cell_type": "code",
   "execution_count": 20,
   "id": "e77e02ab",
   "metadata": {},
   "outputs": [
    {
     "data": {
      "text/plain": [
       "0"
      ]
     },
     "execution_count": 20,
     "metadata": {},
     "output_type": "execute_result"
    }
   ],
   "source": [
    "len(df.columns[df.isna().sum(axis=0) != 0].tolist())"
   ]
  },
  {
   "cell_type": "markdown",
   "id": "c1a64a33",
   "metadata": {},
   "source": [
    "## 3. Removing duplicate rows"
   ]
  },
  {
   "cell_type": "code",
   "execution_count": 21,
   "id": "0af54024",
   "metadata": {},
   "outputs": [],
   "source": [
    "df.drop_duplicates(keep='first', inplace=True)\n",
    "df.reset_index(drop=True, inplace=True)"
   ]
  },
  {
   "cell_type": "code",
   "execution_count": 22,
   "id": "6d8752a0",
   "metadata": {},
   "outputs": [
    {
     "data": {
      "text/plain": [
       "(24511, 403)"
      ]
     },
     "execution_count": 22,
     "metadata": {},
     "output_type": "execute_result"
    }
   ],
   "source": [
    "df.shape"
   ]
  },
  {
   "cell_type": "markdown",
   "id": "e3df999b",
   "metadata": {},
   "source": [
    "## 4. Removing outliers"
   ]
  },
  {
   "cell_type": "markdown",
   "id": "32583fae",
   "metadata": {},
   "source": [
    "Altough there are distance-based methods that work well for identifying outliers for mixed data, here I will use a tree-based method, which works faster."
   ]
  },
  {
   "cell_type": "code",
   "execution_count": 23,
   "id": "a0cd54ac",
   "metadata": {},
   "outputs": [],
   "source": [
    "outlier_detection = IsolationForest(max_samples=100,\n",
    "                                    random_state=0,\n",
    "                                    contamination=0.2)"
   ]
  },
  {
   "cell_type": "code",
   "execution_count": 24,
   "id": "86fd33fa",
   "metadata": {},
   "outputs": [],
   "source": [
    "feature_cols = [col for col in df.columns if (col != 'source_reduction_general_category')]\n",
    "feature_dtype = df[feature_cols].dtypes.apply(lambda x: x.name).to_dict()"
   ]
  },
  {
   "cell_type": "code",
   "execution_count": 25,
   "id": "b3f3d9cc",
   "metadata": {},
   "outputs": [],
   "source": [
    "df_outliers = df[feature_cols].copy()"
   ]
  },
  {
   "cell_type": "code",
   "execution_count": 26,
   "id": "44044280",
   "metadata": {},
   "outputs": [],
   "source": [
    "for c, t in feature_dtype.items():\n",
    "    if t == 'object': \n",
    "        df_outliers = pd.concat([df_outliers, pd.get_dummies(df_outliers[c],\n",
    "                                    sparse=False)],\n",
    "                axis=1)\n",
    "        df_outliers.drop(columns=[c],\n",
    "            inplace=True)"
   ]
  },
  {
   "cell_type": "code",
   "execution_count": 27,
   "id": "955bd129",
   "metadata": {},
   "outputs": [],
   "source": [
    "outlier_detection.fit(df_outliers.values)\n",
    "filters = outlier_detection.predict(df_outliers.values)"
   ]
  },
  {
   "cell_type": "code",
   "execution_count": 28,
   "id": "0a54a54b",
   "metadata": {},
   "outputs": [],
   "source": [
    "del df_outliers\n",
    "df = df[filters==1]"
   ]
  },
  {
   "cell_type": "code",
   "execution_count": 29,
   "id": "d0024042",
   "metadata": {},
   "outputs": [],
   "source": [
    "X = df[feature_cols]\n",
    "y = df['source_reduction_general_category']\n",
    "del df"
   ]
  },
  {
   "cell_type": "markdown",
   "id": "d1f5b587",
   "metadata": {},
   "source": [
    "## 5. Train-test splitting"
   ]
  },
  {
   "cell_type": "markdown",
   "id": "ee55730a",
   "metadata": {},
   "source": [
    "To conserve the distribution of the dataset, the train test split will be stratified"
   ]
  },
  {
   "cell_type": "code",
   "execution_count": 30,
   "id": "88980ed5",
   "metadata": {},
   "outputs": [],
   "source": [
    "X_train, X_test, y_train, y_test = train_test_split(X,\n",
    "                                                    y,\n",
    "                                                    test_size=0.2,\n",
    "                                                    random_state=0,\n",
    "                                                    shuffle=True,\n",
    "                                                    stratify=y)\n",
    "X_train.reset_index(drop=True, inplace=True)\n",
    "y_train.reset_index(drop=True, inplace=True)\n",
    "X_test.reset_index(drop=True, inplace=True)\n",
    "y_test.reset_index(drop=True, inplace=True)"
   ]
  },
  {
   "cell_type": "markdown",
   "id": "67f5ce84",
   "metadata": {},
   "source": [
    "## 6. Dimensionality reduction by Factor analysis of mixed data (FAMD)"
   ]
  },
  {
   "cell_type": "markdown",
   "id": "de5fd279",
   "metadata": {},
   "source": [
    "Let's reduce the dimensionality of the features. For this, I will apply a feature transformation method. As the data set is mixed (i.e., have both categorical and numerical variables), Principal Components Analysis would not be a good method for reducing the dataset dimensions. Thus, I will apply Factor analysis of mixed data (FAMD). After FAMD, only will keep those components whose sum of explained variances is at least equal to 0.95   "
   ]
  },
  {
   "cell_type": "code",
   "execution_count": 31,
   "id": "0b669407",
   "metadata": {},
   "outputs": [
    {
     "data": {
      "text/plain": [
       "FAMD(n_components=402, random_state=42)"
      ]
     },
     "execution_count": 31,
     "metadata": {},
     "output_type": "execute_result"
    }
   ],
   "source": [
    "famd = FAMD(n_components=X_train.shape[1],  n_iter=3,\n",
    "            copy=True, check_input=True,\n",
    "            engine='auto',  random_state=42)\n",
    "famd.fit(X_train)"
   ]
  },
  {
   "cell_type": "code",
   "execution_count": 32,
   "id": "87f5a33a",
   "metadata": {},
   "outputs": [],
   "source": [
    "sum_explained_variance = 0\n",
    "threshold = 0.95\n",
    "for components_idx, variance in enumerate(famd.explained_inertia_):\n",
    "    sum_explained_variance += variance\n",
    "    if sum_explained_variance >= threshold:\n",
    "        break"
   ]
  },
  {
   "cell_type": "code",
   "execution_count": 33,
   "id": "ab1a14bd",
   "metadata": {},
   "outputs": [
    {
     "name": "stdout",
     "output_type": "stream",
     "text": [
      "48 explain 0.9519376995982558 of the variance\n"
     ]
    }
   ],
   "source": [
    "print(f'{components_idx} explain {sum_explained_variance} of the variance')"
   ]
  },
  {
   "cell_type": "code",
   "execution_count": 34,
   "id": "e1972f0f",
   "metadata": {},
   "outputs": [],
   "source": [
    "X_train_reduced = famd.transform(X_train).values[:, 0:components_idx]\n",
    "X_test_reduced = famd.transform(X_test).values[:, 0:components_idx]"
   ]
  },
  {
   "cell_type": "markdown",
   "id": "ceae75a6",
   "metadata": {},
   "source": [
    "## 7. Scaling after transformation"
   ]
  },
  {
   "cell_type": "markdown",
   "id": "457e62b2",
   "metadata": {},
   "source": [
    "As you can see in the two cells just below, the components does not variate in the same scale. Thus, I will use max_min scaling, to not assume a normal distribution for the features."
   ]
  },
  {
   "cell_type": "code",
   "execution_count": 35,
   "id": "64ec9ce5",
   "metadata": {},
   "outputs": [
    {
     "data": {
      "text/plain": [
       "array([-2.04093142, -2.17417685, -2.65969722, -1.88538732, -2.17203344,\n",
       "       -2.48981679, -1.09075688, -1.80100656, -1.63322007, -2.40806505,\n",
       "       -1.44127086, -3.25690042, -6.11845995, -2.33730064, -1.34876919,\n",
       "       -2.05599168, -1.20921804, -1.7836005 , -1.75681121, -1.71149925,\n",
       "       -1.22011367, -1.33160044, -1.10437112, -1.88516048, -1.14758492,\n",
       "       -0.95649846, -1.1453465 , -0.9130226 , -0.94993371, -1.11456286,\n",
       "       -0.88420174, -0.99602261, -0.90849825, -0.63282049, -0.82897077,\n",
       "       -0.78004122, -0.93594082, -0.53734016, -0.68720319, -0.84117703,\n",
       "       -0.73913971, -0.65502737, -0.94532367, -0.62575444, -0.63268708,\n",
       "       -0.9839131 , -0.68636561, -0.63416914])"
      ]
     },
     "execution_count": 35,
     "metadata": {},
     "output_type": "execute_result"
    }
   ],
   "source": [
    "X_train_reduced.min(axis=0)"
   ]
  },
  {
   "cell_type": "code",
   "execution_count": 36,
   "id": "75895eaa",
   "metadata": {},
   "outputs": [
    {
     "data": {
      "text/plain": [
       "array([4.90875285, 2.71459137, 3.39011818, 3.46577691, 3.30431866,\n",
       "       3.18958122, 1.85733781, 2.17286571, 3.83083388, 2.56515167,\n",
       "       6.06336575, 3.63000693, 6.13103276, 2.9802107 , 2.41485235,\n",
       "       2.77230869, 2.42196951, 3.32063375, 4.38827955, 2.22552525,\n",
       "       1.7937078 , 1.3969918 , 1.63272987, 4.15678498, 1.25910149,\n",
       "       1.94614392, 1.49338858, 1.27171603, 1.25770528, 1.51155641,\n",
       "       1.12267366, 1.75376239, 1.09166144, 1.18430303, 1.46483155,\n",
       "       1.0108988 , 1.04239916, 0.91301471, 1.36245135, 1.12657545,\n",
       "       0.77249839, 0.80223961, 1.21023725, 1.32585412, 0.67032352,\n",
       "       3.04306971, 1.23598854, 1.00447884])"
      ]
     },
     "execution_count": 36,
     "metadata": {},
     "output_type": "execute_result"
    }
   ],
   "source": [
    "X_train_reduced.max(axis=0)"
   ]
  },
  {
   "cell_type": "code",
   "execution_count": 37,
   "id": "ff5f2176",
   "metadata": {},
   "outputs": [],
   "source": [
    "scalerMinMax = MinMaxScaler()"
   ]
  },
  {
   "cell_type": "code",
   "execution_count": 38,
   "id": "81769a20",
   "metadata": {},
   "outputs": [
    {
     "data": {
      "text/plain": [
       "MinMaxScaler()"
      ]
     },
     "execution_count": 38,
     "metadata": {},
     "output_type": "execute_result"
    }
   ],
   "source": [
    "scalerMinMax.fit(X_train_reduced)"
   ]
  },
  {
   "cell_type": "code",
   "execution_count": 39,
   "id": "f733aeef",
   "metadata": {},
   "outputs": [],
   "source": [
    "X_train_scaled = scalerMinMax.transform(X_train_reduced)\n",
    "X_test_scaled = scalerMinMax.transform(X_test_reduced)"
   ]
  },
  {
   "cell_type": "markdown",
   "id": "730fb0cf",
   "metadata": {},
   "source": [
    "## 8. Balancing (data augmentation)\n",
    "\n",
    "As the EDA shows, the data set is unbalanced. Therefore, I will use the synthetic minority oversampling technique (SMOTE), which is an oversampling technique widely used by ML practitioners for balacing the datasets for classification tasks."
   ]
  },
  {
   "cell_type": "code",
   "execution_count": 40,
   "id": "f8277164",
   "metadata": {},
   "outputs": [],
   "source": [
    "smote = SMOTE(random_state=42, n_jobs=-1)\n",
    "X_balanced, y_balanced = smote.fit_resample(X_train_scaled, y_train)"
   ]
  },
  {
   "cell_type": "code",
   "execution_count": 41,
   "id": "1707dd60",
   "metadata": {},
   "outputs": [
    {
     "data": {
      "text/plain": [
       "7    3459\n",
       "6    3459\n",
       "5    3459\n",
       "4    3459\n",
       "3    3459\n",
       "2    3459\n",
       "1    3459\n",
       "0    3459\n",
       "Name: source_reduction_general_category, dtype: int64"
      ]
     },
     "execution_count": 41,
     "metadata": {},
     "output_type": "execute_result"
    }
   ],
   "source": [
    "y_balanced.value_counts()"
   ]
  },
  {
   "cell_type": "markdown",
   "id": "b6aff609",
   "metadata": {},
   "source": [
    "## 9. Modeling"
   ]
  },
  {
   "cell_type": "code",
   "execution_count": 42,
   "id": "5f000f7b",
   "metadata": {},
   "outputs": [],
   "source": [
    "y_balanced = y_balanced.values.reshape((y_balanced.shape[0], 1))"
   ]
  },
  {
   "cell_type": "code",
   "execution_count": 43,
   "id": "de393813",
   "metadata": {},
   "outputs": [],
   "source": [
    "y_test = y_test.values.reshape((y_test.shape[0], 1))"
   ]
  },
  {
   "cell_type": "markdown",
   "id": "a6a87709",
   "metadata": {},
   "source": [
    "### 9.1. Model\n",
    "\n",
    "For classification I will use the Artificial Neural Network Classifier (ANNC). I will provide:\n",
    "\n",
    "1. The alternative to include one or more hidden layers with different number of neurons.\n",
    "2. The option to incorporate dropout layers to handle overfitting.\n",
    "3. The normalization of the bath which has been shown to improve model performance.\n",
    "4. I will use the Adam optimizer which is widely used by deep learning engineers.\n",
    "\n",
    "5. The output layer will use a softmax activation function and the loss function will be Categorical Cross-Entropy."
   ]
  },
  {
   "cell_type": "code",
   "execution_count": 44,
   "id": "33568243",
   "metadata": {},
   "outputs": [],
   "source": [
    "def annclassifier(units_per_layer, dropout, dropout_rate,\n",
    "                  hidden_layers_activation, learning_rate,\n",
    "                  beta_1, beta_2, input_shape, output_shape):\n",
    "    '''\n",
    "    Function to build the Artificial Neural Network Classifier\n",
    "    '''\n",
    "\n",
    "    # Selecting weights initilizer\n",
    "    if hidden_layers_activation == 'sigmoid':\n",
    "        initializer = tf.keras.initializers.GlorotNormal(seed=0)\n",
    "    else:\n",
    "        initializer = tf.keras.initializers.VarianceScaling(seed=0)\n",
    "\n",
    "    # Initialize model\n",
    "    model = tf.keras.Sequential()\n",
    "\n",
    "    # Input layer\n",
    "    model.add(\n",
    "        tf.keras.Input(shape=(input_shape,))\n",
    "                )\n",
    "    \n",
    "    # Hidden layers\n",
    "    n_hidden_layers = len(units_per_layer)\n",
    "    for i in range(n_hidden_layers):\n",
    "        if dropout[i]:\n",
    "            model.add(\n",
    "                tf.keras.layers.Dropout(dropout_rate, seed=0)\n",
    "                )\n",
    "        else:\n",
    "            pass\n",
    "        model.add(\n",
    "            tf.keras.layers.Dense(units=units_per_layer[i],\n",
    "                                activation=hidden_layers_activation,\n",
    "                                kernel_initializer=initializer)\n",
    "        )\n",
    "        model.add(\n",
    "            tf.keras.layers.BatchNormalization()\n",
    "        )\n",
    "\n",
    "    # Output layer\n",
    "    model.add(\n",
    "        tf.keras.layers.Dense(units=output_shape,\n",
    "                              activation='softmax')\n",
    "    )\n",
    "\n",
    "    # Optimizer\n",
    "    optimizer = tf.keras.optimizers.Adam(\n",
    "                learning_rate=learning_rate,\n",
    "                beta_1=beta_1,\n",
    "                beta_2=beta_2,\n",
    "            )\n",
    "\n",
    "    # Compiling the model\n",
    "    model.compile(optimizer=optimizer, \n",
    "            loss=tf.keras.losses.SparseCategoricalCrossentropy(),\n",
    "            metrics=['accuracy'])\n",
    "\n",
    "\n",
    "    return model"
   ]
  },
  {
   "cell_type": "code",
   "execution_count": 45,
   "id": "4d54bd86",
   "metadata": {},
   "outputs": [],
   "source": [
    "class myCallback(tf.keras.callbacks.Callback):\n",
    "  def on_epoch_end(self, epoch, logs={}):\n",
    "      if logs.get('val_accuracy') >= 0.70:\n",
    "          print(\"Reached 70% accuracy so cancelling training!\")\n",
    "          self.model.stop_training = True"
   ]
  },
  {
   "cell_type": "markdown",
   "id": "d294d491",
   "metadata": {},
   "source": [
    "### 9.2 5-fold cross validation and hyperparameter tuning"
   ]
  },
  {
   "cell_type": "markdown",
   "id": "f2eeec63",
   "metadata": {},
   "source": [
    "Let's check the effect of the first hidden layer in the classification performance. The first layer of the ANNC is for finding out the decision boundary. If the boundary is hard to find the first layer will require many neurons. The following layers help to encode the first layer result to the ANNC output. For the following experiments, dropout will not be used, only 50 epochs will be implemented, and relu will be the activation function for the hidden layers."
   ]
  },
  {
   "cell_type": "markdown",
   "id": "36a8f0b5",
   "metadata": {},
   "source": [
    "#### 1 hidden layer - 32, 128, 512, or 2048 neurons"
   ]
  },
  {
   "cell_type": "code",
   "execution_count": 149,
   "id": "61d88f39",
   "metadata": {},
   "outputs": [
    {
     "name": "stdout",
     "output_type": "stream",
     "text": [
      "1 hidden layers with 32 neurons\n",
      "1 hidden layers with 128 neurons\n",
      "1 hidden layers with 512 neurons\n",
      "1 hidden layers with 2048 neurons\n",
      "2 hidden layers with 32 neurons\n",
      "2 hidden layers with 128 neurons\n",
      "2 hidden layers with 512 neurons\n",
      "2 hidden layers with 2048 neurons\n",
      "3 hidden layers with 32 neurons\n",
      "3 hidden layers with 128 neurons\n",
      "3 hidden layers with 512 neurons\n",
      "3 hidden layers with 2048 neurons\n",
      "4 hidden layers with 32 neurons\n",
      "4 hidden layers with 128 neurons\n",
      "4 hidden layers with 512 neurons\n",
      "4 hidden layers with 2048 neurons\n"
     ]
    }
   ],
   "source": [
    "accuracy_train_dict = {}\n",
    "accuracy_validation_dict = {}\n",
    "\n",
    "\n",
    "for hidden_layers in [1, 2, 3, 4]:\n",
    "    for neurons in [32, 128, 512, 2048]:\n",
    "\n",
    "        print(f'{hidden_layers} hidden layers with {neurons} neurons')\n",
    "        model_params = {'units_per_layer': (neurons, )*hidden_layers,\n",
    "                'dropout': (False, )*hidden_layers,\n",
    "                'dropout_rate': 0.3,\n",
    "                'hidden_layers_activation': 'relu',\n",
    "                'learning_rate': 0.0001,\n",
    "                'beta_1': 0.9,\n",
    "                'beta_2': 0.999,\n",
    "                'epochs': 50,\n",
    "                'batch_size': 32,\n",
    "                'verbose': 0}\n",
    "\n",
    "        epochs = model_params['epochs']\n",
    "        batch_size = model_params['batch_size']\n",
    "        verbose = model_params['verbose']\n",
    "        model_params.update({'input_shape': X_balanced.shape[1],\n",
    "                             'output_shape': 8})\n",
    "        model_params = {par: val for par, val in model_params.items() if par not in ['epochs', 'batch_size', 'verbose']}\n",
    "\n",
    "        accuracy_train_list = []\n",
    "        accuracy_validation_list = []\n",
    "\n",
    "        skf = StratifiedKFold(n_splits=5, shuffle=True)\n",
    "\n",
    "        for train_index, validation_index in skf.split(X_balanced, y_balanced):\n",
    "            X_train, X_validation = X_balanced[train_index], X_balanced[validation_index]\n",
    "            y_train, y_validation = y_balanced[train_index], y_balanced[validation_index]\n",
    "            dd_model = annclassifier(**model_params)\n",
    "            hist = dd_model.fit(X_train, y_train,\n",
    "                                  batch_size=batch_size,\n",
    "                                  verbose=verbose,\n",
    "                                  epochs=epochs,\n",
    "                                  validation_data=(X_validation, y_validation),\n",
    "                                  shuffle=True,\n",
    "                                  callbacks=[myCallback()])\n",
    "            accuracy_validation_list.append(dd_model.evaluate(X_validation, y_validation, verbose=0)[1])\n",
    "            accuracy_train_list.append(dd_model.evaluate(X_train, y_train, verbose=0)[1])\n",
    "\n",
    "        accuracy_train_dict.update({(hidden_layers, neurons): accuracy_train_list})\n",
    "        accuracy_validation_dict.update({(hidden_layers, neurons): accuracy_validation_list})"
   ]
  },
  {
   "cell_type": "code",
   "execution_count": 189,
   "id": "2bb430d1",
   "metadata": {},
   "outputs": [
    {
     "data": {
      "text/html": [
       "<div>\n",
       "<style scoped>\n",
       "    .dataframe tbody tr th:only-of-type {\n",
       "        vertical-align: middle;\n",
       "    }\n",
       "\n",
       "    .dataframe tbody tr th {\n",
       "        vertical-align: top;\n",
       "    }\n",
       "\n",
       "    .dataframe thead th {\n",
       "        text-align: right;\n",
       "    }\n",
       "</style>\n",
       "<table border=\"1\" class=\"dataframe\">\n",
       "  <thead>\n",
       "    <tr style=\"text-align: right;\">\n",
       "      <th></th>\n",
       "      <th>params</th>\n",
       "      <th>accuracy</th>\n",
       "      <th>set_type</th>\n",
       "    </tr>\n",
       "  </thead>\n",
       "  <tbody>\n",
       "    <tr>\n",
       "      <th>0</th>\n",
       "      <td>1 hidden layes - 32 neurons</td>\n",
       "      <td>0.361928</td>\n",
       "      <td>train</td>\n",
       "    </tr>\n",
       "    <tr>\n",
       "      <th>1</th>\n",
       "      <td>1 hidden layes - 32 neurons</td>\n",
       "      <td>0.369020</td>\n",
       "      <td>train</td>\n",
       "    </tr>\n",
       "    <tr>\n",
       "      <th>2</th>\n",
       "      <td>1 hidden layes - 32 neurons</td>\n",
       "      <td>0.390279</td>\n",
       "      <td>train</td>\n",
       "    </tr>\n",
       "    <tr>\n",
       "      <th>3</th>\n",
       "      <td>1 hidden layes - 32 neurons</td>\n",
       "      <td>0.383278</td>\n",
       "      <td>train</td>\n",
       "    </tr>\n",
       "    <tr>\n",
       "      <th>4</th>\n",
       "      <td>1 hidden layes - 32 neurons</td>\n",
       "      <td>0.375463</td>\n",
       "      <td>train</td>\n",
       "    </tr>\n",
       "  </tbody>\n",
       "</table>\n",
       "</div>"
      ],
      "text/plain": [
       "                        params  accuracy set_type\n",
       "0  1 hidden layes - 32 neurons  0.361928    train\n",
       "1  1 hidden layes - 32 neurons  0.369020    train\n",
       "2  1 hidden layes - 32 neurons  0.390279    train\n",
       "3  1 hidden layes - 32 neurons  0.383278    train\n",
       "4  1 hidden layes - 32 neurons  0.375463    train"
      ]
     },
     "execution_count": 189,
     "metadata": {},
     "output_type": "execute_result"
    }
   ],
   "source": [
    "df_to_plot = pd.DataFrame(\n",
    "                        {'params': [f'{key[0]} hidden layes - {key[1]} neurons' for key in accuracy_train_dict.keys() for _ in range(5)] + \\\n",
    "                                  [f'{key[0]} hidden layes - {key[1]} neurons' for key in accuracy_validation_dict.keys() for _ in range(5)], \n",
    "                        'accuracy': [val[i] for val in accuracy_train_dict.values() for i in range(5)] + \\\n",
    "                                    [val[i] for val in accuracy_validation_dict.values() for i in range(5)],\n",
    "                        'set_type': ['train']*len(accuracy_train_dict.keys())*5 + \\\n",
    "                                ['validation']*len(accuracy_validation_dict.keys())*5}\n",
    "                         )\n",
    "\n",
    "df_to_plot.head()"
   ]
  },
  {
   "cell_type": "code",
   "execution_count": 190,
   "id": "da87ab77",
   "metadata": {},
   "outputs": [
    {
     "data": {
      "image/png": "[encoded data removed]",
      "text/plain": [
       "<Figure size 1080x864 with 1 Axes>"
      ]
     },
     "metadata": {
      "needs_background": "light"
     },
     "output_type": "display_data"
    }
   ],
   "source": [
    "fig, ax = plt.subplots(figsize=(15, 12))\n",
    "sns.stripplot(\n",
    "           data=df_to_plot,\n",
    "           x='params', \n",
    "           y='accuracy', \n",
    "           hue='set_type',\n",
    "           jitter=True, \n",
    "           marker='o', \n",
    "           ax=ax\n",
    "            )\n",
    "plt.xticks(rotation=90)\n",
    "plt.show()"
   ]
  },
  {
   "cell_type": "markdown",
   "id": "0834b7d0",
   "metadata": {},
   "source": [
    "The above figure depicts the following aspects:\n",
    "\n",
    "1. The number of neurons used in the first layer can improve the recognition of the decision boundary. Nonetheless, it is important to be careful with the overfitting (the more neurons in the first layer, the greater the overfitting).\n",
    "2. Increasing the number of hidden layers can significantly improve train set accuracy when the number of neurons is greater than 100. However, the trade-off is overfitting.\n",
    "3. The use of a fourth hidden layer will not represent a considerable improvement in model performance.\n",
    "5. If many neurons are used and the number of hidden layers is increased, the performance of the model in the validation set would suffer (it could even decrease and get stuck).\n",
    "\n",
    "Now, the decision is to run experiments for a 3-hidden-layer ANNC with 2048-512-128 neurons for each layer."
   ]
  },
  {
   "cell_type": "markdown",
   "id": "454a879c",
   "metadata": {},
   "source": [
    "#### 3-hidden-layer ANNC (2048-512-128) with and without dropout"
   ]
  },
  {
   "cell_type": "markdown",
   "id": "cb07a75b",
   "metadata": {},
   "source": [
    "Let's run experiments involving a fixed dropout rate of 30%."
   ]
  },
  {
   "cell_type": "code",
   "execution_count": 193,
   "id": "3b309ac7",
   "metadata": {},
   "outputs": [
    {
     "name": "stdout",
     "output_type": "stream",
     "text": [
      "None\n",
      "1-first\n",
      "1-second\n",
      "1-Third\n",
      "2-first-second\n",
      "2-first-third\n",
      "2-second-third\n",
      "All\n"
     ]
    }
   ],
   "source": [
    "accuracy_train_dict = {}\n",
    "accuracy_validation_dict = {}\n",
    "\n",
    "experiments = {'None': (False, False, False),\n",
    "             '1-first': (True, False, False),\n",
    "             '1-second': (False, True, False),\n",
    "             '1-Third': (False, False, True),\n",
    "             '2-first-second': (True, True, False),\n",
    "             '2-first-third': (True, False, True),\n",
    "             '2-second-third': (False, True, True),\n",
    "             'All': (True, True, True)}\n",
    "\n",
    "for experiment, dropout in experiments.items():\n",
    "\n",
    "    print(experiment)\n",
    "\n",
    "    model_params = {'units_per_layer': (2048, 512, 128),\n",
    "            'dropout': dropout,\n",
    "            'dropout_rate': 0.3,\n",
    "            'hidden_layers_activation': 'relu',\n",
    "            'learning_rate': 0.0001,\n",
    "            'beta_1': 0.9,\n",
    "            'beta_2': 0.999,\n",
    "            'epochs': 10,\n",
    "            'batch_size': 32,\n",
    "            'verbose': 0}\n",
    "\n",
    "    epochs = model_params['epochs']\n",
    "    batch_size = model_params['batch_size']\n",
    "    verbose = model_params['verbose']\n",
    "    model_params.update({'input_shape': X_balanced.shape[1],\n",
    "                         'output_shape': 8})\n",
    "    model_params = {par: val for par, val in model_params.items() if par not in ['epochs', 'batch_size', 'verbose']}\n",
    "\n",
    "    accuracy_train_list = []\n",
    "    accuracy_validation_list = []\n",
    "\n",
    "    skf = StratifiedKFold(n_splits=5, shuffle=True)\n",
    "\n",
    "    for train_index, validation_index in skf.split(X_balanced, y_balanced):\n",
    "        X_train, X_validation = X_balanced[train_index], X_balanced[validation_index]\n",
    "        y_train, y_validation = y_balanced[train_index], y_balanced[validation_index]\n",
    "        dd_model = annclassifier(**model_params)\n",
    "        hist = dd_model.fit(X_train, y_train,\n",
    "                              batch_size=batch_size,\n",
    "                              verbose=verbose,\n",
    "                              epochs=epochs,\n",
    "                              validation_data=(X_validation, y_validation),\n",
    "                              shuffle=True,\n",
    "                              callbacks=[myCallback()])\n",
    "        accuracy_validation_list.append(dd_model.evaluate(X_validation, y_validation, verbose=0)[1])\n",
    "        accuracy_train_list.append(dd_model.evaluate(X_train, y_train, verbose=0)[1])\n",
    "\n",
    "    accuracy_train_dict.update({experiment: accuracy_train_list})\n",
    "    accuracy_validation_dict.update({experiment: accuracy_validation_list})"
   ]
  },
  {
   "cell_type": "code",
   "execution_count": 194,
   "id": "7c46b5d0",
   "metadata": {},
   "outputs": [
    {
     "data": {
      "text/html": [
       "<div>\n",
       "<style scoped>\n",
       "    .dataframe tbody tr th:only-of-type {\n",
       "        vertical-align: middle;\n",
       "    }\n",
       "\n",
       "    .dataframe tbody tr th {\n",
       "        vertical-align: top;\n",
       "    }\n",
       "\n",
       "    .dataframe thead th {\n",
       "        text-align: right;\n",
       "    }\n",
       "</style>\n",
       "<table border=\"1\" class=\"dataframe\">\n",
       "  <thead>\n",
       "    <tr style=\"text-align: right;\">\n",
       "      <th></th>\n",
       "      <th>params</th>\n",
       "      <th>accuracy</th>\n",
       "      <th>set_type</th>\n",
       "    </tr>\n",
       "  </thead>\n",
       "  <tbody>\n",
       "    <tr>\n",
       "      <th>0</th>\n",
       "      <td>None</td>\n",
       "      <td>0.445453</td>\n",
       "      <td>train</td>\n",
       "    </tr>\n",
       "    <tr>\n",
       "      <th>1</th>\n",
       "      <td>None</td>\n",
       "      <td>0.441839</td>\n",
       "      <td>train</td>\n",
       "    </tr>\n",
       "    <tr>\n",
       "      <th>2</th>\n",
       "      <td>None</td>\n",
       "      <td>0.436851</td>\n",
       "      <td>train</td>\n",
       "    </tr>\n",
       "    <tr>\n",
       "      <th>3</th>\n",
       "      <td>None</td>\n",
       "      <td>0.437483</td>\n",
       "      <td>train</td>\n",
       "    </tr>\n",
       "    <tr>\n",
       "      <th>4</th>\n",
       "      <td>None</td>\n",
       "      <td>0.445524</td>\n",
       "      <td>train</td>\n",
       "    </tr>\n",
       "  </tbody>\n",
       "</table>\n",
       "</div>"
      ],
      "text/plain": [
       "  params  accuracy set_type\n",
       "0   None  0.445453    train\n",
       "1   None  0.441839    train\n",
       "2   None  0.436851    train\n",
       "3   None  0.437483    train\n",
       "4   None  0.445524    train"
      ]
     },
     "execution_count": 194,
     "metadata": {},
     "output_type": "execute_result"
    }
   ],
   "source": [
    "df_to_plot2 = pd.DataFrame(\n",
    "                        {'params': [key for key in accuracy_train_dict.keys() for _ in range(5)] + \\\n",
    "                                   [key for key in accuracy_validation_dict.keys() for _ in range(5)], \n",
    "                        'accuracy': [val[i] for val in accuracy_train_dict.values() for i in range(5)] + \\\n",
    "                                    [val[i] for val in accuracy_validation_dict.values() for i in range(5)],\n",
    "                        'set_type': ['train']*len(accuracy_train_dict.keys())*5 + \\\n",
    "                                ['validation']*len(accuracy_validation_dict.keys())*5}\n",
    "                         )\n",
    "\n",
    "df_to_plot2.head()"
   ]
  },
  {
   "cell_type": "code",
   "execution_count": 196,
   "id": "12c25ccc",
   "metadata": {},
   "outputs": [
    {
     "data": {
      "image/png": "[encoded data removed]",
      "text/plain": [
       "<Figure size 1080x864 with 1 Axes>"
      ]
     },
     "metadata": {
      "needs_background": "light"
     },
     "output_type": "display_data"
    }
   ],
   "source": [
    "fig2, ax2 = plt.subplots(figsize=(15, 12))\n",
    "sns.stripplot(\n",
    "           data=df_to_plot2,\n",
    "           x='params', \n",
    "           y='accuracy', \n",
    "           hue='set_type',\n",
    "           jitter=True, \n",
    "           marker='o', \n",
    "           ax=ax2\n",
    "            )\n",
    "plt.xticks(rotation=90)\n",
    "plt.show()"
   ]
  },
  {
   "cell_type": "markdown",
   "id": "44fd2d2d",
   "metadata": {},
   "source": [
    "As you can see:\n",
    "\n",
    "1. Dropout helps to reduce the overfitting leading to the clouds representing the accuracy of the train and validation sets overlapping.\n",
    "2. The overfitting is specially reduce when the first hidden layer is subject to dropout, but the accuracy is drastically decrease around 25% for 10 epochs.\n",
    "3. If the second and third hidden layers are subject to dropout could represent a good trade-off between accuracy and overfitting."
   ]
  },
  {
   "cell_type": "markdown",
   "id": "675b0514",
   "metadata": {},
   "source": [
    "#### 3-hidden-layer ANNC (2048-512-128) with dropout on the second and third layer: 0.1, 0.2, 0.3, 0.4, and 0.5 dropout rates"
   ]
  },
  {
   "cell_type": "code",
   "execution_count": 197,
   "id": "09b8e28d",
   "metadata": {},
   "outputs": [
    {
     "name": "stdout",
     "output_type": "stream",
     "text": [
      "0.1\n",
      "0.2\n",
      "0.3\n",
      "0.4\n",
      "0.5\n"
     ]
    }
   ],
   "source": [
    "accuracy_train_dict = {}\n",
    "accuracy_validation_dict = {}\n",
    "\n",
    "experiments = {'0.1': 0.1,\n",
    "             '0.2': 0.2,\n",
    "             '0.3': 0.3,\n",
    "             '0.4': 0.4,\n",
    "             '0.5': 0.5}\n",
    "\n",
    "for experiment, dropout_rate in experiments.items():\n",
    "\n",
    "    print(experiment)\n",
    "\n",
    "    model_params = {'units_per_layer': (2048, 512, 128),\n",
    "            'dropout': (False, True, True),\n",
    "            'dropout_rate': dropout_rate,\n",
    "            'hidden_layers_activation': 'relu',\n",
    "            'learning_rate': 0.0001,\n",
    "            'beta_1': 0.9,\n",
    "            'beta_2': 0.999,\n",
    "            'epochs': 10,\n",
    "            'batch_size': 32,\n",
    "            'verbose': 0}\n",
    "\n",
    "    epochs = model_params['epochs']\n",
    "    batch_size = model_params['batch_size']\n",
    "    verbose = model_params['verbose']\n",
    "    model_params.update({'input_shape': X_balanced.shape[1],\n",
    "                         'output_shape': 8})\n",
    "    model_params = {par: val for par, val in model_params.items() if par not in ['epochs', 'batch_size', 'verbose']}\n",
    "\n",
    "    accuracy_train_list = []\n",
    "    accuracy_validation_list = []\n",
    "\n",
    "    skf = StratifiedKFold(n_splits=5, shuffle=True)\n",
    "\n",
    "    for train_index, validation_index in skf.split(X_balanced, y_balanced):\n",
    "        X_train, X_validation = X_balanced[train_index], X_balanced[validation_index]\n",
    "        y_train, y_validation = y_balanced[train_index], y_balanced[validation_index]\n",
    "        dd_model = annclassifier(**model_params)\n",
    "        hist = dd_model.fit(X_train, y_train,\n",
    "                              batch_size=batch_size,\n",
    "                              verbose=verbose,\n",
    "                              epochs=epochs,\n",
    "                              validation_data=(X_validation, y_validation),\n",
    "                              shuffle=True,\n",
    "                              callbacks=[myCallback()])\n",
    "        accuracy_validation_list.append(dd_model.evaluate(X_validation, y_validation, verbose=0)[1])\n",
    "        accuracy_train_list.append(dd_model.evaluate(X_train, y_train, verbose=0)[1])\n",
    "\n",
    "    accuracy_train_dict.update({experiment: accuracy_train_list})\n",
    "    accuracy_validation_dict.update({experiment: accuracy_validation_list})"
   ]
  },
  {
   "cell_type": "code",
   "execution_count": 198,
   "id": "fe7b1fb8",
   "metadata": {},
   "outputs": [
    {
     "data": {
      "text/html": [
       "<div>\n",
       "<style scoped>\n",
       "    .dataframe tbody tr th:only-of-type {\n",
       "        vertical-align: middle;\n",
       "    }\n",
       "\n",
       "    .dataframe tbody tr th {\n",
       "        vertical-align: top;\n",
       "    }\n",
       "\n",
       "    .dataframe thead th {\n",
       "        text-align: right;\n",
       "    }\n",
       "</style>\n",
       "<table border=\"1\" class=\"dataframe\">\n",
       "  <thead>\n",
       "    <tr style=\"text-align: right;\">\n",
       "      <th></th>\n",
       "      <th>params</th>\n",
       "      <th>accuracy</th>\n",
       "      <th>set_type</th>\n",
       "    </tr>\n",
       "  </thead>\n",
       "  <tbody>\n",
       "    <tr>\n",
       "      <th>0</th>\n",
       "      <td>0.1</td>\n",
       "      <td>0.434521</td>\n",
       "      <td>train</td>\n",
       "    </tr>\n",
       "    <tr>\n",
       "      <th>1</th>\n",
       "      <td>0.1</td>\n",
       "      <td>0.434973</td>\n",
       "      <td>train</td>\n",
       "    </tr>\n",
       "    <tr>\n",
       "      <th>2</th>\n",
       "      <td>0.1</td>\n",
       "      <td>0.436038</td>\n",
       "      <td>train</td>\n",
       "    </tr>\n",
       "    <tr>\n",
       "      <th>3</th>\n",
       "      <td>0.1</td>\n",
       "      <td>0.432063</td>\n",
       "      <td>train</td>\n",
       "    </tr>\n",
       "    <tr>\n",
       "      <th>4</th>\n",
       "      <td>0.1</td>\n",
       "      <td>0.438522</td>\n",
       "      <td>train</td>\n",
       "    </tr>\n",
       "  </tbody>\n",
       "</table>\n",
       "</div>"
      ],
      "text/plain": [
       "  params  accuracy set_type\n",
       "0    0.1  0.434521    train\n",
       "1    0.1  0.434973    train\n",
       "2    0.1  0.436038    train\n",
       "3    0.1  0.432063    train\n",
       "4    0.1  0.438522    train"
      ]
     },
     "execution_count": 198,
     "metadata": {},
     "output_type": "execute_result"
    }
   ],
   "source": [
    "df_to_plot3 = pd.DataFrame(\n",
    "                        {'params': [key for key in accuracy_train_dict.keys() for _ in range(5)] + \\\n",
    "                                   [key for key in accuracy_validation_dict.keys() for _ in range(5)], \n",
    "                        'accuracy': [val[i] for val in accuracy_train_dict.values() for i in range(5)] + \\\n",
    "                                    [val[i] for val in accuracy_validation_dict.values() for i in range(5)],\n",
    "                        'set_type': ['train']*len(accuracy_train_dict.keys())*5 + \\\n",
    "                                ['validation']*len(accuracy_validation_dict.keys())*5}\n",
    "                         )\n",
    "\n",
    "df_to_plot3.head()"
   ]
  },
  {
   "cell_type": "code",
   "execution_count": 199,
   "id": "559dadf4",
   "metadata": {},
   "outputs": [
    {
     "data": {
      "image/png": "[encoded data removed]",
      "text/plain": [
       "<Figure size 1080x864 with 1 Axes>"
      ]
     },
     "metadata": {
      "needs_background": "light"
     },
     "output_type": "display_data"
    }
   ],
   "source": [
    "fig3, ax3 = plt.subplots(figsize=(15, 12))\n",
    "sns.stripplot(\n",
    "           data=df_to_plot3,\n",
    "           x='params', \n",
    "           y='accuracy', \n",
    "           hue='set_type',\n",
    "           jitter=True, \n",
    "           marker='o', \n",
    "           ax=ax3\n",
    "            )\n",
    "plt.xticks(rotation=90)\n",
    "plt.show()"
   ]
  },
  {
   "cell_type": "markdown",
   "id": "f4e0b4ae",
   "metadata": {},
   "source": [
    "As can be seen, increasing the dropout rate above 0.2 may not significantly increase the accuracy of validation."
   ]
  },
  {
   "cell_type": "markdown",
   "id": "71ca3dae",
   "metadata": {},
   "source": [
    "#### 3-hidden-layer ANNC (2048-512-128) with dropout on the second and third layer with a dropout rate of 0.2: learning rates 0.00001, 0.0001, and 0.001"
   ]
  },
  {
   "cell_type": "code",
   "execution_count": 201,
   "id": "658ddfd0",
   "metadata": {},
   "outputs": [
    {
     "name": "stdout",
     "output_type": "stream",
     "text": [
      "Learning rate 0.00001\n",
      "Learning rate 0.0001\n",
      "Learning rate 0.001\n"
     ]
    }
   ],
   "source": [
    "accuracy_train_dict = {}\n",
    "accuracy_validation_dict = {}\n",
    "\n",
    "experiments = {'Learning rate 0.00001': 0.00001,\n",
    "             'Learning rate 0.0001': 0.0001,\n",
    "             'Learning rate 0.001': 0.001}\n",
    "\n",
    "for experiment, lr_rate in experiments.items():\n",
    "\n",
    "    print(experiment)\n",
    "\n",
    "    model_params = {'units_per_layer': (2048, 512, 128),\n",
    "            'dropout': (False, True, True),\n",
    "            'dropout_rate': 0.2,\n",
    "            'hidden_layers_activation': 'relu',\n",
    "            'learning_rate': lr_rate,\n",
    "            'beta_1': 0.9,\n",
    "            'beta_2': 0.999,\n",
    "            'epochs': 10,\n",
    "            'batch_size': 32,\n",
    "            'verbose': 0}\n",
    "\n",
    "    epochs = model_params['epochs']\n",
    "    batch_size = model_params['batch_size']\n",
    "    verbose = model_params['verbose']\n",
    "    model_params.update({'input_shape': X_balanced.shape[1],\n",
    "                         'output_shape': 8})\n",
    "    model_params = {par: val for par, val in model_params.items() if par not in ['epochs', 'batch_size', 'verbose']}\n",
    "\n",
    "    accuracy_train_list = []\n",
    "    accuracy_validation_list = []\n",
    "\n",
    "    skf = StratifiedKFold(n_splits=5, shuffle=True)\n",
    "\n",
    "    for train_index, validation_index in skf.split(X_balanced, y_balanced):\n",
    "        X_train, X_validation = X_balanced[train_index], X_balanced[validation_index]\n",
    "        y_train, y_validation = y_balanced[train_index], y_balanced[validation_index]\n",
    "        dd_model = annclassifier(**model_params)\n",
    "        hist = dd_model.fit(X_train, y_train,\n",
    "                              batch_size=batch_size,\n",
    "                              verbose=verbose,\n",
    "                              epochs=epochs,\n",
    "                              validation_data=(X_validation, y_validation),\n",
    "                              shuffle=True,\n",
    "                              callbacks=[myCallback()])\n",
    "        accuracy_validation_list.append(dd_model.evaluate(X_validation, y_validation, verbose=0)[1])\n",
    "        accuracy_train_list.append(dd_model.evaluate(X_train, y_train, verbose=0)[1])\n",
    "\n",
    "    accuracy_train_dict.update({experiment: accuracy_train_list})\n",
    "    accuracy_validation_dict.update({experiment: accuracy_validation_list})"
   ]
  },
  {
   "cell_type": "code",
   "execution_count": 202,
   "id": "1b2013d8",
   "metadata": {},
   "outputs": [
    {
     "data": {
      "text/html": [
       "<div>\n",
       "<style scoped>\n",
       "    .dataframe tbody tr th:only-of-type {\n",
       "        vertical-align: middle;\n",
       "    }\n",
       "\n",
       "    .dataframe tbody tr th {\n",
       "        vertical-align: top;\n",
       "    }\n",
       "\n",
       "    .dataframe thead th {\n",
       "        text-align: right;\n",
       "    }\n",
       "</style>\n",
       "<table border=\"1\" class=\"dataframe\">\n",
       "  <thead>\n",
       "    <tr style=\"text-align: right;\">\n",
       "      <th></th>\n",
       "      <th>params</th>\n",
       "      <th>accuracy</th>\n",
       "      <th>set_type</th>\n",
       "    </tr>\n",
       "  </thead>\n",
       "  <tbody>\n",
       "    <tr>\n",
       "      <th>0</th>\n",
       "      <td>Learning rate 0.00001</td>\n",
       "      <td>0.413832</td>\n",
       "      <td>train</td>\n",
       "    </tr>\n",
       "    <tr>\n",
       "      <th>1</th>\n",
       "      <td>Learning rate 0.00001</td>\n",
       "      <td>0.416813</td>\n",
       "      <td>train</td>\n",
       "    </tr>\n",
       "    <tr>\n",
       "      <th>2</th>\n",
       "      <td>Learning rate 0.00001</td>\n",
       "      <td>0.408212</td>\n",
       "      <td>train</td>\n",
       "    </tr>\n",
       "    <tr>\n",
       "      <th>3</th>\n",
       "      <td>Learning rate 0.00001</td>\n",
       "      <td>0.413045</td>\n",
       "      <td>train</td>\n",
       "    </tr>\n",
       "    <tr>\n",
       "      <th>4</th>\n",
       "      <td>Learning rate 0.00001</td>\n",
       "      <td>0.410154</td>\n",
       "      <td>train</td>\n",
       "    </tr>\n",
       "  </tbody>\n",
       "</table>\n",
       "</div>"
      ],
      "text/plain": [
       "                  params  accuracy set_type\n",
       "0  Learning rate 0.00001  0.413832    train\n",
       "1  Learning rate 0.00001  0.416813    train\n",
       "2  Learning rate 0.00001  0.408212    train\n",
       "3  Learning rate 0.00001  0.413045    train\n",
       "4  Learning rate 0.00001  0.410154    train"
      ]
     },
     "execution_count": 202,
     "metadata": {},
     "output_type": "execute_result"
    }
   ],
   "source": [
    "df_to_plot4 = pd.DataFrame(\n",
    "                        {'params': [key for key in accuracy_train_dict.keys() for _ in range(5)] + \\\n",
    "                                   [key for key in accuracy_validation_dict.keys() for _ in range(5)], \n",
    "                        'accuracy': [val[i] for val in accuracy_train_dict.values() for i in range(5)] + \\\n",
    "                                    [val[i] for val in accuracy_validation_dict.values() for i in range(5)],\n",
    "                        'set_type': ['train']*len(accuracy_train_dict.keys())*5 + \\\n",
    "                                ['validation']*len(accuracy_validation_dict.keys())*5}\n",
    "                         )\n",
    "\n",
    "df_to_plot4.head()"
   ]
  },
  {
   "cell_type": "code",
   "execution_count": 203,
   "id": "14e17d3a",
   "metadata": {},
   "outputs": [
    {
     "data": {
      "image/png": "[encoded data removed]",
      "text/plain": [
       "<Figure size 1080x864 with 1 Axes>"
      ]
     },
     "metadata": {
      "needs_background": "light"
     },
     "output_type": "display_data"
    }
   ],
   "source": [
    "fig4, ax4 = plt.subplots(figsize=(15, 12))\n",
    "sns.stripplot(\n",
    "           data=df_to_plot4,\n",
    "           x='params', \n",
    "           y='accuracy', \n",
    "           hue='set_type',\n",
    "           jitter=True, \n",
    "           marker='o', \n",
    "           ax=ax4\n",
    "            )\n",
    "plt.xticks(rotation=90)\n",
    "plt.show()"
   ]
  },
  {
   "cell_type": "markdown",
   "id": "95c37101",
   "metadata": {},
   "source": [
    "Although the learning rate seems to affect the accuracy of the train set, it does not affect so much the validation accuracy. In addition, a high learning rate may lead the optimization to get stuck."
   ]
  },
  {
   "cell_type": "code",
   "execution_count": 204,
   "id": "e8b88513",
   "metadata": {},
   "outputs": [
    {
     "name": "stdout",
     "output_type": "stream",
     "text": [
      "batch size 10\n",
      "batch size 32\n",
      "batch size 50\n",
      "batch size 100\n"
     ]
    }
   ],
   "source": [
    "accuracy_train_dict = {}\n",
    "accuracy_validation_dict = {}\n",
    "\n",
    "experiments = {'batch size 10': 10,\n",
    "             'batch size 32': 32,\n",
    "             'batch size 50': 50,\n",
    "             'batch size 100': 100}\n",
    "\n",
    "for experiment, batch_size in experiments.items():\n",
    "\n",
    "    print(experiment)\n",
    "\n",
    "    model_params = {'units_per_layer': (2048, 512, 128),\n",
    "            'dropout': (False, True, True),\n",
    "            'dropout_rate': 0.2,\n",
    "            'hidden_layers_activation': 'relu',\n",
    "            'learning_rate': 0.0001,\n",
    "            'beta_1': 0.9,\n",
    "            'beta_2': 0.999,\n",
    "            'epochs': 10,\n",
    "            'batch_size': batch_size,\n",
    "            'verbose': 0}\n",
    "\n",
    "    epochs = model_params['epochs']\n",
    "    batch_size = model_params['batch_size']\n",
    "    verbose = model_params['verbose']\n",
    "    model_params.update({'input_shape': X_balanced.shape[1],\n",
    "                         'output_shape': 8})\n",
    "    model_params = {par: val for par, val in model_params.items() if par not in ['epochs', 'batch_size', 'verbose']}\n",
    "\n",
    "    accuracy_train_list = []\n",
    "    accuracy_validation_list = []\n",
    "\n",
    "    skf = StratifiedKFold(n_splits=5, shuffle=True)\n",
    "\n",
    "    for train_index, validation_index in skf.split(X_balanced, y_balanced):\n",
    "        X_train, X_validation = X_balanced[train_index], X_balanced[validation_index]\n",
    "        y_train, y_validation = y_balanced[train_index], y_balanced[validation_index]\n",
    "        dd_model = annclassifier(**model_params)\n",
    "        hist = dd_model.fit(X_train, y_train,\n",
    "                              batch_size=batch_size,\n",
    "                              verbose=verbose,\n",
    "                              epochs=epochs,\n",
    "                              validation_data=(X_validation, y_validation),\n",
    "                              shuffle=True,\n",
    "                              callbacks=[myCallback()])\n",
    "        accuracy_validation_list.append(dd_model.evaluate(X_validation, y_validation, verbose=0)[1])\n",
    "        accuracy_train_list.append(dd_model.evaluate(X_train, y_train, verbose=0)[1])\n",
    "\n",
    "    accuracy_train_dict.update({experiment: accuracy_train_list})\n",
    "    accuracy_validation_dict.update({experiment: accuracy_validation_list})"
   ]
  },
  {
   "cell_type": "code",
   "execution_count": 205,
   "id": "f577e318",
   "metadata": {},
   "outputs": [
    {
     "data": {
      "text/html": [
       "<div>\n",
       "<style scoped>\n",
       "    .dataframe tbody tr th:only-of-type {\n",
       "        vertical-align: middle;\n",
       "    }\n",
       "\n",
       "    .dataframe tbody tr th {\n",
       "        vertical-align: top;\n",
       "    }\n",
       "\n",
       "    .dataframe thead th {\n",
       "        text-align: right;\n",
       "    }\n",
       "</style>\n",
       "<table border=\"1\" class=\"dataframe\">\n",
       "  <thead>\n",
       "    <tr style=\"text-align: right;\">\n",
       "      <th></th>\n",
       "      <th>params</th>\n",
       "      <th>accuracy</th>\n",
       "      <th>set_type</th>\n",
       "    </tr>\n",
       "  </thead>\n",
       "  <tbody>\n",
       "    <tr>\n",
       "      <th>0</th>\n",
       "      <td>batch size 10</td>\n",
       "      <td>0.408592</td>\n",
       "      <td>train</td>\n",
       "    </tr>\n",
       "    <tr>\n",
       "      <th>1</th>\n",
       "      <td>batch size 10</td>\n",
       "      <td>0.414826</td>\n",
       "      <td>train</td>\n",
       "    </tr>\n",
       "    <tr>\n",
       "      <th>2</th>\n",
       "      <td>batch size 10</td>\n",
       "      <td>0.413362</td>\n",
       "      <td>train</td>\n",
       "    </tr>\n",
       "    <tr>\n",
       "      <th>3</th>\n",
       "      <td>batch size 10</td>\n",
       "      <td>0.414943</td>\n",
       "      <td>train</td>\n",
       "    </tr>\n",
       "    <tr>\n",
       "      <th>4</th>\n",
       "      <td>batch size 10</td>\n",
       "      <td>0.412323</td>\n",
       "      <td>train</td>\n",
       "    </tr>\n",
       "  </tbody>\n",
       "</table>\n",
       "</div>"
      ],
      "text/plain": [
       "          params  accuracy set_type\n",
       "0  batch size 10  0.408592    train\n",
       "1  batch size 10  0.414826    train\n",
       "2  batch size 10  0.413362    train\n",
       "3  batch size 10  0.414943    train\n",
       "4  batch size 10  0.412323    train"
      ]
     },
     "execution_count": 205,
     "metadata": {},
     "output_type": "execute_result"
    }
   ],
   "source": [
    "df_to_plot5 = pd.DataFrame(\n",
    "                        {'params': [key for key in accuracy_train_dict.keys() for _ in range(5)] + \\\n",
    "                                   [key for key in accuracy_validation_dict.keys() for _ in range(5)], \n",
    "                        'accuracy': [val[i] for val in accuracy_train_dict.values() for i in range(5)] + \\\n",
    "                                    [val[i] for val in accuracy_validation_dict.values() for i in range(5)],\n",
    "                        'set_type': ['train']*len(accuracy_train_dict.keys())*5 + \\\n",
    "                                ['validation']*len(accuracy_validation_dict.keys())*5}\n",
    "                         )\n",
    "\n",
    "df_to_plot5.head()"
   ]
  },
  {
   "cell_type": "code",
   "execution_count": 206,
   "id": "7cbd0426",
   "metadata": {},
   "outputs": [
    {
     "data": {
      "image/png": "[encoded data removed]",
      "text/plain": [
       "<Figure size 1080x864 with 1 Axes>"
      ]
     },
     "metadata": {
      "needs_background": "light"
     },
     "output_type": "display_data"
    }
   ],
   "source": [
    "fig5, ax5 = plt.subplots(figsize=(15, 12))\n",
    "sns.stripplot(\n",
    "           data=df_to_plot5,\n",
    "           x='params', \n",
    "           y='accuracy', \n",
    "           hue='set_type',\n",
    "           jitter=True, \n",
    "           marker='o', \n",
    "           ax=ax5\n",
    "            )\n",
    "plt.xticks(rotation=90)\n",
    "plt.show()"
   ]
  },
  {
   "cell_type": "markdown",
   "id": "167cebe6",
   "metadata": {},
   "source": [
    "Increasing the batch size would provide better training performance but increasing overfitting, without a noticeable increase in validation performance."
   ]
  },
  {
   "cell_type": "markdown",
   "id": "5a359946",
   "metadata": {},
   "source": [
    "### 9.3. Training with the selected parameters\n",
    "\n",
    "Let's train a model with the following parameters:\n",
    "\n",
    "1. 3 hidden layers with 2048 512, 128 neurons for the first, second and third layers, respectively.\n",
    "2. Dropout for the second and third layer.\n",
    "3. Dropout rate of 0.2.\n",
    "4. relu as the activation function for the hidden layers.\n",
    "5. Learning rate of 0.0001 (typically used).\n",
    "6. Batch size of 10.\n",
    "7. 1000 epochs.\n",
    "8. Callback function to stop the training if the validation accuracy gets a value of at least 70%."
   ]
  },
  {
   "cell_type": "code",
   "execution_count": null,
   "id": "bbd940a7",
   "metadata": {},
   "outputs": [
    {
     "name": "stdout",
     "output_type": "stream",
     "text": [
      "Validation # 1\n"
     ]
    }
   ],
   "source": [
    "model_params = {'units_per_layer': (2048, 512, 128),\n",
    "            'dropout': (False, True, True),\n",
    "            'dropout_rate': 0.2,\n",
    "            'hidden_layers_activation': 'relu',\n",
    "            'learning_rate': 0.0001,\n",
    "            'beta_1': 0.9,\n",
    "            'beta_2': 0.999,\n",
    "            'epochs': 1000,\n",
    "            'batch_size': 10,\n",
    "            'verbose': 0}\n",
    "\n",
    "epochs = model_params['epochs']\n",
    "batch_size = model_params['batch_size']\n",
    "verbose = model_params['verbose']\n",
    "model_params.update({'input_shape': X_balanced.shape[1],\n",
    "                     'output_shape': 8})\n",
    "model_params = {par: val for par, val in model_params.items() if par not in ['epochs', 'batch_size', 'verbose']}\n",
    "\n",
    "accuracy_train_list = []\n",
    "accuracy_validation_list = []\n",
    "\n",
    "skf = StratifiedKFold(n_splits=5, shuffle=True)\n",
    "\n",
    "n = 0\n",
    "for train_index, validation_index in skf.split(X_balanced, y_balanced):\n",
    "    n =+ 1\n",
    "    print(f'Validation # {n}')\n",
    "    X_train, X_validation = X_balanced[train_index], X_balanced[validation_index]\n",
    "    y_train, y_validation = y_balanced[train_index], y_balanced[validation_index]\n",
    "    dd_model = annclassifier(**model_params)\n",
    "    hist = dd_model.fit(X_train, y_train,\n",
    "                          batch_size=batch_size,\n",
    "                          verbose=verbose,\n",
    "                          epochs=epochs,\n",
    "                          validation_data=(X_validation, y_validation),\n",
    "                          shuffle=True,\n",
    "                          callbacks=[myCallback()])\n",
    "    accuracy_validation_list.append(dd_model.evaluate(X_validation, y_validation, verbose=0)[1])\n",
    "    accuracy_train_list.append(dd_model.evaluate(X_train, y_train, verbose=0)[1])"
   ]
  },
  {
   "cell_type": "markdown",
   "id": "a6527930",
   "metadata": {},
   "source": [
    "## 10. External validation"
   ]
  },
  {
   "cell_type": "markdown",
   "id": "b54df8d6",
   "metadata": {},
   "source": [
    "### 10.1. Overfitting/underfitting/optimal"
   ]
  },
  {
   "cell_type": "markdown",
   "id": "611fc7e3",
   "metadata": {},
   "source": [
    "For this part, let's use the non-parametric hypothesis test of Mann Whitney U Test (or Wilcoxon Rank Sum Test) to perform an analysis for overfitting and underfitting of the model."
   ]
  },
  {
   "cell_type": "code",
   "execution_count": null,
   "id": "9d0bf178",
   "metadata": {},
   "outputs": [],
   "source": [
    "def overfitting_underfitting(score_train, score_test):\n",
    "    '''\n",
    "    Funtion to determine overfitting and underfitting\n",
    "    Conditions:\n",
    "    \n",
    "    1. High test accurracy (>= 0.70)\n",
    "    2. Small gap between accucaries\n",
    "    The non-parametric hypothesis test: Mann Whitney U Test (Wilcoxon Rank Sum Test)\n",
    "    H0: The score_train and  score_test are equal\n",
    "    H1: The score_train and  score_test are not equal\n",
    "    5% level of significance (i.e., α=0.05)\n",
    "    '''\n",
    "\n",
    "    mean_score_test = round(np.mean(score_test), 2)\n",
    "    U1, p = mannwhitneyu(score_train,\n",
    "                        score_test,\n",
    "                        method=\"exact\")\n",
    "\n",
    "    if mean_score_test < 0.70:\n",
    "        if p < 0.05:\n",
    "            return 'under-fitting (high bias and high variance)'\n",
    "        else:\n",
    "            return 'under-fitting (high bias)'\n",
    "    else:\n",
    "        if p < 0.05:\n",
    "            return 'over-fitting (high variance)'\n",
    "        else:\n",
    "            return 'optimal-fitting'"
   ]
  },
  {
   "cell_type": "markdown",
   "id": "9fe7efd0",
   "metadata": {},
   "source": [
    "### 10.2. Performance on test set"
   ]
  },
  {
   "cell_type": "markdown",
   "id": "cc4fddfe",
   "metadata": {},
   "source": [
    "## 11. Conclusions"
   ]
  },
  {
   "cell_type": "markdown",
   "id": "ae3eec6a",
   "metadata": {},
   "source": [
    "## 12. Model persistence"
   ]
  }
 ],
 "metadata": {
  "kernelspec": {
   "display_name": "Python 3",
   "language": "python",
   "name": "python3"
  },
  "language_info": {
   "codemirror_mode": {
    "name": "ipython",
    "version": 3
   },
   "file_extension": ".py",
   "mimetype": "text/x-python",
   "name": "python",
   "nbconvert_exporter": "python",
   "pygments_lexer": "ipython3",
   "version": "3.6.15"
  }
 },
 "nbformat": 4,
 "nbformat_minor": 5
}
